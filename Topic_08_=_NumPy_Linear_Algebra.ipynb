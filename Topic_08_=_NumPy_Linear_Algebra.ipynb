{
  "nbformat": 4,
  "nbformat_minor": 0,
  "metadata": {
    "colab": {
      "provenance": [],
      "authorship_tag": "ABX9TyNWfq//dMDxVvKkpNmD5x0D",
      "include_colab_link": true
    },
    "kernelspec": {
      "name": "python3",
      "display_name": "Python 3"
    },
    "language_info": {
      "name": "python"
    }
  },
  "cells": [
    {
      "cell_type": "markdown",
      "metadata": {
        "id": "view-in-github",
        "colab_type": "text"
      },
      "source": [
        "<a href=\"https://colab.research.google.com/github/eisakhan04/Numpy-Course/blob/main/Topic_08_%3D_NumPy_Linear_Algebra.ipynb\" target=\"_parent\"><img src=\"https://colab.research.google.com/assets/colab-badge.svg\" alt=\"Open In Colab\"/></a>"
      ]
    },
    {
      "cell_type": "markdown",
      "source": [
        "# **Topic 08 = NumPy Linear Algebra**\n",
        "NumPy is a powerful library in Python used for scientific computing, especially for working with arrays and matrices. One of the key features of NumPy is its support for linear algebra operations.\n",
        "\n",
        "Linear algebra is a branch of mathematics that deals with linear equations, matrices, and vectors. In NumPy, linear algebra operations are performed using the linalg module. This module contains a wide range of functions for performing various linear algebra operations, such as matrix multiplication, solving linear equations, finding determinants and eigenvalues, and performing singular value decomposition (SVD).\n",
        "\n",
        "Using NumPy's linear algebra capabilities, you can efficiently and accurately perform complex calculations on matrices and arrays, making it a valuable tool for scientific computing and data analysis.\n",
        "\n",
        "Numpy provides the following functions to perform the different algebraic calculations on the input data.\n",
        "\n",
        "**(SN): (Function): (Definition):**\n",
        "\n",
        "1. dot() It is used to calculate the dot product of two arrays.\n",
        "\n",
        "2. vdot() It is used to calculate the dot product of two vectors.\n",
        "\n",
        "3. inner() It is used to calculate the inner product of two arrays.\n",
        "\n",
        "4. matmul() It is used to calculate the matrix multiplication of two arrays.\n",
        "\n",
        "5. det() It is used to calculate the determinant of a matrix.\n",
        "\n",
        "6. solve() It is used to solve the linear matrix equation.\n",
        "\n",
        "7. inv() It is used to calculate the multiplicative inverse of the matrix."
      ],
      "metadata": {
        "id": "dzeA8qvDzkct"
      }
    },
    {
      "cell_type": "markdown",
      "source": [
        "**1.numpy.dot() function**\n",
        "\n",
        "The **numpy.dot()** function is a part of NumPy's linear algebra module that is used to perform matrix multiplication between two arrays. It takes two arrays as input and returns their dot product.\n",
        "\n",
        "The dot product of two arrays is calculated by multiplying the corresponding elements of the arrays and then summing them up. The dot product of two arrays A and B can be denoted by A.B or A*B.\n",
        "\n",
        "The **numpy.dot()** function can be used with arrays of different shapes, as long as the dimensions of the arrays are compatible for matrix multiplication. Specifically, the number of columns in the first array must be equal to the number of rows in the second array. If the shapes of the arrays are not compatible for matrix multiplication, the function will raise a **ValueError**."
      ],
      "metadata": {
        "id": "6kExmkI609iH"
      }
    },
    {
      "cell_type": "markdown",
      "source": [
        "**Example 01**\n",
        "\n",
        "\n"
      ],
      "metadata": {
        "id": "vBn4sc_f1yNJ"
      }
    },
    {
      "cell_type": "code",
      "execution_count": null,
      "metadata": {
        "colab": {
          "base_uri": "https://localhost:8080/"
        },
        "id": "LVmqxGIczZE7",
        "outputId": "26fffbe9-a260-4023-ca08-9b797b43dbd1"
      },
      "outputs": [
        {
          "output_type": "stream",
          "name": "stdout",
          "text": [
            "[[100 200]\n",
            " [ 23  12]]\n",
            "\n",
            "[[10 20]\n",
            " [12 21]]\n",
            "\n",
            "Values of dot product: [[3400 6200]\n",
            " [ 374  712]]\n"
          ]
        }
      ],
      "source": [
        "import numpy as np\n",
        "a = np.array([[100,200],[23,12]])\n",
        "b = np.array([[10,20],[12,21]])\n",
        "print(a)\n",
        "print()\n",
        "print(b)\n",
        "print()\n",
        "dot = np.dot(a,b)\n",
        "print( \"Values of dot product:\", dot)\n"
      ]
    },
    {
      "cell_type": "markdown",
      "source": [
        "\n",
        "**Explanation**\n",
        "\n",
        "This code defines two 2D NumPy arrays a and b, each with 2 rows and 2 columns. It then prints both arrays to the console using the print() function.\n",
        "\n",
        "Next, the code uses the numpy.dot() function to perform matrix multiplication between a and b. The result is stored in a variable named mul.\n",
        "\n",
        "Finally, the code prints a message to the console along with the value of mul using the print() function.\n",
        "\n",
        "The values of the resulting array mul are calculated as follows:\n",
        "\n",
        "mul[0,0] = (100 X 10) + (200 X 12) = 3400\n",
        "\n",
        "mul[0,1] = (100 X 20) + (200 X 21) = 6200\n",
        "\n",
        "mul[1,0] = (23 X 10) + (12 X 12) = 374\n",
        "\n",
        "mul[1,1] = (23 X 20) + (12 X 21) = 712\n",
        "\n",
        "Therefore, the output of print(\"Values of dot product:\", dot ) will be:\n",
        "\n",
        "matrix multiplication: [[3400 6200] [ 374 712]]"
      ],
      "metadata": {
        "id": "M2hDXoe6zik8"
      }
    },
    {
      "cell_type": "code",
      "source": [
        "# Example 02\n",
        "\n",
        "\n",
        "import numpy as np\n",
        "a = np.array([100,200])\n",
        "b = np.array([23,12])\n",
        "dot = np.dot(a,b)\n",
        "print(dot)\n"
      ],
      "metadata": {
        "colab": {
          "base_uri": "https://localhost:8080/"
        },
        "id": "8V9EH7CC3P-A",
        "outputId": "e080bc9f-3a30-4bc1-ddd3-1696c6f22b85"
      },
      "execution_count": null,
      "outputs": [
        {
          "output_type": "stream",
          "name": "stdout",
          "text": [
            "4700\n"
          ]
        }
      ]
    },
    {
      "cell_type": "markdown",
      "source": [
        "     \n",
        "**Explanation**\n",
        "\n",
        "In this example, the array function is used to create two 1D arrays a and b, each with two elements. The values in the arrays are specified using a list.\n",
        "\n",
        "The numpy.dot() function is then used to perform dot product between arrays a and b, and the resulting dot product is stored in the dot variable.\n",
        "\n",
        "Finally, the dot product value is printed to the console using the print() function.\n",
        "\n",
        "So, This is the result of taking the dot product of arrays a and b using the numpy.dot() function. The dot product of two 1D arrays is simply the sum of the element-wise product of the two arrays."
      ],
      "metadata": {
        "id": "h_Nj7Qk43V9m"
      }
    },
    {
      "cell_type": "markdown",
      "source": [
        "**2.numpy.vdot() function**\n",
        "\n",
        "The numpy.vdot() function is a NumPy library function that computes the dot product of two 1D arrays. It returns the dot product of the two input arrays, which is computed as the sum of the element-wise product of the two arrays.\n",
        "\n",
        "Unlike the numpy.dot() function, which can be used to compute the dot product of arrays of any dimension, the numpy.vdot() function is specifically designed to work with 1D arrays only.\n",
        "\n",
        "Here's the syntax for using the numpy.vdot() function:\n",
        "\n",
        "numpy.vdot(a, b)\n",
        "\n",
        "**Example 01**\n",
        "\n",
        "\n"
      ],
      "metadata": {
        "id": "OigjgoGd3lUF"
      }
    },
    {
      "cell_type": "code",
      "source": [
        "import numpy as np\n",
        "a = np.array([[100,200],[23,12]])\n",
        "print(a)\n",
        "b = np.array([[10,20],[12,21]])\n",
        "print(b)\n",
        "print()\n",
        "vdot = np.vdot(a,b)\n",
        "print(\"values of vector dot product:\", vdot)"
      ],
      "metadata": {
        "colab": {
          "base_uri": "https://localhost:8080/"
        },
        "id": "y3D0L7K-3py7",
        "outputId": "9b1e3668-dc57-4807-f4bd-a67cf0a4cc63"
      },
      "execution_count": null,
      "outputs": [
        {
          "output_type": "stream",
          "name": "stdout",
          "text": [
            "[[100 200]\n",
            " [ 23  12]]\n",
            "[[10 20]\n",
            " [12 21]]\n",
            "\n",
            "values of vector dot product: 5528\n"
          ]
        }
      ]
    },
    {
      "cell_type": "markdown",
      "source": [
        "Explanation\n",
        "\n",
        "In this example, the vector dot product of the matrices a and b is calculated as follows:\n",
        "\n",
        "a = [100, 200, 23, 12]\n",
        "\n",
        "b = [10, 20, 12, 21]\n",
        "\n",
        "vdot = a[0] X b[0] + a[1] X b[1] + a[2] X b[2] + a[3] X b[3]\n",
        "\n",
        " = 100 X 10 + 200 X 20 + 23 X 12 + 12 X 21\n",
        "\n",
        " = 5528\n",
        "\n"
      ],
      "metadata": {
        "id": "r4EYLY4b30je"
      }
    },
    {
      "cell_type": "code",
      "source": [
        "# Example 02\n",
        "\n",
        "\n",
        "import numpy as np\n",
        "\n",
        "a = np.array([1 + 2j, 3 + 4j])\n",
        "b = np.array([5 + 6j, 7 + 8j])\n",
        "vdot = np.vdot(a, b)\n",
        "print(vdot)\n"
      ],
      "metadata": {
        "colab": {
          "base_uri": "https://localhost:8080/"
        },
        "id": "Y5qajgNn32-o",
        "outputId": "9e2d1cd7-1d77-4eaa-ced0-c46323c0a7e5"
      },
      "execution_count": null,
      "outputs": [
        {
          "output_type": "stream",
          "name": "stdout",
          "text": [
            "(70-8j)\n"
          ]
        }
      ]
    },
    {
      "cell_type": "markdown",
      "source": [
        "**Explanation**\n",
        "\n",
        "Two complex-valued vectors, a and b, are defined using the np.array() function with the values [1 + 2j, 3 + 4j] and [5 + 6j, 7 + 8j], respectively.\n",
        "\n",
        "The np.vdot() function is then used to calculate the vector dot product of the two vectors a and b. The vector dot product of two vectors a and b is defined as the sum of the element-wise products of the conjugate of the elements of a and the corresponding elements of b. In other words, it is equivalent to taking the dot product of a with the conjugate of b.\n",
        "\n",
        "The result of the vector dot product is stored in the variable vdot, and printed to the console using the print() function.\n",
        "\n",
        "In this example, the vector dot product of the complex vectors a and b is calculated as follows:\n",
        "\n",
        "vdot = (1 - 2j) X (5 + 6j) + (3 - 4j) X (7 + 8j)\n",
        "\n",
        " = (5 + 6j - 10j + 12) + (21 + 24j - 28j + 32)\n",
        "\n",
        " = 17 - 4j + 53 -4j\n",
        "\n",
        " = 70 - 8j"
      ],
      "metadata": {
        "id": "vrF5KZHR35wo"
      }
    },
    {
      "cell_type": "markdown",
      "source": [
        "**3.numpy.inner() function**\n",
        "\n",
        "The numpy.inner() function is a part of the NumPy library in Python, which is used for scientific computing. This function is used to calculate the inner product of two arrays.\n",
        "\n",
        "The inner product of two arrays a and b is defined as the sum of the product of corresponding elements in both arrays. It can also be calculated by multiplying the transpose of a with b or vice versa.\n",
        "\n",
        "**The syntax for using the numpy.inner() function is:**\n",
        "\n",
        "numpy.inner(a, b)\n",
        "\n",
        "where a and b are the input arrays. The function returns the inner product of the two arrays as a scalar value.\n",
        "\n",
        "If a and b are both 1-D arrays, numpy.inner() calculates the dot product of the two arrays. If either of the arrays is multi-dimensional, the product sum will be over the last dimension of the first array and the second-to-last dimension of the second array.\n",
        "\n",
        "The numpy.inner() function can also be used to calculate the inner product of complex arrays. In this case, the complex conjugate of the first array is used.\n",
        "\n",
        "**Example 01**\n",
        "\n",
        "\n"
      ],
      "metadata": {
        "id": "tCxjn8FM4HYo"
      }
    },
    {
      "cell_type": "code",
      "source": [
        "import numpy as np\n",
        "a = np.array([1,2,3,4,5,6])\n",
        "b = np.array([23,23,12,2,1,2])\n",
        "inner = np.inner(a,b)\n",
        "print(inner)"
      ],
      "metadata": {
        "colab": {
          "base_uri": "https://localhost:8080/"
        },
        "id": "kdKS9dcc4Bbp",
        "outputId": "5c1771a4-f64c-4468-b861-081b8c98adf2"
      },
      "execution_count": null,
      "outputs": [
        {
          "output_type": "stream",
          "name": "stdout",
          "text": [
            "130\n"
          ]
        }
      ]
    },
    {
      "cell_type": "markdown",
      "source": [
        "**Explanation**\n",
        "\n",
        "This code defines two NumPy arrays a and b containing six elements each. Then, it uses the numpy.inner() function to calculate the inner product of a and b. The result is stored in a variable named inner.\n",
        "\n",
        "Finally, the code prints the value of inner to the console using the print() function.\n",
        "\n",
        "The output of this code will be a single scalar value, which is the inner product of a and b. This value represents the sum of the product of corresponding elements in both arrays. In this case, it will be:\n",
        "\n",
        "(1 X 23) + (2 X 23) + (3 X 12) + (4 X 2) + (5 X 1) + (6 X 2) = 130\n",
        "\n",
        "Therefore, the output of print(inner) will be 130."
      ],
      "metadata": {
        "id": "MxjbHC6X4Y4Z"
      }
    },
    {
      "cell_type": "markdown",
      "source": [
        "**Example 02**\n",
        "\n",
        "\n",
        "\n",
        "**Explanation**\n",
        "\n",
        "This code defines two NumPy arrays a and b, each with 2 rows and 3 columns. It then prints both arrays to the console using the print() function.\n",
        "\n",
        "Next, the code uses the numpy.inner() function to calculate the inner product of a and b. The result is stored in a variable named inner.\n",
        "\n",
        "Finally, the code prints a message to the console along with the value of inner using the print() function.\n",
        "\n",
        "Since a and b are both 2D arrays, the numpy.inner() function calculates the inner product along the last dimension of the first array and the second-to-last dimension of the second array. In this case, the inner product is calculated for each row of a and each column of b, resulting in a 2x2 array.\n",
        "\n",
        "The values of the resulting array inner are calculated as follows:\n",
        "\n",
        "inner[0,0] = (1 X 23) + (2 X 23) + (3 X 12) = 105\n",
        "\n",
        "inner[0,1] = (1 X 2) + (2 X 1) + (3 X 2) = 10\n",
        "\n",
        "inner[1,0] = (4 X 23) + (5 X 23) + (6 X 12) = 279\n",
        "\n",
        "inner[1,1] = (4 X 2) + (5 X 1) + (6 X 2) = 25"
      ],
      "metadata": {
        "id": "iu18_8235LLo"
      }
    },
    {
      "cell_type": "code",
      "source": [
        "import numpy as np\n",
        "a = np.array([[1,2,3],[4,5,6]])\n",
        "b = np.array([[23,23,12],[2,1,2]])\n",
        "print(a)\n",
        "print()\n",
        "print(b)\n",
        "print()\n",
        "inner = np.inner(a,b)\n",
        "print(\" Values of inner product:\",inner)\n"
      ],
      "metadata": {
        "colab": {
          "base_uri": "https://localhost:8080/"
        },
        "id": "ar-JALWH5KjI",
        "outputId": "19d99796-bd7e-4fc7-cc0e-525579061fd2"
      },
      "execution_count": null,
      "outputs": [
        {
          "output_type": "stream",
          "name": "stdout",
          "text": [
            "[[1 2 3]\n",
            " [4 5 6]]\n",
            "\n",
            "[[23 23 12]\n",
            " [ 2  1  2]]\n",
            "\n",
            " Values of inner product: [[105  10]\n",
            " [279  25]]\n"
          ]
        }
      ]
    },
    {
      "cell_type": "markdown",
      "source": [
        "\n",
        "**4. numpy.matmul() function**\n",
        "\n",
        "The numpy.matmul() function is a part of the NumPy library in Python, which is used for scientific computing. This function is used to perform matrix multiplication between two arrays.\n",
        "\n",
        "The syntax for using the numpy.matmul() function is:\n",
        "\n",
        "numpy.matmul(a, b)\n",
        "\n",
        "where a and b are the input arrays. The function returns the matrix product of the two arrays.\n",
        "\n",
        "The arrays a and b must have compatible shapes for matrix multiplication. Specifically, the number of columns in a must be equal to the number of rows in b.\n",
        "\n",
        "If both a and b are 2-D arrays, then numpy.matmul() gives the same result as the @ operator or the numpy.dot() function.\n",
        "\n",
        "The numpy.matmul() function can also be used to multiply higher-dimensional arrays, as long as the last dimension of a matches the second-to-last dimension of b.\n",
        "\n",
        "If either a or b is a scalar (i.e., a single number), it is treated as a 1-D array.\n",
        "\n",
        "It's important to note that numpy.matmul() is different from numpy.multiply(), which performs element-wise multiplication between two arrays.\n",
        "\n",
        "**Example 01 :Matrix product**\n"
      ],
      "metadata": {
        "id": "M2nYGHPY5o_d"
      }
    },
    {
      "cell_type": "code",
      "source": [
        "import numpy as np\n",
        "a = np.array([[100,200],[23,12]])\n",
        "\n",
        "b = np.array([[10,20],[12,21]])\n",
        "print(a)\n",
        "print()\n",
        "print(b)\n",
        "print()\n",
        "mul = np.matmul(a,b)\n",
        "print(\"matrix multiplication:\", mul)"
      ],
      "metadata": {
        "colab": {
          "base_uri": "https://localhost:8080/"
        },
        "id": "UCAZlaWw5wEc",
        "outputId": "89757c90-ef62-43f1-9c23-db5759a3c791"
      },
      "execution_count": null,
      "outputs": [
        {
          "output_type": "stream",
          "name": "stdout",
          "text": [
            "[[100 200]\n",
            " [ 23  12]]\n",
            "\n",
            "[[10 20]\n",
            " [12 21]]\n",
            "\n",
            "matrix multiplication: [[3400 6200]\n",
            " [ 374  712]]\n"
          ]
        }
      ]
    },
    {
      "cell_type": "markdown",
      "source": [
        "**Explanation**\n",
        "\n",
        "This code defines two 2D NumPy arrays a and b, each with 2 rows and 2 columns. It then prints both arrays to the console using the print() function.\n",
        "\n",
        "Next, the code uses the numpy.matmul() function to perform matrix multiplication between a and b. The result is stored in a variable named mul.\n",
        "\n",
        "Finally, the code prints a message to the console along with the value of mul using the print() function.\n",
        "\n",
        "The values of the resulting array mul are calculated as follows:\n",
        "\n",
        "mul[0,0] = (100 X 10) + (200 X 12) = 3400\n",
        "\n",
        "mul[0,1] = (100 X 20) + (200 X 21) = 6200\n",
        "\n",
        "mul[1,0] = (23 X 10) + (12 X 12) = 374\n",
        "\n",
        "mul[1,1] = (23 X 20) + (12 X 21) = 712\n",
        "\n",
        "Therefore, the output of print(\"matrix multiplication:\", mul) will be:\n",
        "\n",
        "matrix multiplication: [[3400 6200] [ 374 712]]"
      ],
      "metadata": {
        "id": "KGI5qv2Y6Jfs"
      }
    },
    {
      "cell_type": "markdown",
      "source": [
        "**Example 02 Element-wise matrix multiplication**\n",
        "\n",
        "\n",
        "\n",
        "     \n",
        "**Explanation**\n",
        "\n",
        "The code defines two matrices using NumPy library in Python. The first matrix 'a' contains the values 1, 2, 3 in the first row, 4, 5, 6 in the second row, and 7, 8, 9 in the third row. The second matrix 'b' contains the values 9, 8, 7 in the first row, 6, 5, 4 in the second row, and 3, 2, 1 in the third row.\n",
        "\n",
        "The code then multiplies these two matrices element-wise using the NumPy function 'np.multiply()' and stores the result in a new matrix 'c'. The resulting matrix 'c' contains the product of the corresponding elements of matrices 'a' and 'b'.\n",
        "\n",
        "Finally, the code prints out the three matrices - 'a', 'b', and 'c' - using the 'print()' function to display the original matrices and the result of their element-wise multiplication."
      ],
      "metadata": {
        "id": "IocOrDSG6ORo"
      }
    },
    {
      "cell_type": "code",
      "source": [
        "import numpy as np\n",
        "a=np.array([[1,2,3],[4,5,6],[7,8,9]])\n",
        "print(\"Array 1:\",a)\n",
        "print()\n",
        "b=np.array([[9,8,7],[6,5,4],[3,2,1]])\n",
        "print(\"Array 2:\",b)\n",
        "print()\n",
        "c=np.multiply(a,b)\n",
        "print(\"Matrix Multiplication:\",c)\n"
      ],
      "metadata": {
        "colab": {
          "base_uri": "https://localhost:8080/"
        },
        "id": "ou7IXtfV6UFD",
        "outputId": "18246b78-2d72-4513-bb2d-5df164f0016a"
      },
      "execution_count": null,
      "outputs": [
        {
          "output_type": "stream",
          "name": "stdout",
          "text": [
            "Array 1: [[1 2 3]\n",
            " [4 5 6]\n",
            " [7 8 9]]\n",
            "\n",
            "Array 2: [[9 8 7]\n",
            " [6 5 4]\n",
            " [3 2 1]]\n",
            "\n",
            "Matrix Multiplication: [[ 9 16 21]\n",
            " [24 25 24]\n",
            " [21 16  9]]\n"
          ]
        }
      ]
    },
    {
      "cell_type": "markdown",
      "source": [
        "**5.numpy determinant**\n",
        "\n",
        "Numpy is a popular Python library used for scientific computing and data analysis. It provides a variety of mathematical functions and operations, including calculating the determinant of a matrix.\n",
        "\n",
        "The determinant of a matrix is a scalar value that can be computed from the elements of the matrix. It is commonly used in linear algebra and has several applications, such as solving systems of linear equations and calculating eigenvalues and eigenvectors.\n",
        "\n",
        "In numpy, the determinant of a matrix can be calculated using the numpy.linalg.det() function. This function takes a matrix as an argument and returns its determinant as a single scalar value.\n",
        "\n",
        "**Example**\n",
        "\n",
        "\n",
        "\n",
        "**Explanation**\n",
        "\n",
        "The code snippet you provided calculates the determinant of a 2x2 matrix using the numpy library in Python.\n",
        "\n",
        "The matrix used in this example is defined as follows:\n",
        "\n",
        "a = np.array([[1,2],[3,4]])\n",
        "\n",
        "The determinant of this matrix is calculated using the np.linalg.det() function, which is a built-in function in numpy for computing the determinant of a matrix. The function takes the matrix as an argument and returns the determinant as a single value."
      ],
      "metadata": {
        "id": "zmLSwlZb7A8W"
      }
    },
    {
      "cell_type": "code",
      "source": [
        "import numpy as np\n",
        "a = np.array([[1,2],[3,4]])\n",
        "print(np.linalg.det(a))\n"
      ],
      "metadata": {
        "colab": {
          "base_uri": "https://localhost:8080/"
        },
        "id": "N-PqNoaT7Klt",
        "outputId": "15158320-b84c-4f6f-e385-16271ed0c474"
      },
      "execution_count": null,
      "outputs": [
        {
          "output_type": "stream",
          "name": "stdout",
          "text": [
            "-2.0000000000000004\n"
          ]
        }
      ]
    },
    {
      "cell_type": "markdown",
      "source": [
        "**6.numpy.linalg.solve() function**\n",
        "\n",
        "Numpy is a popular Python library used for scientific computing and data analysis. It provides a variety of mathematical functions and operations, including solving systems of linear equations.\n",
        "\n",
        "The numpy.linalg.solve() function is used to solve a system of linear equations of the form Ax = b, where A is a square matrix, x is a column vector, and b is a column vector. The function returns the solution vector x that satisfies the equation.\n",
        "\n",
        "Note that the numpy.linalg.solve() function can only be used to solve systems of linear equations with a square coefficient matrix. If the coefficient matrix is not square, the function will raise a LinAlgError exception.\n",
        "\n",
        "**Example**\n",
        "\n",
        "\n"
      ],
      "metadata": {
        "id": "aVBVygcY7lea"
      }
    },
    {
      "cell_type": "code",
      "source": [
        "import numpy as np\n",
        "a = np.array([[3,2],[1,1]])\n",
        "b = np.array([3,2])\n",
        "print(a)\n",
        "print(b)\n",
        "print()\n",
        "print(np.linalg.solve(a, b))"
      ],
      "metadata": {
        "colab": {
          "base_uri": "https://localhost:8080/"
        },
        "id": "e6du5Qpt7xP3",
        "outputId": "705165dc-689b-43fa-a205-044d4b8b7c7b"
      },
      "execution_count": null,
      "outputs": [
        {
          "output_type": "stream",
          "name": "stdout",
          "text": [
            "[[3 2]\n",
            " [1 1]]\n",
            "[3 2]\n",
            "\n",
            "[-1.  3.]\n"
          ]
        }
      ]
    },
    {
      "cell_type": "markdown",
      "source": [
        "**Explanation**\n",
        "\n",
        "This code snippet is written in Python and uses the numpy library to solve a system of linear equations.\n",
        "\n",
        "First, a 2x2 matrix a is defined using the np.array() function with the values [3, 2] and [1, 1]. Then, a column vector b is defined using the np.array() function with the values [3, 2].\n",
        "\n",
        "Next, the matrix a and vector b are printed to the console using the print() function. The print() function is called with an empty () after print(b) to add a blank line for clarity.\n",
        "\n",
        "Finally, the np.linalg.solve() function is used to solve the system of linear equations Ax=b, where A is the matrix a and b is the vector b. The solution vector x is stored in the variable x and printed to the console using the print() function.\n",
        "\n",
        "In this example, the np.linalg.solve() function is used to solve the system of linear equations 3x + 2y = 3 and x + y = 2. The solution vector x is [-1, 3], which satisfies both equations.\n",
        "\n"
      ],
      "metadata": {
        "id": "Ug4hJ5T87-3T"
      }
    },
    {
      "cell_type": "markdown",
      "source": [
        "**7. numpy.linalg.inv() function**\n",
        "\n",
        "Numpy is a popular Python library used for scientific computing and data analysis. It provides a variety of mathematical functions and operations, including matrix inversion.\n",
        "\n",
        "The numpy.linalg.inv() function is used to calculate the inverse of a square matrix. The inverse of a matrix is a matrix that, when multiplied by the original matrix, produces the identity matrix.\n",
        "\n",
        "Here's an example of how to use the numpy.linalg.inv() function to calculate the inverse of a matrix:\n",
        "\n",
        "Note that the numpy.linalg.inv() function can only be used to calculate the inverse of square matrices that are invertible (i.e., matrices with a nonzero determinant). If the matrix is not invertible, the function will raise a LinAlgError exception."
      ],
      "metadata": {
        "id": "YfWuGB008Gl0"
      }
    },
    {
      "cell_type": "markdown",
      "source": [
        "**Example**\n",
        "\n",
        "\n",
        "\n",
        "**Explanation**\n",
        "\n",
        "The code snippet you provided is calculating the inverse of a 2x2 matrix using the numpy library in Python.\n",
        "\n",
        "The matrix used in this example is defined as follows:\n",
        "\n",
        "a = np.array([[1,2],[3,4]])\n",
        "\n",
        "The inverse of this matrix is calculated using the np.linalg.inv() function, which is a built-in function in numpy for computing the inverse of a matrix. The function takes the matrix as an argument and returns the inverse matrix as a numpy array.\n",
        "\n",
        "In this case, the inverse of the matrix 'a' is:\n",
        "\n",
        "[[-2. , 1. ], [ 1.5, -0.5]]\n",
        "\n",
        "The result is a numpy array containing the values of the inverse matrix. The code also prints the original matrix 'a' and the inverse matrix 'b' for comparison purposes.\n",
        "\n",
        "Note that not all matrices have an inverse. A matrix must be square and non-singular (i.e., its determinant must be non-zero) to have an inverse."
      ],
      "metadata": {
        "id": "9Y4nreUQ8P-A"
      }
    },
    {
      "cell_type": "code",
      "source": [
        "import numpy as np\n",
        "a = np.array([[1,2],[3,4]])\n",
        "print(\"Original array:\\n\",a)\n",
        "b = np.linalg.inv(a)\n",
        "print(\"Inverse:\\n\",b)\n"
      ],
      "metadata": {
        "colab": {
          "base_uri": "https://localhost:8080/"
        },
        "id": "WTKnQidn8V0U",
        "outputId": "14c9e23c-84a1-4f72-8b7e-55437a5447dc"
      },
      "execution_count": null,
      "outputs": [
        {
          "output_type": "stream",
          "name": "stdout",
          "text": [
            "Original array:\n",
            " [[1 2]\n",
            " [3 4]]\n",
            "Inverse:\n",
            " [[-2.   1. ]\n",
            " [ 1.5 -0.5]]\n"
          ]
        }
      ]
    }
  ]
}