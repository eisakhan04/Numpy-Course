{
  "nbformat": 4,
  "nbformat_minor": 0,
  "metadata": {
    "colab": {
      "provenance": [],
      "authorship_tag": "ABX9TyN2ZatEac1uYfnsthzPJ9Ts",
      "include_colab_link": true
    },
    "kernelspec": {
      "name": "python3",
      "display_name": "Python 3"
    },
    "language_info": {
      "name": "python"
    }
  },
  "cells": [
    {
      "cell_type": "markdown",
      "metadata": {
        "id": "view-in-github",
        "colab_type": "text"
      },
      "source": [
        "<a href=\"https://colab.research.google.com/github/eisakhan04/Numpy-Course/blob/main/Topic_17_Numpy_iterating.ipynb\" target=\"_parent\"><img src=\"https://colab.research.google.com/assets/colab-badge.svg\" alt=\"Open In Colab\"/></a>"
      ]
    },
    {
      "cell_type": "markdown",
      "source": [
        "# **Topic 17: Numpy iterating**\n",
        "\n",
        "NumPy is a Python library used for numerical and scientific computing. It provides a powerful array object for efficiently storing and manipulating large arrays of data. When working with NumPy arrays, we often need to go through each element of the array and perform some computation or operation on it. This is called array iteration.\n",
        "\n",
        "We can iterate over a NumPy array using loops such as for and while loops, or using built-in functions like nditer() and flat(). nditer() allows us to iterate over an array in a specific order, while flat() returns a one-dimensional iterator that iterates over all the elements of the array.\n",
        "\n",
        "Efficient iteration over NumPy arrays is essential for fast and reliable code, especially when working with large datasets. Therefore, it's important to choose the right method of iteration that suits our needs and optimizes our code."
      ],
      "metadata": {
        "id": "WcTLl4DLAopr"
      }
    },
    {
      "cell_type": "code",
      "execution_count": 2,
      "metadata": {
        "id": "aFhiWOENAlRQ",
        "colab": {
          "base_uri": "https://localhost:8080/"
        },
        "outputId": "d0e0371e-30f7-4b33-b5c3-c7af61a954df"
      },
      "outputs": [
        {
          "output_type": "stream",
          "name": "stdout",
          "text": [
            "2\n",
            "3\n",
            "5\n",
            "7\n",
            "6\n"
          ]
        }
      ],
      "source": [
        "import numpy as np\n",
        "\n",
        "a = np.array([2,3,5,7,6])\n",
        "for x in a:\n",
        "  print(x)"
      ]
    },
    {
      "cell_type": "code",
      "source": [
        "a = np.array([[2,3,5,7],[8,9,10,11],[12,13,14,15]])\n",
        "for x in a:\n",
        "  print(x)"
      ],
      "metadata": {
        "id": "zPzO_E1GAy1p",
        "colab": {
          "base_uri": "https://localhost:8080/"
        },
        "outputId": "3fc62266-aba1-4d52-ce8f-b6868546fdda"
      },
      "execution_count": 3,
      "outputs": [
        {
          "output_type": "stream",
          "name": "stdout",
          "text": [
            "[2 3 5 7]\n",
            "[ 8  9 10 11]\n",
            "[12 13 14 15]\n"
          ]
        }
      ]
    },
    {
      "cell_type": "code",
      "source": [
        "a = np.array([[2,3,5,7],[8,9,10,11],[12,13,14,15]])\n",
        "for x in np.nditer(a):\n",
        "  print(x)"
      ],
      "metadata": {
        "id": "1qz6MonkA4J6",
        "colab": {
          "base_uri": "https://localhost:8080/"
        },
        "outputId": "3fde7b82-873f-4151-fb7a-ded84941e2c4"
      },
      "execution_count": 7,
      "outputs": [
        {
          "output_type": "stream",
          "name": "stdout",
          "text": [
            "2\n",
            "3\n",
            "5\n",
            "7\n",
            "8\n",
            "9\n",
            "10\n",
            "11\n",
            "12\n",
            "13\n",
            "14\n",
            "15\n"
          ]
        }
      ]
    },
    {
      "cell_type": "markdown",
      "source": [
        "Explanation\n",
        "\n",
        "It creates a two-dimensional NumPy array called \"arr\" with three rows and two columns. Each row contains two elements.\n",
        "\n",
        "The for loop then iterates over each element in the array using the \"np.nditer()\" function. This function is used to iterate over multi-dimensional arrays in a specific order, which in this case is the default order (row-major).\n",
        "\n",
        "The print statement inside the loop prints out each element of the array, one at a time, to the console.\n",
        "\n",
        "So the output of this code would be:\n",
        "\n",
        "1 2 3 4 5 6\n",
        "\n",
        "Note that the elements are printed out in the order they are accessed by the iterator, which is row-major order in this case.\n",
        "\n",
        "**nditer means**\n",
        "\n",
        "where(\"nditer\" is a term commonly used in programming, specifically in Python's NumPy library. It refers to a function that is used to iterate over arrays in a multidimensional manner. The \"nd\" in \"nditer\" stands for \"n-dimensional\", meaning that the function can handle arrays with any number of dimensions. The \"iter\" part of the name indicates that the function is used for iteration purposes, i.e., to traverse through the array elements one by one. The nditer function allows for various iteration behaviors such as specific order, skipping or changing elements, etc.)"
      ],
      "metadata": {
        "id": "mex48VTBwmKO"
      }
    },
    {
      "cell_type": "markdown",
      "source": [
        "**flipud meand flip and ud(upp&down)**\n",
        "\n",
        "flipud means\n",
        "\n",
        "wherer(\"flipud\" is a term commonly used in programming, specifically in Python's NumPy library. It refers to a function that is used to flip or invert an array along its vertical axis, also known as the y-axis. The \"ud\" in \"flipud\" stands for \"up-down\", indicating that the function flips the array vertically. The flipud function can be used to reverse the order of rows in a 2-dimensional array or to flip the order of elements in a 1-dimensional array along the vertical axis.)"
      ],
      "metadata": {
        "id": "iDYfBsB8BKZW"
      }
    },
    {
      "cell_type": "code",
      "source": [
        "a = np.array([2,3,5,7,6])\n",
        "for x in np.flipud(a):\n",
        "  print(x)"
      ],
      "metadata": {
        "id": "Xl02pgEnBMAY",
        "colab": {
          "base_uri": "https://localhost:8080/"
        },
        "outputId": "02e670d1-a641-4826-ee29-1425e33a5652"
      },
      "execution_count": 6,
      "outputs": [
        {
          "output_type": "stream",
          "name": "stdout",
          "text": [
            "6\n",
            "7\n",
            "5\n",
            "3\n",
            "2\n"
          ]
        }
      ]
    },
    {
      "cell_type": "code",
      "source": [
        "import numpy as np\n",
        "arr = np.array([[1, 2], [3, 4], [5, 6]])\n",
        "print(\"original array:\",arr)\n",
        "print()\n",
        "for x in np.nditer(arr, order='F'):\n",
        "  print(x)\n"
      ],
      "metadata": {
        "id": "j-GJESMkx-t2"
      },
      "execution_count": null,
      "outputs": []
    },
    {
      "cell_type": "markdown",
      "source": [
        "**Explanation**\n",
        "\n",
        "It creates a two-dimensional NumPy array called \"arr\" with three rows and two columns. Each row contains two elements.\n",
        "\n",
        "The for loop uses the \"np.nditer()\" function to iterate over the array in column-major order. The 'F' parameter specifies that the order of iteration should be column-major, which means that the loop will iterate over each column first, and then move to the next column.\n",
        "\n",
        "The print statement inside the loop prints out each element of the array, one at a time, to the console.\n",
        "\n",
        "So the output of this code would be:\n",
        "\n",
        "1 3 5 2 4 6\n",
        "\n",
        "Note that the elements are printed out in the order they are accessed by the iterator, which is column-major order in this case."
      ],
      "metadata": {
        "id": "fU45D0GJyrPH"
      }
    },
    {
      "cell_type": "code",
      "source": [
        "import numpy as np\n",
        "arr = np.array([[1, 2], [3, 4], [5, 6]])\n",
        "for x in np.nditer(arr, order='C'):\n",
        "  print(x)"
      ],
      "metadata": {
        "colab": {
          "base_uri": "https://localhost:8080/"
        },
        "id": "M3ECS_ZeyzCn",
        "outputId": "b0022ede-9075-467d-9a8f-942975833d11"
      },
      "execution_count": 11,
      "outputs": [
        {
          "output_type": "stream",
          "name": "stdout",
          "text": [
            "1\n",
            "2\n",
            "3\n",
            "4\n",
            "5\n",
            "6\n"
          ]
        }
      ]
    },
    {
      "cell_type": "markdown",
      "source": [
        "**Explanation**\n",
        "\n",
        "It creates a two-dimensional NumPy array called \"arr\" with three rows and two columns. Each row contains two elements.\n",
        "\n",
        "The for loop uses the \"np.nditer()\" function to iterate over the array in row-major order. The 'C' parameter specifies that the order of iteration should be row-major, which means that the loop will iterate over each row first, and then move to the next row.\n",
        "\n",
        "The print statement inside the loop prints out each element of the array, one at a time, to the console.\n",
        "\n",
        "So the output of this code would be:\n",
        "\n",
        "1 2 3 4 5 6\n",
        "\n",
        "Note that the elements are printed out in the order they are accessed by the iterator, which is row-major order in this case. This is the default order for the iterator."
      ],
      "metadata": {
        "id": "djDF7X26y6c_"
      }
    },
    {
      "cell_type": "code",
      "source": [
        "\n",
        "import numpy as np\n",
        "arr = np.array([[1, 2], [3, 4], [5, 6]])\n",
        "for x in np.nditer(arr, op_flags=['readwrite']):\n",
        "  x[...] = 2 * x;\n",
        "  print(x,end = ' ')"
      ],
      "metadata": {
        "colab": {
          "base_uri": "https://localhost:8080/"
        },
        "id": "MFvwvBHcy6Ma",
        "outputId": "aadb3975-a8b0-4ec4-96eb-edbd6dfbae7d"
      },
      "execution_count": 12,
      "outputs": [
        {
          "output_type": "stream",
          "name": "stdout",
          "text": [
            "2 4 6 8 10 12 "
          ]
        }
      ]
    },
    {
      "cell_type": "markdown",
      "source": [
        "**Explanation**\n",
        "\n",
        "This is a Python code that uses the NumPy library. It defines a two-dimensional NumPy array called \"arr\" that contains three rows and two columns.\n",
        "\n",
        "The code then uses a loop to iterate over all the elements in the array using the \"np.nditer\" function. The \"op_flags=['readwrite']\" argument specifies that the loop can both read and write to each element.\n",
        "\n",
        "Inside the loop, each element is multiplied by 2 using the expression \"2 * x\", and then the updated value is stored back into the original element using the notation \"x[...] = 2 * x\".\n",
        "\n",
        "Finally, the loop prints out each element in the updated array on a single line, separated by spaces, using the \"print\" function with the argument \"end = ' '\"."
      ],
      "metadata": {
        "id": "X2aQY6s6zF3D"
      }
    },
    {
      "cell_type": "code",
      "source": [
        "import numpy as np\n",
        "arr = np.array([[1, 2], [3, 4], [5, 6]])\n",
        "for x in np.nditer(arr, op_flags=['readwrite']):\n",
        "  x[...] = x * 2\n",
        "print(arr)"
      ],
      "metadata": {
        "colab": {
          "base_uri": "https://localhost:8080/"
        },
        "id": "9SBNdOAYzKLM",
        "outputId": "931ae3d0-7575-4896-f288-f39252132259"
      },
      "execution_count": 13,
      "outputs": [
        {
          "output_type": "stream",
          "name": "stdout",
          "text": [
            "[[ 2  4]\n",
            " [ 6  8]\n",
            " [10 12]]\n"
          ]
        }
      ]
    },
    {
      "cell_type": "markdown",
      "source": [
        "**Explanation**\n",
        "\n",
        "This is a Python code that uses the NumPy library. It defines a two-dimensional NumPy array called \"arr\" that contains three rows and two columns.\n",
        "\n",
        "The code then uses a loop to iterate over all the elements in the array using the \"np.nditer\" function. The \"op_flags=['readwrite']\" argument specifies that the loop can both read and write to each element.\n",
        "\n",
        "Inside the loop, each element is multiplied by 2 using the expression \"x * 2\", and then the updated value is stored back into the original element using the notation \"x[...] = x * 2\".\n",
        "\n",
        "Finally, after the loop is completed, the updated \"arr\" array is printed using the \"print\" function. This will show the updated values for each element in the array, where each element has been multiplied by 2."
      ],
      "metadata": {
        "id": "BZKiKZlizLRF"
      }
    }
  ]
}