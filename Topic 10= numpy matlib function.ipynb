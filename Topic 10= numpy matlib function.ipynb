{
 "cells": [
  {
   "cell_type": "markdown",
   "metadata": {},
   "source": [
    "# **Topic 10: numpy matlib**\n",
    "\n",
    "The matlib function in NumPy is a legacy function that provides a MATLAB-like interface to NumPy arrays. It is not recommended to use matlib in new code, as it is not as efficient as using the NumPy functions directly. However, it can be useful for porting code from MATLAB to NumPy.\n",
    "\n",
    "The matlib function provides a number of functions that are similar to the MATLAB functions of the same name. For example, the matlib.rand() function returns a matrix of random numbers, and the matlib.eye() function returns the identity matrix"
   ]
  },
  {
   "cell_type": "markdown",
   "metadata": {},
   "source": [
    "\n",
    "The matlib function in NumPy is a legacy function that provides a MATLAB-like interface to NumPy arrays. It is not recommended to use matlib in new code, as it is not as efficient as using the NumPy functions directly. However, it can be useful for porting code from MATLAB to NumPy.\n",
    "\n",
    "The matlib function provides a number of functions that are similar to the MATLAB functions of the same name. For example, the matlib.rand() function returns a matrix of random numbers, and the matlib.eye() function returns the identity matrix.\n",
    "\n",
    "The matlib function is not part of the NumPy standard library, so it must be imported explicitly. To do this, you can use the following code:\n",
    "\n",
    "Python\n",
    "import numpy.matlib as matlib\n",
    "Use code with caution. Learn more\n",
    "Once you have imported the matlib function, you can use it to create and manipulate NumPy arrays. For example, the following code creates a matrix of random numbers and prints it to the console:\n",
    "\n",
    "Python\n",
    "import numpy.matlib as matlib\n",
    "\n",
    "matrix = matlib.rand(5, 5)\n",
    "print(matrix)\n",
    "Use code with caution. Learn more\n",
    "This code will print a 5x5 matrix of random numbers to the console.\n",
    "\n",
    "As I mentioned earlier, it is not recommended to use the matlib function in new code. However, it can be useful for porting code from MATLAB to NumPy. If you are not sure whether or not to use matlib, it is best to consult the NumPy documentation.\n",
    "\n",
    "**Here are some of the most commonly used matlib functions:**\n",
    "\n",
    "1. matlib.rand(): Returns a matrix of random numbers.\n",
    "2. matlib.eye(): Returns the identity matrix.\n",
    "3. matlib.zeros(): Returns a matrix of zeros.\n",
    "4. matlib.ones(): Returns a matrix of ones.\n",
    "5. matlib.diag(): Returns the diagonal of a matrix.\n",
    "6. matlib.repmat(): Repeats a matrix a specified number of times.\n",
    "\n",
    "# others matlib Function \n",
    "* numpy.matlib.empty() function\n",
    "* numpy.matlib.zeros() function\n",
    "* numpy.matlib.ones() function\n",
    "* numpy.matlib.eye() function\n",
    "* numpy.matlib.rand() function"
   ]
  },
  {
   "cell_type": "markdown",
   "metadata": {},
   "source": [
    "# numpy.matlib.empty() function"
   ]
  },
  {
   "cell_type": "code",
   "execution_count": 9,
   "metadata": {},
   "outputs": [
    {
     "name": "stdout",
     "output_type": "stream",
     "text": [
      "[[1.42598117e-311 3.79442416e-321]]\n"
     ]
    }
   ],
   "source": [
    "import numpy as np\n",
    "import numpy.matlib\n",
    "a= np.matlib.empty((1,2))\n",
    "print(a)\n"
   ]
  },
  {
   "cell_type": "code",
   "execution_count": 10,
   "metadata": {},
   "outputs": [
    {
     "name": "stdout",
     "output_type": "stream",
     "text": [
      "[[2.12199579e-314+1.42598117e-311j 3.55727265e-321+3.79442416e-321j]]\n"
     ]
    }
   ],
   "source": [
    "import numpy as np\n",
    "import numpy.matlib\n",
    "a= np.matlib.empty((1,2),dtype=complex)\n",
    "print(a)"
   ]
  },
  {
   "cell_type": "markdown",
   "metadata": {},
   "source": [
    "# numpy.matlib.zeros() function"
   ]
  },
  {
   "cell_type": "code",
   "execution_count": 12,
   "metadata": {},
   "outputs": [
    {
     "name": "stdout",
     "output_type": "stream",
     "text": [
      "[[0. 0. 0. 0. 0. 0. 0. 0.]\n",
      " [0. 0. 0. 0. 0. 0. 0. 0.]\n",
      " [0. 0. 0. 0. 0. 0. 0. 0.]\n",
      " [0. 0. 0. 0. 0. 0. 0. 0.]\n",
      " [0. 0. 0. 0. 0. 0. 0. 0.]\n",
      " [0. 0. 0. 0. 0. 0. 0. 0.]\n",
      " [0. 0. 0. 0. 0. 0. 0. 0.]]\n"
     ]
    }
   ],
   "source": [
    "import numpy as np \n",
    "import numpy.matlib\n",
    "b=np.matlib.zeros((7,8))\n",
    "print(b)"
   ]
  },
  {
   "cell_type": "code",
   "execution_count": 13,
   "metadata": {},
   "outputs": [
    {
     "name": "stdout",
     "output_type": "stream",
     "text": [
      "[[0 0 0 0 0 0 0 0]\n",
      " [0 0 0 0 0 0 0 0]\n",
      " [0 0 0 0 0 0 0 0]\n",
      " [0 0 0 0 0 0 0 0]\n",
      " [0 0 0 0 0 0 0 0]\n",
      " [0 0 0 0 0 0 0 0]\n",
      " [0 0 0 0 0 0 0 0]]\n"
     ]
    }
   ],
   "source": [
    "import numpy as np \n",
    "import numpy.matlib\n",
    "b=np.matlib.zeros((7,8),dtype=int)\n",
    "print(b)"
   ]
  },
  {
   "cell_type": "markdown",
   "metadata": {},
   "source": [
    "#  numpy.matlib.ones() function"
   ]
  },
  {
   "cell_type": "code",
   "execution_count": 16,
   "metadata": {},
   "outputs": [
    {
     "name": "stdout",
     "output_type": "stream",
     "text": [
      "[[1. 1. 1. 1. 1.]\n",
      " [1. 1. 1. 1. 1.]\n",
      " [1. 1. 1. 1. 1.]]\n"
     ]
    }
   ],
   "source": [
    "import numpy as np\n",
    "import numpy.matlib\n",
    "\n",
    "c=np.matlib.ones((3,5))\n",
    "print(c)"
   ]
  },
  {
   "cell_type": "code",
   "execution_count": 17,
   "metadata": {},
   "outputs": [
    {
     "name": "stdout",
     "output_type": "stream",
     "text": [
      "[['' '' '' '' '']\n",
      " ['' '' '' '' '']\n",
      " ['' '' '' '' '']]\n"
     ]
    }
   ],
   "source": [
    "import numpy as np\n",
    "import numpy.matlib\n",
    "\n",
    "c=np.matlib.ones((3,5), dtype=str)\n",
    "print(c)"
   ]
  },
  {
   "cell_type": "markdown",
   "metadata": {},
   "source": [
    "# numpy.matlib.eye() function or identity function"
   ]
  },
  {
   "cell_type": "code",
   "execution_count": 19,
   "metadata": {},
   "outputs": [
    {
     "name": "stdout",
     "output_type": "stream",
     "text": [
      "[[1. 0. 0. 0. 0. 0.]\n",
      " [0. 1. 0. 0. 0. 0.]\n",
      " [0. 0. 1. 0. 0. 0.]\n",
      " [0. 0. 0. 1. 0. 0.]\n",
      " [0. 0. 0. 0. 1. 0.]\n",
      " [0. 0. 0. 0. 0. 1.]]\n"
     ]
    }
   ],
   "source": [
    "import numpy as ap\n",
    "import numpy.matlib\n",
    "\n",
    "x= np.matlib.eye(6,6)\n",
    "print(x)"
   ]
  },
  {
   "cell_type": "markdown",
   "metadata": {},
   "source": [
    "# numpy.matlib.rand() function"
   ]
  },
  {
   "cell_type": "code",
   "execution_count": 21,
   "metadata": {},
   "outputs": [
    {
     "name": "stdout",
     "output_type": "stream",
     "text": [
      "[[0.02563723 0.67923956 0.68441493 0.19825748]\n",
      " [0.92236672 0.53933624 0.7981539  0.21502787]\n",
      " [0.36396171 0.14599641 0.04678745 0.86133661]]\n"
     ]
    }
   ],
   "source": [
    "import numpy as np\n",
    "import numpy.matlib\n",
    "s =np.matlib.rand(3,4)\n",
    "print(s)"
   ]
  },
  {
   "cell_type": "markdown",
   "metadata": {},
   "source": [
    "# matlib.diag() function"
   ]
  },
  {
   "cell_type": "code",
   "execution_count": 25,
   "metadata": {},
   "outputs": [
    {
     "name": "stdout",
     "output_type": "stream",
     "text": [
      "[[3 0 0 0 0]\n",
      " [0 6 0 0 0]\n",
      " [0 0 6 0 0]\n",
      " [0 0 0 7 0]\n",
      " [0 0 0 0 2]]\n"
     ]
    }
   ],
   "source": [
    "import numpy as np\n",
    "import numpy.matlib\n",
    "s =np.matlib.diag((3,6,6,7,2))\n",
    "print(s)"
   ]
  },
  {
   "cell_type": "markdown",
   "metadata": {},
   "source": [
    "# matlib.repmat() function"
   ]
  },
  {
   "cell_type": "code",
   "execution_count": null,
   "metadata": {},
   "outputs": [],
   "source": [
    "import numpy as np\n",
    "import numpy.matlib\n",
    "s =np.matlib.repmat(3,2)\n",
    "print(s)"
   ]
  }
 ],
 "metadata": {
  "kernelspec": {
   "display_name": "ml_env",
   "language": "python",
   "name": "python3"
  },
  "language_info": {
   "codemirror_mode": {
    "name": "ipython",
    "version": 3
   },
   "file_extension": ".py",
   "mimetype": "text/x-python",
   "name": "python",
   "nbconvert_exporter": "python",
   "pygments_lexer": "ipython3",
   "version": "3.11.3"
  },
  "orig_nbformat": 4
 },
 "nbformat": 4,
 "nbformat_minor": 2
}
