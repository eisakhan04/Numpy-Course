{
  "nbformat": 4,
  "nbformat_minor": 0,
  "metadata": {
    "colab": {
      "provenance": [],
      "include_colab_link": true
    },
    "kernelspec": {
      "name": "python3",
      "display_name": "Python 3"
    },
    "language_info": {
      "name": "python"
    }
  },
  "cells": [
    {
      "cell_type": "markdown",
      "metadata": {
        "id": "view-in-github",
        "colab_type": "text"
      },
      "source": [
        "<a href=\"https://colab.research.google.com/github/onlyone11s/Numpy-Course/blob/main/Numpy_Topic_01_Numpy_Creating_Array.ipynb\" target=\"_parent\"><img src=\"https://colab.research.google.com/assets/colab-badge.svg\" alt=\"Open In Colab\"/></a>"
      ]
    },
    {
      "cell_type": "markdown",
      "source": [
        "# What is NumPy?\n",
        "NumPy is a Python library used for working with arrays.\n",
        "\n",
        "It also has functions for working in domain of linear algebra, fourier transform, and matrices.\n",
        "\n",
        "NumPy was created in 2005 by Travis Oliphant. It is an open source project and you can use it freely.\n",
        "\n",
        "NumPy stands for Numerical Python.\n",
        "* Numpy Stand for Numerical Python."
      ],
      "metadata": {
        "id": "dS-IVC6Aj3XD"
      }
    },
    {
      "cell_type": "markdown",
      "source": [
        "# Numpy creating array\n",
        "**one dimensional array**\n",
        "In this code, we first import the NumPy library and assign it the alias np using the statement import numpy as np. This allows us to use the NumPy functions and objects using the shorthand np.\n",
        "\n",
        "Next, we create a NumPy array a using the np.array() function. The np.array() function takes a sequence-like object (such as a list) as an argument and converts it into a NumPy array. In this case, we pass the list [2, 3, 4, 5] to create the array a.\n",
        "\n",
        "Finally, we use the print() function to display the original array a on the console. The message \"Original array:\" is printed along with the value of the array a."
      ],
      "metadata": {
        "id": "KRTkwU5kF7mB"
      }
    },
    {
      "cell_type": "code",
      "source": [
        "import numpy\n",
        "\n",
        "a =numpy.array([2,3,4,5])\n",
        "print(\"Original array\",a)"
      ],
      "metadata": {
        "colab": {
          "base_uri": "https://localhost:8080/"
        },
        "id": "AKq1gruvPXCv",
        "outputId": "b75bfaa1-06a6-4fa8-f8c9-0373988c21c2"
      },
      "execution_count": null,
      "outputs": [
        {
          "output_type": "stream",
          "name": "stdout",
          "text": [
            "Original array [2 3 4 5]\n"
          ]
        }
      ]
    },
    {
      "cell_type": "markdown",
      "source": [
        "n this code, we import the NumPy library using the import numpy as np statement. Then, we create a NumPy array a using the np.array() function and provide the elements [2, 3, 4, 5]. Finally, we use the print() function to display the original array a on the console.\n"
      ],
      "metadata": {
        "id": "Su-r_ez-izTI"
      }
    },
    {
      "cell_type": "code",
      "execution_count": null,
      "metadata": {
        "colab": {
          "base_uri": "https://localhost:8080/"
        },
        "id": "qiL2mX-n8Tp3",
        "outputId": "93a88561-ef05-4de3-cfb2-00c92e08890a"
      },
      "outputs": [
        {
          "output_type": "stream",
          "name": "stdout",
          "text": [
            "Original array [2 3 4 5]\n",
            "number of dimensional array= 1\n",
            "\n",
            "(4,)\n",
            "\n",
            "Size of array= 4\n"
          ]
        }
      ],
      "source": [
        "import numpy as np\n",
        "a = np.array([2,3,4,5])\n",
        "print(\"Original array\",a)\n",
        "b = np.ndim(a)\n",
        "print(\"number of dimensional array=\",b)\n",
        "print()\n",
        "c = np.shape(a)\n",
        "print(c)\n",
        "print()\n",
        "d = np.size(a)\n",
        "print(\"Size of array=\",d)"
      ]
    },
    {
      "cell_type": "markdown",
      "source": [
        "In this code, we first import the NumPy library using import numpy as np.\n",
        "\n",
        "We then create a NumPy array a with the elements [2, 3, 4, 5] using the np.array() function.\n",
        "\n",
        "Next, we print the original array a using the print() function and the message \"Original array:\".\n",
        "\n",
        "After that, we use the np.ndim() function to determine the number of dimensions of the array a. The np.ndim() function returns an integer that represents the number of dimensions in the array. We assign this value to the variable b.\n",
        "\n",
        "We print the number of dimensions using the print() function and the message \"Number of dimensions of the array =\". This statement displays the value of b, which represents the number of dimensions in the array a.\n",
        "\n",
        "Next, we use the np.shape() function to determine the shape of the array a. The np.shape() function returns a tuple that represents the size of each dimension in the array. We assign this tuple to the variable c.\n",
        "\n",
        "We print the shape of the array using the print() function and the message \"Shape of the array:\". This statement displays the value of c, which represents the shape of the array a.\n",
        "\n",
        "Finally, we use the np.size() function to determine the size of the array a, which is the total number of elements in the array. The np.size() function returns an integer representing the size. We assign this value to the variable d.\n",
        "\n",
        "We print the size of the array using the print() function and the message \"Size of the array =\". This statement displays the value of d, which represents the size (total number of elements) of the array a."
      ],
      "metadata": {
        "id": "UjqVbbrak7xm"
      }
    },
    {
      "cell_type": "markdown",
      "source": [
        "**Two dimensional Array**"
      ],
      "metadata": {
        "id": "C4H8y9-8Bgrl"
      }
    },
    {
      "cell_type": "code",
      "source": [
        "import numpy as np\n",
        "\n",
        "a = np.array([[[2, 3, 4, 5], ['6', 7, 8, 9]], [[1, 2, 3, 6], [4, 5, 6, 7]], [[12, 13, 14, 15]]])\n",
        "print(\"Original array:\", a)\n",
        "\n",
        "# Check the data type of the array\n",
        "print(\"Array data type:\", a.dtype)\n",
        "\n",
        "# Determine the number of dimensions\n",
        "b = np.ndim(a)\n",
        "print(\"Number of dimensions of the array:\", b)\n",
        "\n",
        "# Determine the shape of the array\n",
        "c = np.shape(a)\n",
        "print(\"Shape of the array:\", c)\n",
        "\n",
        "# Determine the size of the array\n",
        "d = np.size(a)\n",
        "print(\"Size of the array:\", d)"
      ],
      "metadata": {
        "colab": {
          "base_uri": "https://localhost:8080/"
        },
        "id": "06YNLU30Hc0F",
        "outputId": "8517285a-6c16-4167-e65b-015a1f56f667"
      },
      "execution_count": 2,
      "outputs": [
        {
          "output_type": "stream",
          "name": "stdout",
          "text": [
            "Original array: [list([[2, 3, 4, 5], ['6', 7, 8, 9]]) list([[1, 2, 3, 6], [4, 5, 6, 7]])\n",
            " list([[12, 13, 14, 15]])]\n",
            "Array data type: object\n",
            "Number of dimensions of the array: 1\n",
            "Shape of the array: (3,)\n",
            "Size of the array: 3\n"
          ]
        },
        {
          "output_type": "stream",
          "name": "stderr",
          "text": [
            "<ipython-input-2-a9b8b3194aca>:3: VisibleDeprecationWarning: Creating an ndarray from ragged nested sequences (which is a list-or-tuple of lists-or-tuples-or ndarrays with different lengths or shapes) is deprecated. If you meant to do this, you must specify 'dtype=object' when creating the ndarray.\n",
            "  a = np.array([[[2, 3, 4, 5], ['6', 7, 8, 9]], [[1, 2, 3, 6], [4, 5, 6, 7]], [[12, 13, 14, 15]]])\n"
          ]
        }
      ]
    },
    {
      "cell_type": "markdown",
      "source": [
        "# Explanation\n",
        "In this code, we import the NumPy library using import numpy as np.\n",
        "\n",
        "We create a NumPy array a with multiple dimensions and various elements using the np.array() function. The array a contains three nested lists, each representing a different dimension.\n",
        "\n",
        "We then print the original array a using the print() function and the message \"Original array:\".\n",
        "\n",
        "To check the data type of the array, we use the dtype attribute of the array a and print it using the print() function and the message \"Array data type:\".\n",
        "\n",
        "Next, we determine the number of dimensions of the array a using the np.ndim() function. The np.ndim() function returns an integer representing the number of dimensions in the array. We assign this value to the variable b and print it using the print() function and the message \"Number of dimensions of the array:\".\n",
        "\n",
        "We determine the shape of the array a using the np.shape() function. The np.shape() function returns a tuple representing the size of each dimension in the array. We assign this tuple to the variable c and print it using the print() function and the message \"Shape of the array:\".\n",
        "\n",
        "Finally, we determine the size of the array a using the np.size() function. The np.size() function returns an integer representing the total number of elements in the array. We assign this value to the variable d and print it using the print() function and the message \"Size of the array:\"."
      ],
      "metadata": {
        "id": "TJWkvHydloZU"
      }
    },
    {
      "cell_type": "markdown",
      "source": [
        "**Three Dimensional Array**"
      ],
      "metadata": {
        "id": "fIR7mLGUID3y"
      }
    },
    {
      "cell_type": "code",
      "source": [
        "import numpy as np\n",
        "\n",
        "a = np.array([[[[2, 3, 4, 5], [6, 7, 8, 9]], [[12, 13, 14, 15], [13, 14, 15, 16]]]])\n",
        "print(\"Original array:\", a)\n",
        "\n",
        "# Determine the number of dimensions\n",
        "b = np.ndim(a)\n",
        "print(\"Number of dimensions of the array:\", b)\n",
        "\n",
        "# Determine the shape of the array\n",
        "c = np.shape(a)\n",
        "print(\"Shape of the array:\", c)\n",
        "\n",
        "# Determine the size of the array\n",
        "d = np.size(a)\n",
        "print(\"Size of the array:\", d)"
      ],
      "metadata": {
        "colab": {
          "base_uri": "https://localhost:8080/"
        },
        "id": "CFzwZkEGICbj",
        "outputId": "591e46dc-c783-40fc-b1f3-018d560b81ba"
      },
      "execution_count": 3,
      "outputs": [
        {
          "output_type": "stream",
          "name": "stdout",
          "text": [
            "Original array: [[[[ 2  3  4  5]\n",
            "   [ 6  7  8  9]]\n",
            "\n",
            "  [[12 13 14 15]\n",
            "   [13 14 15 16]]]]\n",
            "Number of dimensions of the array: 4\n",
            "Shape of the array: (1, 2, 2, 4)\n",
            "Size of the array: 16\n"
          ]
        }
      ]
    },
    {
      "cell_type": "markdown",
      "source": [
        "# Explanation\n",
        "\n",
        "Certainly! Here's the code with comments and explanations:\n",
        "\n",
        "python\n",
        "Copy code\n",
        "import numpy as np\n",
        "\n",
        "a = np.array([[[[2, 3, 4, 5], [6, 7, 8, 9]], [[12, 13, 14, 15], [13, 14, 15, 16]]]])\n",
        "print(\"Original array:\", a)\n",
        "\n",
        "# Determine the number of dimensions\n",
        "b = np.ndim(a)\n",
        "print(\"Number of dimensions of the array:\", b)\n",
        "\n",
        "# Determine the shape of the array\n",
        "c = np.shape(a)\n",
        "print(\"Shape of the array:\", c)\n",
        "\n",
        "# Determine the size of the array\n",
        "d = np.size(a)\n",
        "print(\"Size of the array:\", d)\n",
        "In this code, we import the NumPy library using import numpy as np.\n",
        "\n",
        "We create a NumPy array a with multiple dimensions and various elements using the np.array() function. The array a contains nested lists representing different dimensions.\n",
        "\n",
        "We then print the original array a using the print() function and the message \"Original array:\".\n",
        "\n",
        "To determine the number of dimensions of the array a, we use the np.ndim() function. The np.ndim() function returns an integer representing the number of dimensions in the array. We assign this value to the variable b and print it using the print() function and the message \"Number of dimensions of the array:\".\n",
        "\n",
        "To determine the shape of the array a, we use the np.shape() function. The np.shape() function returns a tuple representing the size of each dimension in the array. We assign this tuple to the variable c and print it using the print() function and the message \"Shape of the array:\".\n",
        "\n",
        "To determine the size of the array a, we use the np.size() function. The np.size() function returns an integer representing the total number of elements in the array. We assign this value to the variable d and print it using the print() function and the message \"Size of the array:\"."
      ],
      "metadata": {
        "id": "DmcmW2fPmHBX"
      }
    },
    {
      "cell_type": "code",
      "source": [
        "import numpy as np\n",
        "\n",
        "a = np.array([[[[2, 3, 4, 5]]]])\n",
        "print(\"Original array:\", a)\n",
        "\n",
        "# Determine the number of dimensions\n",
        "b = np.ndim(a)\n",
        "print(\"Number of dimensions of the array:\", b)\n",
        "\n",
        "# Determine the shape of the array\n",
        "c = np.shape(a)\n",
        "print(\"Shape of the array:\", c)\n",
        "\n",
        "# Determine the size of the array\n",
        "d = np.size(a)\n",
        "print(\"Size of the array:\", d)"
      ],
      "metadata": {
        "colab": {
          "base_uri": "https://localhost:8080/"
        },
        "id": "k8J9O5R8J-Lw",
        "outputId": "4f3e075a-d2f7-4153-d47b-0475c1accce8"
      },
      "execution_count": 4,
      "outputs": [
        {
          "output_type": "stream",
          "name": "stdout",
          "text": [
            "Original array: [[[[2 3 4 5]]]]\n",
            "Number of dimensions of the array: 4\n",
            "Shape of the array: (1, 1, 1, 4)\n",
            "Size of the array: 4\n"
          ]
        }
      ]
    },
    {
      "cell_type": "markdown",
      "source": [
        "# Explanations:\n",
        "  In this code, we import the NumPy library using import numpy as np.\n",
        "We create a NumPy array a with multiple dimensions and a single element using the np.array() function. The array a contains nested lists representing different dimensions.\n",
        "\n",
        "We then print the original array a using the print() function and the message \"Original array:\".\n",
        "\n",
        "To determine the number of dimensions of the array a, we use the np.ndim() function. The np.ndim() function returns an integer representing the number of dimensions in the array. We assign this value to the variable b and print it using the print() function and the message \"Number of dimensions of the array:\".\n",
        "\n",
        "To determine the shape of the array a, we use the np.shape() function. The np.shape() function returns a tuple representing the size of each dimension in the array. We assign this tuple to the variable c and print it using the print() function and the message \"Shape of the array:\".\n",
        "\n",
        "To determine the size of the array a, we use the np.size() function. The np.size() function returns an integer representing the total number of elements in the array. We assign this value to the variable d and print it using the print() function and the message \"Size of the array:\"."
      ],
      "metadata": {
        "id": "uAq7P1MWm5TF"
      }
    },
    {
      "cell_type": "code",
      "source": [
        "import numpy as np\n",
        "a = np.array([[[2,3,4,5],[6,7,8,9]],[[11,12,13,14],[13,14,15,16]]])\n",
        "print(\"Original array\",a)\n",
        "b = np.ndim(a)\n",
        "print(b)\n",
        "print()\n",
        "c = np.shape(a)\n",
        "print(c)\n",
        "print()\n",
        "d = np.size(a)\n",
        "print(d)"
      ],
      "metadata": {
        "colab": {
          "base_uri": "https://localhost:8080/"
        },
        "id": "oL2ld-DfKMUM",
        "outputId": "48823247-5156-4788-e124-7bf281b8282e"
      },
      "execution_count": null,
      "outputs": [
        {
          "output_type": "stream",
          "name": "stdout",
          "text": [
            "Original array [[[ 2  3  4  5]\n",
            "  [ 6  7  8  9]]\n",
            "\n",
            " [[11 12 13 14]\n",
            "  [13 14 15 16]]]\n",
            "3\n",
            "\n",
            "(2, 2, 4)\n",
            "\n",
            "16\n"
          ]
        }
      ]
    },
    {
      "cell_type": "code",
      "source": [
        "a = np.array([2,3,4,5],dtype = float)\n",
        "print(a)\n"
      ],
      "metadata": {
        "colab": {
          "base_uri": "https://localhost:8080/"
        },
        "id": "m-yqE0-3Mo6e",
        "outputId": "776bdb8f-37e3-4785-f74f-a9bac2df7e7d"
      },
      "execution_count": null,
      "outputs": [
        {
          "output_type": "stream",
          "name": "stdout",
          "text": [
            "[2. 3. 4. 5.]\n"
          ]
        }
      ]
    },
    {
      "cell_type": "markdown",
      "source": [
        "# Explanation code\n",
        "In this code, we import the NumPy library using import numpy as np.\n",
        "We create a NumPy array a using the np.array() function. The array a is initialized with the elements [2, 3, 4, 5]. The optional argument dtype=float specifies that the elements of the array should have the data type float.\n",
        "We print the array a using the print() function. This statement displays the contents of the array a."
      ],
      "metadata": {
        "id": "l-o-Crwincwb"
      }
    },
    {
      "cell_type": "code",
      "source": [
        "a = np.array([2.3,3.4,4.5],dtype = complex)\n",
        "print(a)"
      ],
      "metadata": {
        "colab": {
          "base_uri": "https://localhost:8080/"
        },
        "id": "iouYUUuAN2E9",
        "outputId": "8ad4f98c-5fb5-4a00-826c-80bf1ce52da6"
      },
      "execution_count": null,
      "outputs": [
        {
          "output_type": "stream",
          "name": "stdout",
          "text": [
            "[2.3+0.j 3.4+0.j 4.5+0.j]\n"
          ]
        }
      ]
    },
    {
      "cell_type": "markdown",
      "source": [
        "# Explanation code\n",
        "In this code, we import the NumPy library using import numpy as np.\n",
        "We create a NumPy array a using the np.array() function. The array a is initialized with the elements [2.3, 3.4, 4.5]. The optional argument dtype=complex specifies that the elements of the array should have the data type complex, which represents complex numbers.\n",
        "We print the array a using the print() function. This statement displays the contents of the array a."
      ],
      "metadata": {
        "id": "RIoEPiyCn7Db"
      }
    },
    {
      "cell_type": "code",
      "source": [
        "a = np.array([2.3,3.4,4.5],dtype = str)\n",
        "print(a)"
      ],
      "metadata": {
        "colab": {
          "base_uri": "https://localhost:8080/"
        },
        "id": "M6a3uWx1OZjA",
        "outputId": "8c2e27a4-ba08-4aa9-a620-6cbd54f9bb94"
      },
      "execution_count": null,
      "outputs": [
        {
          "output_type": "stream",
          "name": "stdout",
          "text": [
            "['2.3' '3.4' '4.5']\n"
          ]
        }
      ]
    },
    {
      "cell_type": "markdown",
      "source": [
        "# how to create one array convert in multiple dimenssional array"
      ],
      "metadata": {
        "id": "5wwRRnPWoIR2"
      }
    },
    {
      "cell_type": "code",
      "source": [
        "a = np.array([2.3,3.4,4.5],ndmin = 5)\n",
        "print(a)\n",
        "b = np.shape(a)\n",
        "print(b)"
      ],
      "metadata": {
        "colab": {
          "base_uri": "https://localhost:8080/"
        },
        "id": "jvoorbBVQvlq",
        "outputId": "38e9488c-707d-416d-8505-0c892a85d333"
      },
      "execution_count": null,
      "outputs": [
        {
          "output_type": "stream",
          "name": "stdout",
          "text": [
            "[[[[[2.3 3.4 4.5]]]]]\n",
            "(1, 1, 1, 1, 3)\n"
          ]
        }
      ]
    },
    {
      "cell_type": "markdown",
      "source": [
        "# check array data type and Shape"
      ],
      "metadata": {
        "id": "qMTyDKX9ocIW"
      }
    },
    {
      "cell_type": "code",
      "source": [
        "import numpy as np\n",
        "x = [[[1,'3',4,4,5,6]]]\n",
        "a= np.array(x)\n",
        "b=np.shape(a)\n",
        "print(b)\n",
        "print(a)\n",
        "print(\"Array Data type : \", a.dtype)\n"
      ],
      "metadata": {
        "colab": {
          "base_uri": "https://localhost:8080/"
        },
        "id": "-idvhlu1R8sU",
        "outputId": "940e4e9d-b5f6-46b9-dab7-bd357cc49535"
      },
      "execution_count": null,
      "outputs": [
        {
          "output_type": "stream",
          "name": "stdout",
          "text": [
            "(1, 1, 6)\n",
            "[[['1' '3' '4' '4' '5' '6']]]\n",
            "Array Data type :  <U21\n"
          ]
        }
      ]
    },
    {
      "cell_type": "markdown",
      "source": [
        "# Array\n",
        "* Create Array defferent type"
      ],
      "metadata": {
        "id": "0gC-ecDJUYmf"
      }
    },
    {
      "cell_type": "markdown",
      "source": [
        "Create Array defferent type"
      ],
      "metadata": {
        "id": "rXI8fFDdo5zW"
      }
    },
    {
      "cell_type": "code",
      "source": [
        "\n",
        "import numpy as np\n",
        "arr =np.array([[[[1,3,4,6]]]])\n",
        "print(arr)\n",
        "arr\n",
        "print(type(arr))\n",
        "a = type(arr)\n",
        "print(a)\n",
        "b=np.shape(arr)\n",
        "print(\"array Shape=\",b)\n",
        "c= ndim(arr)\n",
        "print(\"Number of dimensional array=\",c)\n"
      ],
      "metadata": {
        "colab": {
          "base_uri": "https://localhost:8080/"
        },
        "id": "W8muzPyYUXl9",
        "outputId": "ecbfd38e-e249-43f0-f833-c8c4730589b4"
      },
      "execution_count": null,
      "outputs": [
        {
          "output_type": "stream",
          "name": "stdout",
          "text": [
            "[[[[1 3 4 6]]]]\n",
            "<class 'numpy.ndarray'>\n",
            "<class 'numpy.ndarray'>\n",
            "array Shape= (1, 1, 1, 4)\n",
            "Number of dimensional array= 4\n"
          ]
        }
      ]
    },
    {
      "cell_type": "markdown",
      "source": [
        "# Other Example"
      ],
      "metadata": {
        "id": "kx_yZ8BFpKim"
      }
    },
    {
      "cell_type": "code",
      "source": [
        "from numpy.core.fromnumeric import ndim\n",
        "\n",
        "import numpy as np\n",
        "arr =np.array([[[[1,3,4,6]]]])\n",
        "print(arr)\n",
        "arr\n",
        "print(type(arr))\n",
        "a = type(arr)\n",
        "print(a)\n",
        "b=np.shape(arr)\n",
        "print(\"array Shape=\",b ,arr.dtype)\n",
        "c= ndim(arr)\n",
        "print(\"Number of dimensional array=\",c)\n"
      ],
      "metadata": {
        "colab": {
          "base_uri": "https://localhost:8080/"
        },
        "id": "TMufpK5pb25D",
        "outputId": "8599468e-152f-41a6-84ac-9865d3a347c3"
      },
      "execution_count": null,
      "outputs": [
        {
          "output_type": "stream",
          "name": "stdout",
          "text": [
            "[[[[1 3 4 6]]]]\n",
            "<class 'numpy.ndarray'>\n",
            "<class 'numpy.ndarray'>\n",
            "array Shape= (1, 1, 1, 4) int64\n",
            "Number of dimensional array= 4\n"
          ]
        }
      ]
    },
    {
      "cell_type": "markdown",
      "source": [
        "In the code, we import the NumPy library using import numpy as np. This allows us to use the functions and features of NumPy in our code."
      ],
      "metadata": {
        "id": "qltdnw5rqCZO"
      }
    },
    {
      "cell_type": "code",
      "source": [
        "import numpy as np\n",
        "l=[]\n",
        "for i in range(1,5):\n",
        "  int_1=int(input(\"enter :\"))\n",
        "  l.append(int_1)\n",
        "\n",
        "\n",
        "print(np.array(l))"
      ],
      "metadata": {
        "colab": {
          "base_uri": "https://localhost:8080/"
        },
        "id": "V8ZtlXUpeavQ",
        "outputId": "fb12e8c9-11ef-4772-8464-099f24a6cec7"
      },
      "execution_count": 5,
      "outputs": [
        {
          "output_type": "stream",
          "name": "stdout",
          "text": [
            "enter :3\n",
            "enter :2\n",
            "enter :2\n",
            "enter :2\n",
            "[3 2 2 2]\n"
          ]
        }
      ]
    },
    {
      "cell_type": "markdown",
      "source": [
        "Code Explanation:\n",
        "The code snippet creates an empty list l and then uses a for loop to iterate from 1 to 4 (inclusive). Inside the loop, it prompts the user to enter a value using the input() function and converts it to an integer using the int() function. The obtained integer value is then appended to the list l using the append() method.\n",
        "Finally, the np.array() function is used to create a NumPy array from the list l. This function takes the list as an argument and returns a NumPy array. The resulting array is printed using the print() function.\n",
        "When you run the code, it will prompt you to enter four values. After you input the values, it will create a NumPy array l with those values and print it."
      ],
      "metadata": {
        "id": "pJ3FvMJ2p2c3"
      }
    },
    {
      "cell_type": "code",
      "source": [
        "ar3 = np.array([[1,2,3,4],[1,2,3,4]])\n",
        "print(ar3)\n",
        "print(np.ndim(ar3))\n",
        "print(\"shape=\",np.shape(ar3))"
      ],
      "metadata": {
        "colab": {
          "base_uri": "https://localhost:8080/"
        },
        "id": "OL_eaU4jCUcb",
        "outputId": "9606bd74-eb96-4aec-90a1-02d7e928f6c7"
      },
      "execution_count": null,
      "outputs": [
        {
          "output_type": "stream",
          "name": "stdout",
          "text": [
            "[[1 2 3 4]\n",
            " [1 2 3 4]]\n",
            "2\n",
            "shape= (2, 4)\n"
          ]
        }
      ]
    },
    {
      "cell_type": "code",
      "source": [
        "ar4=np.array([[1,2,3,4],[1,2,3,4]])\n",
        "print(ar4)\n",
        "print(\"dimnshial array=\",np.ndim(ar4))"
      ],
      "metadata": {
        "colab": {
          "base_uri": "https://localhost:8080/"
        },
        "id": "DelTR54HC1v9",
        "outputId": "ac8fedd8-a7ee-466d-aa21-240422ac771c"
      },
      "execution_count": null,
      "outputs": [
        {
          "output_type": "stream",
          "name": "stdout",
          "text": [
            "[[1 2 3 4]\n",
            " [1 2 3 4]]\n",
            "dimnshial array= 2\n"
          ]
        }
      ]
    },
    {
      "cell_type": "code",
      "source": [
        "ar4=np.array([[[1,2,3,4],[1,2,3,4],[4,5,7,6]]])\n",
        "print(ar4)\n",
        "print(\"dimnshial array=\",np.ndim(ar4))"
      ],
      "metadata": {
        "colab": {
          "base_uri": "https://localhost:8080/"
        },
        "id": "oNptOnzdEpyt",
        "outputId": "dd3915eb-f171-4321-d687-ed9fcb6cb1a9"
      },
      "execution_count": null,
      "outputs": [
        {
          "output_type": "stream",
          "name": "stdout",
          "text": [
            "[[[1 2 3 4]\n",
            "  [1 2 3 4]\n",
            "  [4 5 7 6]]]\n",
            "dimnshial array= 3\n"
          ]
        }
      ]
    }
  ]
}