{
  "nbformat": 4,
  "nbformat_minor": 0,
  "metadata": {
    "colab": {
      "provenance": [],
      "authorship_tag": "ABX9TyNnuwcVOKgFUG3HkfiUOUDm",
      "include_colab_link": true
    },
    "kernelspec": {
      "name": "python3",
      "display_name": "Python 3"
    },
    "language_info": {
      "name": "python"
    }
  },
  "cells": [
    {
      "cell_type": "markdown",
      "metadata": {
        "id": "view-in-github",
        "colab_type": "text"
      },
      "source": [
        "<a href=\"https://colab.research.google.com/github/onlyone11s/Numpy-Course/blob/main/Topic_04_Numpy_Reshaping.ipynb\" target=\"_parent\"><img src=\"https://colab.research.google.com/assets/colab-badge.svg\" alt=\"Open In Colab\"/></a>"
      ]
    },
    {
      "cell_type": "markdown",
      "source": [
        "**Topic 04: Numpy Reshaping**"
      ],
      "metadata": {
        "id": "D3H8d1mKy4VN"
      }
    },
    {
      "cell_type": "markdown",
      "source": [
        "Numpy is a popular Python library used for numerical computing. It provides powerful tools for array manipulation, which includes reshaping an array. Reshaping is the process of changing the shape or dimensions of an existing array without changing the data within it."
      ],
      "metadata": {
        "id": "2jqYt_Z_muFF"
      }
    },
    {
      "cell_type": "markdown",
      "source": [
        "**(01) Reshaping One-Dimension Array**"
      ],
      "metadata": {
        "id": "iy-rYcFem5A9"
      }
    },
    {
      "cell_type": "code",
      "source": [
        "import numpy as np\n",
        "a=np.array([5,6,7,8,9,8,9,3])\n",
        "print(a)\n",
        "print()\n",
        "b= a.reshape(4,2)\n",
        "print(b)"
      ],
      "metadata": {
        "id": "U-WeyRP-gi2s"
      },
      "execution_count": null,
      "outputs": []
    },
    {
      "cell_type": "markdown",
      "source": [
        "#**Explanation**\n",
        "In this part, we import the NumPy library and create an array a containing eight elements: [5, 6, 7, 8, 9, 8, 9, 3]. Then, we print the array a.\n",
        "In this part, we use the reshape() function to change the shape of the array a. We pass the reshape() function two arguments: 4 and 2, which means we want to reshape a into a 4x2 array.\n",
        "The reshape() function rearranges the elements of the original array a to form a new array b with the desired shape. The new array will have 4 rows and 2 columns."
      ],
      "metadata": {
        "id": "ql92SBp_n4J9"
      }
    },
    {
      "cell_type": "code",
      "source": [
        "import numpy as np\n",
        "a = np.array([1,2,3,4,5,6])\n",
        "print(a)\n",
        "print()\n",
        "b = a.reshape(3,2,1)\n",
        "print(b)"
      ],
      "metadata": {
        "colab": {
          "base_uri": "https://localhost:8080/"
        },
        "id": "MmNYniVu0p7y",
        "outputId": "b29d0f42-fe50-4da7-f16a-b7bc6f82fe61"
      },
      "execution_count": null,
      "outputs": [
        {
          "output_type": "stream",
          "name": "stdout",
          "text": [
            "[1 2 3 4 5 6]\n",
            "\n",
            "[[[1]\n",
            "  [2]]\n",
            "\n",
            " [[3]\n",
            "  [4]]\n",
            "\n",
            " [[5]\n",
            "  [6]]]\n"
          ]
        }
      ]
    },
    {
      "cell_type": "markdown",
      "source": [
        "**(02) Reshaping 2- Dimensional Arry**"
      ],
      "metadata": {
        "id": "VsMDBC8rnQAl"
      }
    },
    {
      "cell_type": "code",
      "source": [
        "import numpy as np\n",
        "a = np.array([[1,2,3,4,5,6],[7,8,9,10,11,12]])\n",
        "print(a)\n",
        "print()\n",
        "b = a.reshape(3,4)\n",
        "print(b)"
      ],
      "metadata": {
        "id": "mCCHXEca2ODz"
      },
      "execution_count": null,
      "outputs": []
    },
    {
      "cell_type": "code",
      "source": [
        "import numpy as np\n",
        "a = np.array([[1,2,3,4,5,6],[7,8,9,10,11,12]])\n",
        "print(a)\n",
        "print(a.reshape(3,2,2))\n"
      ],
      "metadata": {
        "id": "lYCdyToYisKD"
      },
      "execution_count": null,
      "outputs": []
    },
    {
      "cell_type": "markdown",
      "source": [
        "#**Explanation**\n",
        "In this part, we import the NumPy library and create a** 2D array **a. The array a has two rows and six columns.\n",
        "Next, we use the **reshape()** function to change the shape of the array a. **We pass the reshape() function three arguments: 3, 2, and 2. This means we want to reshape a into a 3x2x2 array.**\n",
        "The reshape() function rearranges the elements of the original 2D array a to form a new 3D array with the desired shape. The new array has three \"blocks,\" each containing two rows and two columns.\n",
        "\n",
        "The first \"block\" consists of the elements [1, 2, 3, 4].\n",
        "The second \"block\" consists of the elements [5, 6, 7, 8].\n",
        "The third \"block\" consists of the elements [9, 10, 11, 12].\n",
        "Each block is formed by extracting two rows and two columns from the original array a while maintaining their order. This results in the final 3x2x2 array shown in the output."
      ],
      "metadata": {
        "id": "j1QzrsHTofL5"
      }
    },
    {
      "cell_type": "code",
      "source": [
        "import numpy as np\n",
        "a = np.array([[1,2,3,4,5,6],[7,8,9,10,11,12]])\n",
        "print(a)\n",
        "print()\n",
        "b = a.reshape(3,2,2)\n",
        "print(b)"
      ],
      "metadata": {
        "colab": {
          "base_uri": "https://localhost:8080/"
        },
        "id": "9qh_ecgm3GbP",
        "outputId": "b45a3e64-c9e7-4e0b-91d5-5a9d5fff2ecf"
      },
      "execution_count": null,
      "outputs": [
        {
          "output_type": "stream",
          "name": "stdout",
          "text": [
            "[[ 1  2  3  4  5  6]\n",
            " [ 7  8  9 10 11 12]]\n",
            "\n",
            "[[[ 1  2]\n",
            "  [ 3  4]]\n",
            "\n",
            " [[ 5  6]\n",
            "  [ 7  8]]\n",
            "\n",
            " [[ 9 10]\n",
            "  [11 12]]]\n"
          ]
        }
      ]
    },
    {
      "cell_type": "code",
      "source": [
        "import numpy as np\n",
        "a = np.array([[1,2,3,4,5,6],[7,8,9,10,11,12]])\n",
        "print(a)\n",
        "print()\n",
        "b = a.reshape(6,2,1)\n",
        "print(b)"
      ],
      "metadata": {
        "id": "S1g6e_Jr3zlu"
      },
      "execution_count": null,
      "outputs": []
    },
    {
      "cell_type": "code",
      "source": [
        "import numpy as np\n",
        "a = np.array([[1,2,3,4,5,6],[7,8,9,10,11,12]])\n",
        "print(a)\n",
        "print()\n",
        "b = a.reshape(1,6,2)\n",
        "print(b)"
      ],
      "metadata": {
        "colab": {
          "base_uri": "https://localhost:8080/"
        },
        "id": "55WPOxNb4Vgk",
        "outputId": "74e96acb-a268-442a-a563-f11eb1c0319b"
      },
      "execution_count": null,
      "outputs": [
        {
          "output_type": "stream",
          "name": "stdout",
          "text": [
            "[[ 1  2  3  4  5  6]\n",
            " [ 7  8  9 10 11 12]]\n",
            "\n",
            "[[[ 1  2]\n",
            "  [ 3  4]\n",
            "  [ 5  6]\n",
            "  [ 7  8]\n",
            "  [ 9 10]\n",
            "  [11 12]]]\n"
          ]
        }
      ]
    },
    {
      "cell_type": "markdown",
      "source": [
        "#**(03) Reshaping 3- Dimensional Arry**\n",
        "In this part, we import the NumPy library and create a 3D array a. The array a has two \"blocks,\" each containing two rows and six columns."
      ],
      "metadata": {
        "id": "k3QBolewnbgm"
      }
    },
    {
      "cell_type": "code",
      "source": [
        "import numpy as np\n",
        "a = np.array([[[1,2,3,4,5,6],[7,8,9,10,11,12]],[[7,3,0,6,2,1],[56,8,77,43,11,66]]])\n",
        "print(a)\n",
        "print(\"Size=\", np.size(a))\n",
        "b = a.reshape(6,4,1)\n",
        "print(b)"
      ],
      "metadata": {
        "id": "zjeEXqI6kxAK"
      },
      "execution_count": null,
      "outputs": []
    },
    {
      "cell_type": "markdown",
      "source": [
        "#**Explanation:**\n",
        "The total number of elements in the 3D array a is 24. The array a consists of two \"blocks,\" each having two rows and six columns, resulting in a total of 4 rows and 12 columns in the entire array. Thus, there are 24 elements in the array a.\n",
        "\n",
        "Finally, we use the reshape() function to change the shape of the array a. We pass the reshape() function three arguments: 6, 4, and 1. This means we want to reshape a into a 3D array with 6 \"blocks,\" each containing 4 rows and 1 column."
      ],
      "metadata": {
        "id": "tenvB2Z4rpNJ"
      }
    }
  ]
}