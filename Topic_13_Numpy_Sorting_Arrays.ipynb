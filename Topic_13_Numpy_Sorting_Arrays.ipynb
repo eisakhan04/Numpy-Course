{
  "nbformat": 4,
  "nbformat_minor": 0,
  "metadata": {
    "colab": {
      "provenance": [],
      "authorship_tag": "ABX9TyNb0kAlesTNthPeAYbR+xnA",
      "include_colab_link": true
    },
    "kernelspec": {
      "name": "python3",
      "display_name": "Python 3"
    },
    "language_info": {
      "name": "python"
    }
  },
  "cells": [
    {
      "cell_type": "markdown",
      "metadata": {
        "id": "view-in-github",
        "colab_type": "text"
      },
      "source": [
        "<a href=\"https://colab.research.google.com/github/eisakhan04/Numpy-Course/blob/main/Topic_13_Numpy_Sorting_Arrays.ipynb\" target=\"_parent\"><img src=\"https://colab.research.google.com/assets/colab-badge.svg\" alt=\"Open In Colab\"/></a>"
      ]
    },
    {
      "cell_type": "markdown",
      "source": [
        "# **Topic 13: Numpy Sorting Arrays**\n",
        "1. sort() function\n",
        "2. sort(a, axis = 0) Column wise arrangement axis = 0\n",
        "3. sort(a, axis = 1) Rows wise arrangement axis = 1\n",
        "4. argsort()\n",
        "5. lexsort((a,b)) first array arrangement and compare to second array index wise\n",
        "6.  np.partition() function"
      ],
      "metadata": {
        "id": "332P2uYDTsC6"
      }
    },
    {
      "cell_type": "markdown",
      "source": [
        "**1. sort() function**"
      ],
      "metadata": {
        "id": "DrBAZgJreeil"
      }
    },
    {
      "cell_type": "code",
      "source": [
        "import numpy as np\n",
        "a= np.array([[3,1,6,9,6,4,8,7,4],[5,2,5,6,4,3,4,6,8]])\n",
        "b=np.sort(a)\n",
        "print(b)"
      ],
      "metadata": {
        "id": "ic28NZrDUAFS",
        "colab": {
          "base_uri": "https://localhost:8080/"
        },
        "outputId": "67560897-c171-47d3-b274-20b38a71e8d2"
      },
      "execution_count": null,
      "outputs": [
        {
          "output_type": "stream",
          "name": "stdout",
          "text": [
            "[[1 3 4 4 6 6 7 8 9]\n",
            " [2 3 4 4 5 5 6 6 8]]\n"
          ]
        }
      ]
    },
    {
      "cell_type": "markdown",
      "source": [
        "**Explanation:**\n",
        "\n",
        "The first line imports the NumPy library and assigns it the alias np. This is a common convention in Python code, as it makes the code more readable.\n",
        "\n",
        "The second line creates a NumPy array called a. This array contains two rows, each of which contains 9 numbers. The numbers in the array are randomly generated.\n",
        "\n",
        "The third line uses the np.sort() function to sort the elements in a in ascending order. The np.sort() function takes an array as input and returns a new array with the elements sorted.\n",
        "\n",
        "The fourth line prints the sorted array b. The output of the print statement is a 2-dimensional array with 9 elements in each row. The elements in each row are sorted in ascending order."
      ],
      "metadata": {
        "id": "avDeW860f55P"
      }
    },
    {
      "cell_type": "markdown",
      "source": [
        "**2. sort(a, axis = 0) Column wise arrangement axis = 0**"
      ],
      "metadata": {
        "id": "IwZfn35pgPPA"
      }
    },
    {
      "cell_type": "code",
      "source": [
        "import numpy as np\n",
        "a= np.array([[3,1,6,9,6,4,8,7,4],[5,2,5,6,4,3,4,6,8]])\n",
        "print(\"Orignal array :\")\n",
        "print(a)\n",
        "print()\n",
        "print(np.sort(a))\n",
        "print()\n",
        "b=np.sort(a, axis= 0) # Column wise sorted\n",
        "print(b)"
      ],
      "metadata": {
        "colab": {
          "base_uri": "https://localhost:8080/"
        },
        "id": "VMfY1mKBgZpQ",
        "outputId": "8b9e26a8-c910-499e-f00f-3d0969be9cb9"
      },
      "execution_count": null,
      "outputs": [
        {
          "output_type": "stream",
          "name": "stdout",
          "text": [
            "Orignal array :\n",
            "[[3 1 6 9 6 4 8 7 4]\n",
            " [5 2 5 6 4 3 4 6 8]]\n",
            "\n",
            "[[1 3 4 4 6 6 7 8 9]\n",
            " [2 3 4 4 5 5 6 6 8]]\n",
            "\n",
            "[[3 1 5 6 4 3 4 6 4]\n",
            " [5 2 6 9 6 4 8 7 8]]\n"
          ]
        }
      ]
    },
    {
      "cell_type": "markdown",
      "source": [
        "**Explanation:**\n",
        "\n",
        "The first line imports the NumPy library and assigns it the alias np. This is a common convention in Python code, as it makes the code more readable.\n",
        "\n",
        "The second line creates a NumPy array called a. This array contains two rows, each of which contains 9 numbers. The numbers in the array are randomly generated.\n",
        "\n",
        "The third line prints the original array a. The output of the print statement is a 2-dimensional array with 9 elements in each row.\n",
        "\n",
        "The fourth line uses the np.sort() function to sort the elements in a in ascending order. The np.sort() function takes an array as input and returns a new array with the elements sorted.\n",
        "\n",
        "The fifth line prints the sorted array. The output of the print statement is a 2-dimensional array with 9 elements in each row. The elements in each row are sorted in ascending order.\n",
        "\n",
        "**The sixth line uses the np.sort() function to sort the elements in a along the axis=0. This means that the elements in each column will be sorted in ascending order.**\n",
        "\n",
        "The seventh line prints the sorted array. The output of the print statement is a 2-dimensional array with 9 elements in each row. The elements in each column are sorted in ascending order."
      ],
      "metadata": {
        "id": "nKkJ5oqSGZaa"
      }
    },
    {
      "cell_type": "markdown",
      "source": [
        "**3. sort(a, axis = 1) Rows wise arrangement axis = 1**"
      ],
      "metadata": {
        "id": "2BL-r6ScuDPL"
      }
    },
    {
      "cell_type": "code",
      "source": [
        "import numpy as np\n",
        "a= np.array([[3,1,6,9,6,4,8,7,4],[5,2,5,6,4,3,4,6,8]])\n",
        "print(\"Orignal array :\")\n",
        "print(a)\n",
        "print()\n",
        "print(np.sort(a))\n",
        "print()\n",
        "b=np.sort(a, axis= 1) # Rows  wise sorted\n",
        "print(b)"
      ],
      "metadata": {
        "colab": {
          "base_uri": "https://localhost:8080/"
        },
        "id": "9bRd3W1ZuCIG",
        "outputId": "87772c53-1af9-4691-d84b-31ea4030531b"
      },
      "execution_count": null,
      "outputs": [
        {
          "output_type": "stream",
          "name": "stdout",
          "text": [
            "Orignal array :\n",
            "[[3 1 6 9 6 4 8 7 4]\n",
            " [5 2 5 6 4 3 4 6 8]]\n",
            "\n",
            "[[1 3 4 4 6 6 7 8 9]\n",
            " [2 3 4 4 5 5 6 6 8]]\n",
            "\n",
            "[[1 3 4 4 6 6 7 8 9]\n",
            " [2 3 4 4 5 5 6 6 8]]\n"
          ]
        }
      ]
    },
    {
      "cell_type": "markdown",
      "source": [
        "**Explanation:**\n",
        "\n",
        "The first line imports the NumPy library and assigns it the alias np. This is a common convention in Python code, as it makes the code more readable.\n",
        "\n",
        "The second line creates a NumPy array called a. This array contains two rows, each of which contains 9 numbers. The numbers in the array are randomly generated.\n",
        "\n",
        "The third line prints the original array a. The output of the print statement is a 2-dimensional array with 9 elements in each row.\n",
        "\n",
        "The fourth line uses the np.sort() function to sort the elements in a in ascending order. The np.sort() function takes an array as input and returns a new array with the elements sorted.\n",
        "\n",
        "The fifth line prints the sorted array. The output of the print statement is a 2-dimensional array with 9 elements in each row. The elements in each row are sorted in ascending order.\n",
        "\n",
        "**The sixth line uses the np.sort() function to sort the elements in a along the axis=1. This means that the elements in each row will be sorted in ascending order.**\n",
        "\n",
        "The seventh line prints the sorted array. The output of the print statement is a 2-dimensional array with 9 elements in each row. The elements in each row are sorted in ascending order."
      ],
      "metadata": {
        "id": "tDQLK-zSHECn"
      }
    },
    {
      "cell_type": "markdown",
      "source": [
        "# **Rows wise sorted in descending order**"
      ],
      "metadata": {
        "id": "3uB4GOMlIdPj"
      }
    },
    {
      "cell_type": "code",
      "source": [
        "import numpy as np\n",
        "\n",
        "a = np.array([[3, 1, 6, 9, 6, 4, 8, 7, 4], [5, 2, 5, 6, 4, 3, 4, 6, 8]])\n",
        "\n",
        "print(\"Orignal array :\")\n",
        "print(a)\n",
        "print()\n",
        "\n",
        "print(np.sort(a))\n",
        "print()\n",
        "\n",
        "b = np.sort(a, axis=1)[::-1]  # Rows wise sorted in descending order\n",
        "print(b)"
      ],
      "metadata": {
        "colab": {
          "base_uri": "https://localhost:8080/"
        },
        "id": "Ojc1QWP4H7Pz",
        "outputId": "93925d6b-94d2-48c7-fc87-58a894867737"
      },
      "execution_count": null,
      "outputs": [
        {
          "output_type": "stream",
          "name": "stdout",
          "text": [
            "Orignal array :\n",
            "[[3 1 6 9 6 4 8 7 4]\n",
            " [5 2 5 6 4 3 4 6 8]]\n",
            "\n",
            "[[1 3 4 4 6 6 7 8 9]\n",
            " [2 3 4 4 5 5 6 6 8]]\n",
            "\n",
            "[[2 3 4 4 5 5 6 6 8]\n",
            " [1 3 4 4 6 6 7 8 9]]\n"
          ]
        }
      ]
    },
    {
      "cell_type": "markdown",
      "source": [
        "**`Explan:`**\n",
        "\n",
        "The code is similar to the code you provided, except that we have added the [::-1] slice to the np.sort() function. The [::-1] slice reverses the order of the elements in the array, which results in the array being sorted in descending order.\n",
        "\n"
      ],
      "metadata": {
        "id": "i2Hv0CEiIR3R"
      }
    },
    {
      "cell_type": "markdown",
      "source": [
        "**4. argsort() /argument sort function:**\n",
        "\n",
        "The numpy.argsort() function is a NumPy method used to perform an indirect sort on a NumPy array. It returns an array of indices that would sort the input array in ascending order by default, but can also sort them in descending order if specified."
      ],
      "metadata": {
        "id": "E1WfRwU1utV-"
      }
    },
    {
      "cell_type": "code",
      "source": [
        "import numpy as np\n",
        "a = np.array([3,2,1,4])\n",
        "b = np.sort(a)\n",
        "print(b)\n",
        "print()\n",
        "c = np.argsort(a)\n",
        "print(c)"
      ],
      "metadata": {
        "id": "RZgCm6iDJmuV",
        "outputId": "f848e196-1ad8-45aa-aae9-c9c74f1ff4ac",
        "colab": {
          "base_uri": "https://localhost:8080/"
        }
      },
      "execution_count": null,
      "outputs": [
        {
          "output_type": "stream",
          "name": "stdout",
          "text": [
            "[1 2 3 4]\n",
            "\n",
            "[2 1 0 3]\n"
          ]
        }
      ]
    },
    {
      "cell_type": "markdown",
      "source": [
        "**Explanation:**\n",
        "\n",
        "The next line of code uses the np.argsort() function to return an array of indices that would sort the array a. The np.argsort() function returns an array of the same shape as a, with the elements in sorted order. The code then prints the array of indices."
      ],
      "metadata": {
        "id": "qZhzm7L1d9M9"
      }
    },
    {
      "cell_type": "code",
      "source": [
        "import numpy as np\n",
        "a = np.array([3,2,1,4])\n",
        "b = np.sort(a)\n",
        "print(b)\n",
        "print()\n",
        "c = np.argsort(b)\n",
        "print(c)"
      ],
      "metadata": {
        "colab": {
          "base_uri": "https://localhost:8080/"
        },
        "id": "i_jetbP0IqA1",
        "outputId": "4791245f-e7a3-4ba1-b2fa-e921832c138c"
      },
      "execution_count": null,
      "outputs": [
        {
          "output_type": "stream",
          "name": "stdout",
          "text": [
            "[1 2 3 4]\n",
            "\n",
            "[0 1 2 3]\n"
          ]
        }
      ]
    },
    {
      "cell_type": "markdown",
      "source": [
        "#**5: lexsort((a,b)) function:**\n",
        "\n",
        "**first array arrangement and compare to second array index wise**\n",
        "\n",
        "The numpy.lexsort() function is a NumPy function that performs an indirect sort on multiple keys. It takes a sequence of arrays and returns an array of indices that can be used to index into the original arrays to obtain a sorted result. The sorting is performed on the last key first, then the second-last key, and so on, until the first key is sorted.\n",
        "\n",
        "The syntax for the numpy.lexsort() function is:\n",
        "\n",
        "numpy.lexsort(keys, axis=-1)\n",
        "\n",
        "where keys is a sequence of arrays that will be used as the sorting keys, and axis specifies the axis along which to sort. By default, axis=-1, which means that the last axis is sorted."
      ],
      "metadata": {
        "id": "rKhoZ6MDesWT"
      }
    },
    {
      "cell_type": "code",
      "source": [
        "import numpy as np\n",
        "a = np.array([3,2,1,4])\n",
        "b = np.array([4,1,3,2])\n",
        "c=np.lexsort((a,b))\n",
        "print(c)"
      ],
      "metadata": {
        "colab": {
          "base_uri": "https://localhost:8080/"
        },
        "id": "xUCXd_RUfKz-",
        "outputId": "8fdfdf1a-e7ba-4e31-8ec3-7b8f9d603559"
      },
      "execution_count": 1,
      "outputs": [
        {
          "output_type": "stream",
          "name": "stdout",
          "text": [
            "[1 3 2 0]\n"
          ]
        }
      ]
    },
    {
      "cell_type": "markdown",
      "source": [
        "The lexicographical sort is determined by comparing the elements in the order of b first and then breaking ties with a. In this example, when comparing the elements in b, [4, 1, 3, 2], the sorted order would be [1, 2, 3, 4]. And for elements with equal values in b, we consider the corresponding elements in a, which results in the final sorted arrays as shown above."
      ],
      "metadata": {
        "id": "LOvVhVAR-E5_"
      }
    },
    {
      "cell_type": "markdown",
      "source": [],
      "metadata": {
        "id": "k0jdtRGy_RyO"
      }
    }
  ]
}