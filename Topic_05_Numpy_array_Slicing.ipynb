{
  "nbformat": 4,
  "nbformat_minor": 0,
  "metadata": {
    "colab": {
      "provenance": [],
      "include_colab_link": true
    },
    "kernelspec": {
      "name": "python3",
      "display_name": "Python 3"
    },
    "language_info": {
      "name": "python"
    }
  },
  "cells": [
    {
      "cell_type": "markdown",
      "metadata": {
        "id": "view-in-github",
        "colab_type": "text"
      },
      "source": [
        "<a href=\"https://colab.research.google.com/github/onlyone11s/Numpy-Course/blob/main/Topic_05_Numpy_array_Slicing.ipynb\" target=\"_parent\"><img src=\"https://colab.research.google.com/assets/colab-badge.svg\" alt=\"Open In Colab\"/></a>"
      ]
    },
    {
      "cell_type": "markdown",
      "source": [
        "#**Topic 05: Numpy array Slicing**  \n",
        "NumPy Array slicing is a technique to extract a portion of a NumPy array. It is done by specifying a range of indices separated by a colon inside the square brackets used to access an array element.\n",
        "\n"
      ],
      "metadata": {
        "id": "Y-nTePogeWJm"
      }
    },
    {
      "cell_type": "markdown",
      "source": [
        "#**The basic syntax for array slicing in NumPy is:**\n",
        "new_array = old_array[start:end:step]\n",
        "\n",
        "Here, start represents the starting index of the slice, end represents the ending index (exclusive) of the slice, and step represents the step size between each element in the slice.\n",
        "\n",
        "Array slicing can be performed on one-dimensional, two-dimensional, or higher-dimensional arrays in NumPy. It is a very powerful and efficient way to manipulate and extract data from arrays, as it avoids the need for iterating through each element manually."
      ],
      "metadata": {
        "id": "P3ktn0IL13Fa"
      }
    },
    {
      "cell_type": "markdown",
      "source": [
        "**start,end,step**\n",
        "\n",
        "**positive index (0 to n-1) negative index (-1 to -n)**"
      ],
      "metadata": {
        "id": "SEIgboc7exrl"
      }
    },
    {
      "cell_type": "markdown",
      "source": [
        "**start with 1 indexes and end brfore 4 indexes**"
      ],
      "metadata": {
        "id": "MuZyclRj60uO"
      }
    },
    {
      "cell_type": "markdown",
      "source": [
        "**Negative Slicing**"
      ],
      "metadata": {
        "id": "7hqB1Xwv4R-4"
      }
    },
    {
      "cell_type": "markdown",
      "source": [
        "**Example 1:**"
      ],
      "metadata": {
        "id": "uO55rQAI4kVf"
      }
    },
    {
      "cell_type": "code",
      "execution_count": null,
      "metadata": {
        "colab": {
          "base_uri": "https://localhost:8080/"
        },
        "id": "fncsnpfneN3v",
        "outputId": "a320c8a0-0cbd-4362-c91e-fb6ba7137a6f"
      },
      "outputs": [
        {
          "output_type": "stream",
          "name": "stdout",
          "text": [
            "[2 3 4]\n",
            "[7 5 3]\n"
          ]
        }
      ],
      "source": [
        "import numpy as np\n",
        "a = np.array([1,2,3,4,5,6,7])\n",
        "print(a[1:4])\n",
        "print(a[-1:-7:-2])"
      ]
    },
    {
      "cell_type": "markdown",
      "source": [
        "**start with 1 indexes and end brfore 8 indexes step 4**"
      ],
      "metadata": {
        "id": "Sv5BoZm255_z"
      }
    },
    {
      "cell_type": "markdown",
      "source": [
        "**Example 2:**"
      ],
      "metadata": {
        "id": "ldqqHwci4tDI"
      }
    },
    {
      "cell_type": "code",
      "source": [
        "a = np.array([1,2,3,4,5,6,7,8,9])\n",
        "print(a[1:8:4])"
      ],
      "metadata": {
        "colab": {
          "base_uri": "https://localhost:8080/"
        },
        "id": "EaF22_7De2S-",
        "outputId": "0ddca228-5a30-4c89-f62c-25c269e42ec7"
      },
      "execution_count": null,
      "outputs": [
        {
          "output_type": "stream",
          "name": "stdout",
          "text": [
            "[2 6]\n"
          ]
        }
      ]
    },
    {
      "cell_type": "markdown",
      "source": [
        "**start with -4 indexes and end brfore -1 indexes**"
      ],
      "metadata": {
        "id": "1JWjLs7r7CMq"
      }
    },
    {
      "cell_type": "markdown",
      "source": [
        "**Negative Slicing**"
      ],
      "metadata": {
        "id": "Eh-MB-md4Y7c"
      }
    },
    {
      "cell_type": "markdown",
      "source": [
        "**Example 3:**"
      ],
      "metadata": {
        "id": "K8ireMTt43Ar"
      }
    },
    {
      "cell_type": "code",
      "source": [
        "a = np.array([1,2,3,4,5,6,7])\n",
        "print(a[-4:-1])"
      ],
      "metadata": {
        "colab": {
          "base_uri": "https://localhost:8080/"
        },
        "id": "FsLDonEze6-7",
        "outputId": "bea8a2ee-9d22-4254-d3c2-6051b810a30f"
      },
      "execution_count": null,
      "outputs": [
        {
          "output_type": "stream",
          "name": "stdout",
          "text": [
            "[4 5 6]\n"
          ]
        }
      ]
    },
    {
      "cell_type": "markdown",
      "source": [
        "**start with -4 indexes and end last indexe**"
      ],
      "metadata": {
        "id": "zjt-KtNL6nNc"
      }
    },
    {
      "cell_type": "markdown",
      "source": [
        "**Example 4:**"
      ],
      "metadata": {
        "id": "bPykCdPG479q"
      }
    },
    {
      "cell_type": "code",
      "source": [
        "a = np.array([1,2,3,4,5,6,7])\n",
        "print(a[-4:])"
      ],
      "metadata": {
        "colab": {
          "base_uri": "https://localhost:8080/"
        },
        "id": "5oT6PwFYe8K3",
        "outputId": "28938916-fce5-44b5-eacc-e3479cbc1fac"
      },
      "execution_count": null,
      "outputs": [
        {
          "output_type": "stream",
          "name": "stdout",
          "text": [
            "[4 5 6 7]\n"
          ]
        }
      ]
    },
    {
      "cell_type": "markdown",
      "source": [
        "**end before -4 indexe**"
      ],
      "metadata": {
        "id": "a5PL4Q8A7P1F"
      }
    },
    {
      "cell_type": "markdown",
      "source": [
        "**Example 5:**"
      ],
      "metadata": {
        "id": "lYWYhaqM5Auc"
      }
    },
    {
      "cell_type": "code",
      "source": [
        "a = np.array([1,2,3,4,5,6,7])\n",
        "print(a[:-4])"
      ],
      "metadata": {
        "colab": {
          "base_uri": "https://localhost:8080/"
        },
        "id": "N8kLgcN-fB92",
        "outputId": "75676067-2cc1-4549-9da3-b648ca0838dd"
      },
      "execution_count": null,
      "outputs": [
        {
          "output_type": "stream",
          "name": "stdout",
          "text": [
            "[1 2 3]\n"
          ]
        }
      ]
    },
    {
      "cell_type": "markdown",
      "source": [
        "**start with 4 indexes and end last indexe**"
      ],
      "metadata": {
        "id": "COFC7yju7gr-"
      }
    },
    {
      "cell_type": "markdown",
      "source": [
        "**Example 6:**"
      ],
      "metadata": {
        "id": "kLlK1Xnn5HTV"
      }
    },
    {
      "cell_type": "code",
      "source": [
        "a = np.array([1,2,3,4,5,6,7])\n",
        "print(a[4:])"
      ],
      "metadata": {
        "colab": {
          "base_uri": "https://localhost:8080/"
        },
        "id": "ONUM4tt_fDQ6",
        "outputId": "0f75944e-2ea6-4c8e-b18e-46d6dc6abfdf"
      },
      "execution_count": null,
      "outputs": [
        {
          "output_type": "stream",
          "name": "stdout",
          "text": [
            "[5 6 7]\n"
          ]
        }
      ]
    },
    {
      "cell_type": "markdown",
      "source": [
        "**start 1st indexe and end before 4 indexe**"
      ],
      "metadata": {
        "id": "ckRdJy7i7qEY"
      }
    },
    {
      "cell_type": "markdown",
      "source": [
        "**Example 7:**"
      ],
      "metadata": {
        "id": "TKLphQyc5MdM"
      }
    },
    {
      "cell_type": "code",
      "source": [
        "a = np.array([1,2,3,4,5,6,7])\n",
        "print(a[:4])"
      ],
      "metadata": {
        "colab": {
          "base_uri": "https://localhost:8080/"
        },
        "id": "8ZlA2zLvfIeG",
        "outputId": "01488e69-12e9-4a04-dd7f-256e81b562d9"
      },
      "execution_count": null,
      "outputs": [
        {
          "output_type": "stream",
          "name": "stdout",
          "text": [
            "[1 2 3 4]\n"
          ]
        }
      ]
    },
    {
      "cell_type": "markdown",
      "source": [
        "**show the list indexe and start with 2 and end before 5 indexes**"
      ],
      "metadata": {
        "id": "oVdPJDv77_jx"
      }
    },
    {
      "cell_type": "markdown",
      "source": [
        "**Example 8:**"
      ],
      "metadata": {
        "id": "M5vo4AZ05YhE"
      }
    },
    {
      "cell_type": "code",
      "source": [
        "a = np.array([[1,2,3,4,5,6],[7,8,9,10,11,13]])\n",
        "print(a[1,2:5])"
      ],
      "metadata": {
        "colab": {
          "base_uri": "https://localhost:8080/"
        },
        "id": "KgbAj-KMfL8i",
        "outputId": "9ab340dd-e88d-45b8-baf1-2ba65e74af64"
      },
      "execution_count": null,
      "outputs": [
        {
          "output_type": "stream",
          "name": "stdout",
          "text": [
            "[ 9 10 11]\n"
          ]
        }
      ]
    },
    {
      "cell_type": "markdown",
      "source": [
        "**show the list indexe and start with 2 and end last indexes**"
      ],
      "metadata": {
        "id": "9aIMotUX8bFG"
      }
    },
    {
      "cell_type": "markdown",
      "source": [
        "**Example 9:**"
      ],
      "metadata": {
        "id": "xBkM-DSP5cY3"
      }
    },
    {
      "cell_type": "code",
      "source": [
        "import numpy as np\n",
        "a = np.array([[1,2,3,4,5,6],[7,8,9,10,11,13]])\n",
        "print(a[1,2:])"
      ],
      "metadata": {
        "colab": {
          "base_uri": "https://localhost:8080/"
        },
        "id": "AjONjsDAfQdv",
        "outputId": "c43e8a05-5786-4b1a-aac7-5c03a49b497a"
      },
      "execution_count": 20,
      "outputs": [
        {
          "output_type": "stream",
          "name": "stdout",
          "text": [
            "[ 9 10 11 13]\n"
          ]
        }
      ]
    },
    {
      "cell_type": "markdown",
      "source": [
        "**Example 10:**"
      ],
      "metadata": {
        "id": "NhHADRBy5gNx"
      }
    },
    {
      "cell_type": "code",
      "source": [
        "a = np.array([[1,2,3,4,5,6],[7,8,9,10,11,13]])\n",
        "print(a)\n",
        "print(a[0:2,1:5])"
      ],
      "metadata": {
        "colab": {
          "base_uri": "https://localhost:8080/"
        },
        "id": "fyv9jl7pfTl6",
        "outputId": "63e10433-f14b-4cba-d323-ecb8cbacc068"
      },
      "execution_count": 4,
      "outputs": [
        {
          "output_type": "stream",
          "name": "stdout",
          "text": [
            "[[ 1  2  3  4  5  6]\n",
            " [ 7  8  9 10 11 13]]\n",
            "[[ 2  3  4  5]\n",
            " [ 8  9 10 11]]\n"
          ]
        }
      ]
    },
    {
      "cell_type": "markdown",
      "source": [
        "**2D array Slicing**\n",
        "**Example 11:**"
      ],
      "metadata": {
        "id": "HB4BLKpK5mGP"
      }
    },
    {
      "cell_type": "code",
      "source": [
        "a = np.array([[1,2,3,4,5,6],[7,8,9,10,11,13],[12,14, 15, 16, 17,18]])\n",
        "print(a)\n",
        "print(a[0:3,1:5])"
      ],
      "metadata": {
        "colab": {
          "base_uri": "https://localhost:8080/"
        },
        "id": "uibaHpz1fWop",
        "outputId": "be47d8d5-dceb-4f94-cbac-6475452cdaa3"
      },
      "execution_count": 5,
      "outputs": [
        {
          "output_type": "stream",
          "name": "stdout",
          "text": [
            "[[ 1  2  3  4  5  6]\n",
            " [ 7  8  9 10 11 13]\n",
            " [12 14 15 16 17 18]]\n",
            "[[ 2  3  4  5]\n",
            " [ 8  9 10 11]\n",
            " [14 15 16 17]]\n"
          ]
        }
      ]
    },
    {
      "cell_type": "markdown",
      "source": [
        "**Example 12:**"
      ],
      "metadata": {
        "id": "A05wQrEU5yp6"
      }
    },
    {
      "cell_type": "markdown",
      "source": [
        "**Example 13:**"
      ],
      "metadata": {
        "id": "3ThMpM2053J4"
      }
    },
    {
      "cell_type": "code",
      "source": [
        "a = np.array([[1,2,3,4,5,6],[7,8,9,10,11,13],[12,14, 15, 16, 17,18]])\n",
        "print(a[0:3,1:5])"
      ],
      "metadata": {
        "colab": {
          "base_uri": "https://localhost:8080/"
        },
        "id": "tzKyzbPGfZI5",
        "outputId": "e95a0159-bf17-4318-edb6-d2518dc6e0e4"
      },
      "execution_count": null,
      "outputs": [
        {
          "output_type": "stream",
          "name": "stdout",
          "text": [
            "[[ 2  3  4  5]\n",
            " [ 8  9 10 11]\n",
            " [14 15 16 17]]\n"
          ]
        }
      ]
    },
    {
      "cell_type": "markdown",
      "source": [
        "**Example 14:**"
      ],
      "metadata": {
        "id": "k4pduw0L58tZ"
      }
    },
    {
      "cell_type": "code",
      "source": [
        "a = np.array([[1,2,3,4,5,6],[7,8,9,10,11,13],[12,14, 15, 16, 17,18]])\n",
        "print(a[1:3,1:5])"
      ],
      "metadata": {
        "colab": {
          "base_uri": "https://localhost:8080/"
        },
        "id": "Q2vQvdWXfcvZ",
        "outputId": "0a80bec9-5664-47b9-cc01-3e80fae6ef5e"
      },
      "execution_count": null,
      "outputs": [
        {
          "output_type": "stream",
          "name": "stdout",
          "text": [
            "[[ 8  9 10 11]\n",
            " [14 15 16 17]]\n"
          ]
        }
      ]
    },
    {
      "cell_type": "markdown",
      "source": [
        "**First index means list wise**\n",
        "\n",
        "**2nd index means in list element wise**\n",
        "* **OR**\n",
        "* **First index means Row and Second index means column**\n",
        "\n",
        "\n",
        "\n"
      ],
      "metadata": {
        "id": "V7a0sSPoff2n"
      }
    },
    {
      "cell_type": "markdown",
      "source": [
        "**Example 15:**"
      ],
      "metadata": {
        "id": "xElw4hAL6D4Z"
      }
    },
    {
      "cell_type": "code",
      "source": [
        "import numpy as np\n",
        "a = np.array([[1,2,3,4,5,6],[7,8,9,10,11,13],[12,14,15,16,17,18],[15,16,19,20,23,24]])\n",
        "print(a)\n",
        "print(a[1:3, 1:5])"
      ],
      "metadata": {
        "colab": {
          "base_uri": "https://localhost:8080/"
        },
        "id": "QhdA9hIZfn-g",
        "outputId": "bd68ffee-a52b-43d6-d09f-dfe5d55221ec"
      },
      "execution_count": 6,
      "outputs": [
        {
          "output_type": "stream",
          "name": "stdout",
          "text": [
            "[[ 1  2  3  4  5  6]\n",
            " [ 7  8  9 10 11 13]\n",
            " [12 14 15 16 17 18]\n",
            " [15 16 19 20 23 24]]\n",
            "[[ 8  9 10 11]\n",
            " [14 15 16 17]]\n"
          ]
        }
      ]
    },
    {
      "cell_type": "markdown",
      "source": [
        "**Example 16:**"
      ],
      "metadata": {
        "id": "RhYrvETq6HxL"
      }
    },
    {
      "cell_type": "code",
      "source": [
        "import numpy as np\n",
        "a = np.array([[1,2,3,4,5,6],[7,8,9,10,11,13],[12,14,15,16,17,18],[15,16,19,20,23,24]])\n",
        "print(a[0:3, 1:6])"
      ],
      "metadata": {
        "colab": {
          "base_uri": "https://localhost:8080/"
        },
        "id": "7tNdhC19ftbr",
        "outputId": "d55f25ac-d464-4a73-d64c-e8448cec1a22"
      },
      "execution_count": null,
      "outputs": [
        {
          "output_type": "stream",
          "name": "stdout",
          "text": [
            "[[ 2  3  4  5  6]\n",
            " [ 8  9 10 11 13]\n",
            " [14 15 16 17 18]]\n"
          ]
        }
      ]
    },
    {
      "cell_type": "markdown",
      "source": [
        "#**Advance Numpy array Slicing**"
      ],
      "metadata": {
        "id": "zDqcaBqxndCH"
      }
    },
    {
      "cell_type": "markdown",
      "source": [
        "#**explanation:**\n",
        "**Importing NumPy:** The script begins by importing the NumPy library with the alias \"np.\" NumPy is a powerful library in Python used for numerical computations, particularly for working with arrays and matrices.\n",
        "\n",
        "**Defining Arrays:** Four lists, 'a', 'b', 'c', and 'd', are defined, each containing six integer elements. These lists represent different rows of a 2-dimensional array.\n",
        "\n",
        "**Creating a 2D Array:** The script then combines lists 'a', 'b', and 'c' into a 2-dimensional NumPy array named 's.' This array has three rows (corresponding to 'a', 'b', and 'c') and six columns (since each row contains six elements).\n",
        "\n",
        "**Printing the Array:** The script prints the entire 2D array 's' using the 'print' function.\n",
        "\n"
      ],
      "metadata": {
        "id": "JCUsAOSR3HGG"
      }
    },
    {
      "cell_type": "code",
      "source": [
        "import numpy as np\n",
        "a=[1,2,3,4,5,6]\n",
        "b=[7,8,9,0,10,11]\n",
        "c=[12,13,14,15,16,17]\n",
        "d=[18,19,20,21,22,23]\n",
        "s=np.array([a,b,c])\n",
        "print(s)\n",
        "print(np.size(s))\n",
        "print(s[1:3,1:6:2])\n",
        "\n",
        "\n"
      ],
      "metadata": {
        "id": "wRHAcUbJnchy"
      },
      "execution_count": null,
      "outputs": []
    },
    {
      "cell_type": "markdown",
      "source": [
        "**Slicing the Array:** The script uses slicing to extract a subset of the array 's.' Specifically, it takes rows 1 to 2 (exclusive of row 3) and columns 1 to 5 (exclusive of column 6) with a step of 2. The sliced array is then printed."
      ],
      "metadata": {
        "id": "h9JUv5Hg3oVN"
      }
    }
  ]
}