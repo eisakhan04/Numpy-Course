{
  "nbformat": 4,
  "nbformat_minor": 0,
  "metadata": {
    "colab": {
      "provenance": [],
      "authorship_tag": "ABX9TyOMI3ei7ThXG+/X5XyTG4Bw",
      "include_colab_link": true
    },
    "kernelspec": {
      "name": "python3",
      "display_name": "Python 3"
    },
    "language_info": {
      "name": "python"
    }
  },
  "cells": [
    {
      "cell_type": "markdown",
      "metadata": {
        "id": "view-in-github",
        "colab_type": "text"
      },
      "source": [
        "<a href=\"https://colab.research.google.com/github/onlyone11s/Numpy-Course/blob/main/Topic_2_Numpy_array_Creation_.ipynb\" target=\"_parent\"><img src=\"https://colab.research.google.com/assets/colab-badge.svg\" alt=\"Open In Colab\"/></a>"
      ]
    },
    {
      "cell_type": "markdown",
      "source": [
        "# ***Topic 02: Numpy Array Creation***\n",
        "Numpy is a popular Python library used for scientific computing, particularly for working with arrays. Numpy arrays are similar to Python lists, but they offer more efficient and convenient ways to perform mathematical operations on large datasets."
      ],
      "metadata": {
        "id": "cjVcHw-bAXMk"
      }
    },
    {
      "cell_type": "markdown",
      "source": [
        "# There are several ways to create a numpy array.\n",
        "# 1.Creating an array from a list or tuple:\n",
        "import numpy as np my_list = [1, 2, 3, 4, 5] my_array = np.array(my_list) Creating an array of random values:\n",
        "\n",
        "# 2.Creating an array of zeros or ones:\n",
        "zeros_array = np.zeros(5) # creates an array of five zeros ones_array = np.ones(3) # creates an array of three ones\n",
        "\n",
        "# 3.Creating an array with a arange of values:\n",
        "range_array = np.arange(0, 10, 2) # creates an array with values from 0 to 8 in increments of 2\n",
        "# 4.Creating an array of random values:\n",
        "random_array = np.random.rand(3, 4) # creates a 3x4 array of random values between 0 and 1\n",
        "\n",
        "# 5.Creating an array of evenly spaced values:\n",
        "linear_array = np.linspace(0, 1, 11) # creates an array of 11 evenly spaced values between 0 and 1\n",
        "\n",
        "These are just a few examples of ways to create numpy arrays. Numpy also provides many functions to manipulate arrays, such as reshaping, slicing, and concatenating, among others.\n",
        "\n",
        "# 1.Creating an array from a list or tuple:\n",
        "\n",
        "***Example 01***\n",
        "\n",
        " ***function:***\n",
        " zeros,ones,arange,reshape,linspace"
      ],
      "metadata": {
        "id": "9bGBtKLWiPzY"
      }
    },
    {
      "cell_type": "markdown",
      "source": [
        "# **zeros function**"
      ],
      "metadata": {
        "id": "zZQYf-vIjghe"
      }
    },
    {
      "cell_type": "code",
      "execution_count": 1,
      "metadata": {
        "colab": {
          "base_uri": "https://localhost:8080/"
        },
        "id": "CH3AryPiiNT6",
        "outputId": "61badd8c-1839-436a-dd5c-55cf93a64c40"
      },
      "outputs": [
        {
          "output_type": "stream",
          "name": "stdout",
          "text": [
            "[0. 0. 0. 0.]\n"
          ]
        }
      ],
      "source": [
        "# 1D array\n",
        "import numpy as np\n",
        "a = np.zeros(4)\n",
        "print(a)"
      ]
    },
    {
      "cell_type": "code",
      "source": [
        "# 2D array\n",
        "import numpy as np\n",
        "a = np.zeros((4,2))\n",
        "print(a)"
      ],
      "metadata": {
        "colab": {
          "base_uri": "https://localhost:8080/"
        },
        "id": "ow4epXVqjAIs",
        "outputId": "fe5da7bb-4608-421b-93ac-12eb30dbc747"
      },
      "execution_count": 9,
      "outputs": [
        {
          "output_type": "stream",
          "name": "stdout",
          "text": [
            "[[0. 0.]\n",
            " [0. 0.]\n",
            " [0. 0.]\n",
            " [0. 0.]]\n"
          ]
        }
      ]
    },
    {
      "cell_type": "code",
      "source": [
        "import numpy as np\n",
        "\n",
        "# Creating a 1D array of zeros\n",
        "zeros_1d = np.zeros(5)\n",
        "print(\"1D Array of Zeros:\")\n",
        "print(zeros_1d)\n",
        "\n",
        "# Creating a 2D array of zeros\n",
        "zeros_2d = np.zeros((3, 4))\n",
        "print(\"2D Array of Zeros:\")\n",
        "print(zeros_2d)\n",
        "\n",
        "# Creating a 3D array of zeros\n",
        "zeros_3d = np.zeros((2, 3, 2))\n",
        "print(\"3D Array of Zeros:\")\n",
        "print(zeros_3d)"
      ],
      "metadata": {
        "id": "gakxaN96yM6S"
      },
      "execution_count": null,
      "outputs": []
    },
    {
      "cell_type": "markdown",
      "source": [
        "# ***ones function***"
      ],
      "metadata": {
        "id": "DHMFzsQ2mUxy"
      }
    },
    {
      "cell_type": "code",
      "source": [
        "import numpy as np\n",
        "a = np.ones(3)\n",
        "print(a)"
      ],
      "metadata": {
        "colab": {
          "base_uri": "https://localhost:8080/"
        },
        "id": "nnKBRfsAmaM7",
        "outputId": "ebf89174-8977-4f35-fe70-f047998f6d05"
      },
      "execution_count": 10,
      "outputs": [
        {
          "output_type": "stream",
          "name": "stdout",
          "text": [
            "[1. 1. 1.]\n"
          ]
        }
      ]
    },
    {
      "cell_type": "code",
      "source": [
        "import numpy as np\n",
        "a = np.ones((3,5))\n",
        "print(a)"
      ],
      "metadata": {
        "colab": {
          "base_uri": "https://localhost:8080/"
        },
        "id": "ZYVLKi8Bmnx7",
        "outputId": "f8af9cfb-15cb-49a1-837d-90c4a6d57415"
      },
      "execution_count": null,
      "outputs": [
        {
          "output_type": "stream",
          "name": "stdout",
          "text": [
            "[[1. 1. 1. 1. 1.]\n",
            " [1. 1. 1. 1. 1.]\n",
            " [1. 1. 1. 1. 1.]]\n"
          ]
        }
      ]
    },
    {
      "cell_type": "markdown",
      "source": [
        "**Arange function**"
      ],
      "metadata": {
        "id": "HAn9rqINnJC3"
      }
    },
    {
      "cell_type": "code",
      "source": [
        "import numpy as np\n",
        "a = np.arange(0,5)\n",
        "print(a)"
      ],
      "metadata": {
        "colab": {
          "base_uri": "https://localhost:8080/"
        },
        "id": "I4tXcjk2nIqK",
        "outputId": "df895933-b3aa-49ea-eced-5334d11abeb6"
      },
      "execution_count": null,
      "outputs": [
        {
          "output_type": "stream",
          "name": "stdout",
          "text": [
            "[0 1 2 3 4]\n"
          ]
        }
      ]
    },
    {
      "cell_type": "code",
      "source": [
        "import numpy as np\n",
        "a = np.arange(1,10,4)\n",
        "print(a)"
      ],
      "metadata": {
        "colab": {
          "base_uri": "https://localhost:8080/"
        },
        "id": "lQP40p_Bn-_4",
        "outputId": "1ed06452-126d-4d81-94bc-3b282e06b294"
      },
      "execution_count": null,
      "outputs": [
        {
          "output_type": "stream",
          "name": "stdout",
          "text": [
            "[1 5 9]\n"
          ]
        }
      ]
    },
    {
      "cell_type": "markdown",
      "source": [
        "**linspace function**"
      ],
      "metadata": {
        "id": "SzkthdIwpTTM"
      }
    },
    {
      "cell_type": "code",
      "source": [
        "import numpy as np\n",
        "a = np.linspace(1,5)\n",
        "print(a)"
      ],
      "metadata": {
        "colab": {
          "base_uri": "https://localhost:8080/"
        },
        "id": "6rkv84G4pKiS",
        "outputId": "5133eb6f-d817-488f-df86-68285943956f"
      },
      "execution_count": null,
      "outputs": [
        {
          "output_type": "stream",
          "name": "stdout",
          "text": [
            "[1.         1.08163265 1.16326531 1.24489796 1.32653061 1.40816327\n",
            " 1.48979592 1.57142857 1.65306122 1.73469388 1.81632653 1.89795918\n",
            " 1.97959184 2.06122449 2.14285714 2.2244898  2.30612245 2.3877551\n",
            " 2.46938776 2.55102041 2.63265306 2.71428571 2.79591837 2.87755102\n",
            " 2.95918367 3.04081633 3.12244898 3.20408163 3.28571429 3.36734694\n",
            " 3.44897959 3.53061224 3.6122449  3.69387755 3.7755102  3.85714286\n",
            " 3.93877551 4.02040816 4.10204082 4.18367347 4.26530612 4.34693878\n",
            " 4.42857143 4.51020408 4.59183673 4.67346939 4.75510204 4.83673469\n",
            " 4.91836735 5.        ]\n"
          ]
        }
      ]
    },
    {
      "cell_type": "code",
      "source": [
        "import numpy as np\n",
        "a = np.linspace(1,20,3)\n",
        "print(a)"
      ],
      "metadata": {
        "colab": {
          "base_uri": "https://localhost:8080/"
        },
        "id": "V-fpHFA8qDX6",
        "outputId": "4c635415-cf2b-453c-eac6-f8abf3ba2dd8"
      },
      "execution_count": 15,
      "outputs": [
        {
          "output_type": "stream",
          "name": "stdout",
          "text": [
            "[ 1.  10.5 20. ]\n"
          ]
        }
      ]
    },
    {
      "cell_type": "code",
      "source": [
        "import numpy as np\n",
        "a = np.linspace(0, 1, 11)\n",
        "print(a)\n"
      ],
      "metadata": {
        "id": "x_mA7weC0Uv0",
        "outputId": "ecfa816e-8853-4aeb-91af-3e183a21e87a",
        "colab": {
          "base_uri": "https://localhost:8080/"
        }
      },
      "execution_count": 12,
      "outputs": [
        {
          "output_type": "stream",
          "name": "stdout",
          "text": [
            "[0.  0.1 0.2 0.3 0.4 0.5 0.6 0.7 0.8 0.9 1. ]\n"
          ]
        }
      ]
    },
    {
      "cell_type": "code",
      "source": [
        "import numpy as np\n",
        "a = np.arange(1,10)\n",
        "print(a)\n",
        "print(\"Reshape array\")\n",
        "b = a.reshape(3,3)\n",
        "print(b)"
      ],
      "metadata": {
        "colab": {
          "base_uri": "https://localhost:8080/"
        },
        "id": "80w-w76vsgbz",
        "outputId": "ca5be625-a9e9-4d9c-8d52-497bdd54be02"
      },
      "execution_count": null,
      "outputs": [
        {
          "output_type": "stream",
          "name": "stdout",
          "text": [
            "[1 2 3 4 5 6 7 8 9]\n",
            "Reshape array\n",
            "[[1 2 3]\n",
            " [4 5 6]\n",
            " [7 8 9]]\n"
          ]
        }
      ]
    },
    {
      "cell_type": "code",
      "source": [
        "import numpy as np\n",
        "a = np.arange(1,17)\n",
        "print(a)\n",
        "print(\"Reshape array\")\n",
        "b = a.reshape(16,1)\n",
        "print(b)"
      ],
      "metadata": {
        "colab": {
          "base_uri": "https://localhost:8080/"
        },
        "id": "84KyxAtrt6YJ",
        "outputId": "f33c2077-b160-4e09-e28b-665d8a54f0f3"
      },
      "execution_count": null,
      "outputs": [
        {
          "output_type": "stream",
          "name": "stdout",
          "text": [
            "[ 1  2  3  4  5  6  7  8  9 10 11 12 13 14 15 16]\n",
            "Reshape array\n",
            "[[ 1]\n",
            " [ 2]\n",
            " [ 3]\n",
            " [ 4]\n",
            " [ 5]\n",
            " [ 6]\n",
            " [ 7]\n",
            " [ 8]\n",
            " [ 9]\n",
            " [10]\n",
            " [11]\n",
            " [12]\n",
            " [13]\n",
            " [14]\n",
            " [15]\n",
            " [16]]\n"
          ]
        }
      ]
    },
    {
      "cell_type": "code",
      "source": [
        "import numpy as np\n",
        "a = np.arange(1,16)\n",
        "print(a)\n",
        "print(\"Reshape array\")\n",
        "b = a.reshape(15,1)\n",
        "print(b)"
      ],
      "metadata": {
        "colab": {
          "base_uri": "https://localhost:8080/"
        },
        "id": "EUK1btuDuqao",
        "outputId": "ee7ad5be-f90f-48a5-e3c1-c26a2523ccb9"
      },
      "execution_count": null,
      "outputs": [
        {
          "output_type": "stream",
          "name": "stdout",
          "text": [
            "[ 1  2  3  4  5  6  7  8  9 10 11 12 13 14 15]\n",
            "Reshape array\n",
            "[[ 1]\n",
            " [ 2]\n",
            " [ 3]\n",
            " [ 4]\n",
            " [ 5]\n",
            " [ 6]\n",
            " [ 7]\n",
            " [ 8]\n",
            " [ 9]\n",
            " [10]\n",
            " [11]\n",
            " [12]\n",
            " [13]\n",
            " [14]\n",
            " [15]]\n"
          ]
        }
      ]
    },
    {
      "cell_type": "markdown",
      "source": [
        "# Creating an array of random values:"
      ],
      "metadata": {
        "id": "dnVvfcOYzkPo"
      }
    },
    {
      "cell_type": "code",
      "source": [
        "import numpy as np\n",
        "a = np.random.rand(2, 4)\n",
        "print(a)"
      ],
      "metadata": {
        "id": "BRnhm2kozjzI",
        "outputId": "bae17491-5b8f-4de1-b0f2-8d28eb03f5aa",
        "colab": {
          "base_uri": "https://localhost:8080/"
        }
      },
      "execution_count": 11,
      "outputs": [
        {
          "output_type": "stream",
          "name": "stdout",
          "text": [
            "[[0.52798627 0.3450131  0.88189535 0.21797318]\n",
            " [0.89549755 0.27145711 0.69203339 0.23985624]]\n"
          ]
        }
      ]
    },
    {
      "cell_type": "markdown",
      "source": [
        "The code you provided creates a 2-dimensional NumPy array called \"a\" that has 3 rows and 4 columns. The values in the array are randomly generated using the \"np.random.rand()\" function, which creates an array of random numbers uniformly distributed between 0 and 1. The resulting array is then printed using the \"print()\" function."
      ],
      "metadata": {
        "id": "x4W3qwLIz3yb"
      }
    }
  ]
}