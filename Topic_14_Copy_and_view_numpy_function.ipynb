{
  "nbformat": 4,
  "nbformat_minor": 0,
  "metadata": {
    "colab": {
      "provenance": [],
      "include_colab_link": true
    },
    "kernelspec": {
      "name": "python3",
      "display_name": "Python 3"
    },
    "language_info": {
      "name": "python"
    }
  },
  "cells": [
    {
      "cell_type": "markdown",
      "metadata": {
        "id": "view-in-github",
        "colab_type": "text"
      },
      "source": [
        "<a href=\"https://colab.research.google.com/github/eisakhan04/Numpy-Course/blob/main/Topic_14_Copy_and_view_numpy_function.ipynb\" target=\"_parent\"><img src=\"https://colab.research.google.com/assets/colab-badge.svg\" alt=\"Open In Colab\"/></a>"
      ]
    },
    {
      "cell_type": "markdown",
      "source": [
        "# **Topic 14: Copy and view numpy function**"
      ],
      "metadata": {
        "id": "1cuftXXuIvUi"
      }
    },
    {
      "cell_type": "markdown",
      "source": [
        "NumPy is a popular library in Python for numerical computing. It provides an efficient way to work with arrays and matrices. When working with NumPy arrays, it is important to understand the concepts of copying and viewing arrays.\n",
        "\n",
        "The main difference between a copy and a view of an array is that the copy is a new array, and the view is just a view of the original array.\n",
        "\n",
        "The copy owns the data and any changes made to the copy will not affect original array, and any changes made to the original array will not affect the copy."
      ],
      "metadata": {
        "id": "ayA-cc61yTdt"
      }
    },
    {
      "cell_type": "markdown",
      "source": [
        "**Numpy. Copy() Function:**\n",
        "\n",
        "The copy() function in NumPy creates a deep copy of an array or a matrix. This means that a new object is created with its own memory, and any changes made to the new object will not affect the original array or matrix.\n",
        "\n",
        "\n",
        "\n"
      ],
      "metadata": {
        "id": "9EnPdrglLTWI"
      }
    },
    {
      "cell_type": "code",
      "source": [
        "import numpy as np\n",
        "a=np.array([2,3,4,5])\n",
        "print(\"orignal array :\",a)\n",
        "print()\n",
        "b=a.copy()\n",
        "print(\"copy array :\",b)"
      ],
      "metadata": {
        "colab": {
          "base_uri": "https://localhost:8080/"
        },
        "id": "k6mdVvxAyCMy",
        "outputId": "3755578d-0ad7-4631-b20f-ae22fee7a377"
      },
      "execution_count": 6,
      "outputs": [
        {
          "output_type": "stream",
          "name": "stdout",
          "text": [
            "orignal array : [2 3 4 5]\n",
            "\n",
            "copy array : [2 3 4 5]\n"
          ]
        }
      ]
    },
    {
      "cell_type": "code",
      "source": [
        "# numpy two deminsional array\n",
        "import numpy as np\n",
        "a=np.array([[1,2,3,4],[5,6,7,8]])\n",
        "b=a.copy()\n",
        "print(\"original array:\",a)\n",
        "print()\n",
        "print(\"copy array:\",b)\n"
      ],
      "metadata": {
        "colab": {
          "base_uri": "https://localhost:8080/"
        },
        "id": "EQEwWQHqys8N",
        "outputId": "4574fb7a-fd1d-475e-9581-60b7faae5b09"
      },
      "execution_count": 8,
      "outputs": [
        {
          "output_type": "stream",
          "name": "stdout",
          "text": [
            "original array: [[1 2 3 4]\n",
            " [5 6 7 8]]\n",
            "\n",
            "copy array: [[1 2 3 4]\n",
            " [5 6 7 8]]\n"
          ]
        }
      ]
    },
    {
      "cell_type": "markdown",
      "source": [
        "**Example 04: Creating a copy of a slice of an array:**"
      ],
      "metadata": {
        "id": "_oGlmLLBv4z0"
      }
    },
    {
      "cell_type": "code",
      "source": [
        "\n",
        "import numpy as np\n",
        "\n",
        "a = np.array([[1, 2], [3, 4]])\n",
        "b = a[:,1].copy()\n",
        "print(\"original array:\",a)\n",
        "print()\n",
        "print(\"copy array:\",b)"
      ],
      "metadata": {
        "colab": {
          "base_uri": "https://localhost:8080/"
        },
        "id": "fwpDteaov2wF",
        "outputId": "9d41f251-73d6-4ffa-ac57-aa81909649a9"
      },
      "execution_count": 2,
      "outputs": [
        {
          "output_type": "stream",
          "name": "stdout",
          "text": [
            "original array: [[1 2]\n",
            " [3 4]]\n",
            "\n",
            "copy array: [2 4]\n"
          ]
        }
      ]
    },
    {
      "cell_type": "markdown",
      "source": [
        "**Example 05: Creating a copy of an array with a different data type:**"
      ],
      "metadata": {
        "id": "bMhTkJGQwGOo"
      }
    },
    {
      "cell_type": "code",
      "source": [
        "import numpy as np\n",
        "a = np.array([1, 2, 3])\n",
        "b= a.astype(float).copy()\n",
        "print(\"original array:\",a)\n",
        "print()\n",
        "print(\"copy float array:\",b)\n",
        "print()\n",
        "c = a.astype(complex).copy()\n",
        "print(\"copy complex array:\",c)"
      ],
      "metadata": {
        "colab": {
          "base_uri": "https://localhost:8080/"
        },
        "id": "gD0pcp3MwFDy",
        "outputId": "c3abe072-9216-4503-abea-5a762da191d5"
      },
      "execution_count": 11,
      "outputs": [
        {
          "output_type": "stream",
          "name": "stdout",
          "text": [
            "original array: [1 2 3]\n",
            "\n",
            "copy float array: [1. 2. 3.]\n",
            "\n",
            "copy complex array: [1.+0.j 2.+0.j 3.+0.j]\n"
          ]
        }
      ]
    },
    {
      "cell_type": "code",
      "source": [
        "import numpy as np\n",
        "a = np.array([2,3,4,5])\n",
        "#list value is change copy()function is change\n",
        "a[1] = 43\n",
        "a[2]=32\n",
        "print(\"original array\",a)\n",
        "print()\n",
        "b = a.copy()\n",
        "print(\"copy array\",b)"
      ],
      "metadata": {
        "colab": {
          "base_uri": "https://localhost:8080/"
        },
        "id": "xnaMo2pnKFnB",
        "outputId": "cd40c65b-3a76-4d59-93f9-10a4f3a96879"
      },
      "execution_count": 12,
      "outputs": [
        {
          "output_type": "stream",
          "name": "stdout",
          "text": [
            "original array [ 2 43 32  5]\n",
            "\n",
            "copy array [ 2 43 32  5]\n"
          ]
        }
      ]
    },
    {
      "cell_type": "code",
      "source": [
        "import numpy as np\n",
        "a = np.array([2,3,4,5])\n",
        "b = a.copy()\n",
        "#list value is change copy()function is not change\n",
        "a[1] = 43\n",
        "print(\"original array\",a)\n",
        "print()\n",
        "print(\"copy array\",b)\n",
        "\n"
      ],
      "metadata": {
        "colab": {
          "base_uri": "https://localhost:8080/"
        },
        "id": "mJ8RDZyjK0gQ",
        "outputId": "733129a4-602b-4f05-a2e0-d10c6600af05"
      },
      "execution_count": null,
      "outputs": [
        {
          "output_type": "stream",
          "name": "stdout",
          "text": [
            "original array [ 2 43  4  5]\n",
            "\n",
            "copy array [2 3 4 5]\n"
          ]
        }
      ]
    },
    {
      "cell_type": "code",
      "source": [
        "import numpy as np\n",
        "a = np.array([2,3,4,5])\n",
        "b = a.astype(float).copy()\n",
        "print(b)"
      ],
      "metadata": {
        "colab": {
          "base_uri": "https://localhost:8080/"
        },
        "id": "L16AcS6vLL7X",
        "outputId": "041d2b6b-b472-470e-e959-4462fe575476"
      },
      "execution_count": null,
      "outputs": [
        {
          "output_type": "stream",
          "name": "stdout",
          "text": [
            "[2. 3. 4. 5.]\n"
          ]
        }
      ]
    },
    {
      "cell_type": "code",
      "source": [
        "import numpy as np\n",
        "a = np.array([2,3,4,5])\n",
        "print(a)\n",
        "b = a.astype(complex).copy()\n",
        "print(b)"
      ],
      "metadata": {
        "colab": {
          "base_uri": "https://localhost:8080/"
        },
        "id": "dv_VSLKoMNX0",
        "outputId": "8d11c956-d450-4c4d-aaf3-d632b24d1c01"
      },
      "execution_count": null,
      "outputs": [
        {
          "output_type": "stream",
          "name": "stdout",
          "text": [
            "[2 3 4 5]\n",
            "[2.+0.j 3.+0.j 4.+0.j 5.+0.j]\n"
          ]
        }
      ]
    },
    {
      "cell_type": "markdown",
      "source": [
        "**Numpy.view() Function**\n",
        "1. The view() function in NumPy allows you to create a new array object that shares the same data as the original array, but with a different shape or data type. The new array object created by view() is a shallow copy, which means that the data is not copied, only the metadata is changed. Therefore, changes made to the new array object will also affect the original array.\n",
        "\n",
        "2. The view() function can be useful for reshaping or casting arrays. For example, you can use view() to create a new array with the same data but a different shape, without having to copy the data. This can save memory and time.\n",
        "\n",
        "3. It's important to note that the new array created by view() is not a completely independent copy of the original array. Any changes made to the new array will also affect the original array, and vice versa. So, if you need a completely independent copy of an array, you should use the copy() function instead."
      ],
      "metadata": {
        "id": "ArZNhLpYMmB7"
      }
    },
    {
      "cell_type": "code",
      "source": [
        "import numpy as np\n",
        "a = np.array([2,3,4,5])\n",
        "b = a.view()\n",
        "a[1] = 43\n",
        "print(\"original array\",a)\n",
        "print()\n",
        "print(\"copy array\",b)"
      ],
      "metadata": {
        "colab": {
          "base_uri": "https://localhost:8080/"
        },
        "id": "gBXlOD1-Mz_G",
        "outputId": "bf546349-978b-4c10-f808-6d66c1a783a8"
      },
      "execution_count": null,
      "outputs": [
        {
          "output_type": "stream",
          "name": "stdout",
          "text": [
            "original array [ 2 43  4  5]\n",
            "\n",
            "copy array [ 2 43  4  5]\n"
          ]
        }
      ]
    },
    {
      "cell_type": "code",
      "source": [
        "import numpy as np\n",
        "a = np.array([1, 2, 3, 4, 5])\n",
        "b = a.view()\n",
        "b[0] = 31\n",
        "print(\"original array:\",a)\n",
        "print()\n",
        "print(\"view array:\",b)"
      ],
      "metadata": {
        "colab": {
          "base_uri": "https://localhost:8080/"
        },
        "id": "2-ktuS0OxOgR",
        "outputId": "e4929db5-1e35-434b-f629-266b41395299"
      },
      "execution_count": 3,
      "outputs": [
        {
          "output_type": "stream",
          "name": "stdout",
          "text": [
            "original array: [31  2  3  4  5]\n",
            "\n",
            "view array: [31  2  3  4  5]\n"
          ]
        }
      ]
    },
    {
      "cell_type": "code",
      "source": [
        "arr = np.array([1, 2, 3, 4, 5])\n",
        "x = arr.copy()\n",
        "y = arr.view()\n",
        "print(x.base)\n",
        "print()\n",
        "print(y.base)"
      ],
      "metadata": {
        "colab": {
          "base_uri": "https://localhost:8080/"
        },
        "id": "KWwgVhA7xVvo",
        "outputId": "f074cf7f-8dc9-4de7-d7e9-f57bc1124171"
      },
      "execution_count": 4,
      "outputs": [
        {
          "output_type": "stream",
          "name": "stdout",
          "text": [
            "None\n",
            "\n",
            "[1 2 3 4 5]\n"
          ]
        }
      ]
    },
    {
      "cell_type": "markdown",
      "source": [
        "**Explanation**\n",
        "\n",
        "The \"copy\" method is then used to create a deep copy of \"arr\" and assign it to variable \"x\". A deep copy means that a completely new array is created with the same values as \"arr\", so any changes to \"x\" will not affect \"arr\".\n",
        "\n",
        "The \"view\" method is also used to create a shallow copy of \"arr\" and assign it to variable \"y\". A shallow copy means that a new array is created with the same data pointer as \"arr\", so any changes to \"y\" will affect \"arr\".\n",
        "\n",
        "Finally, the \"base\" attribute is accessed for both \"x\" and \"y\". If the array is a view, the \"base\" attribute returns the original array, otherwise it returns None.\n",
        "\n",
        "The output of the code will show that \"x.base\" is None, indicating that \"x\" is a standalone array with no base array. \"y.base\" is \"arr\", indicating that \"y\" is a view of the \"arr\" array."
      ],
      "metadata": {
        "id": "Fdc2M7oCxnye"
      }
    }
  ]
}