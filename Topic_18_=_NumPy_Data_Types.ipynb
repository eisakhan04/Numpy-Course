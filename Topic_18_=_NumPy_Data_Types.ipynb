{
  "nbformat": 4,
  "nbformat_minor": 0,
  "metadata": {
    "colab": {
      "provenance": [],
      "authorship_tag": "ABX9TyNY9nwNCYI+reF1dRy8TTmZ",
      "include_colab_link": true
    },
    "kernelspec": {
      "name": "python3",
      "display_name": "Python 3"
    },
    "language_info": {
      "name": "python"
    }
  },
  "cells": [
    {
      "cell_type": "markdown",
      "metadata": {
        "id": "view-in-github",
        "colab_type": "text"
      },
      "source": [
        "<a href=\"https://colab.research.google.com/github/eisakhan04/Numpy-Course/blob/main/Topic_18_%3D_NumPy_Data_Types.ipynb\" target=\"_parent\"><img src=\"https://colab.research.google.com/assets/colab-badge.svg\" alt=\"Open In Colab\"/></a>"
      ]
    },
    {
      "cell_type": "markdown",
      "source": [
        "\n",
        "#**Topic 18 = NumPy Data Types:**\n",
        "\n",
        "NumPy is a Python library that is used for scientific computing, and it provides a powerful array data type called ndarray. The ndarray can be used to store homogeneous data (i.e., data of the same type) in a multidimensional array.\n",
        "\n",
        "NumPy supports a range of data types that can be used with the ndarray. These data types are specified using a single character code, which is used as a shorthand notation for the data type. Here are some of the most commonly used data types in NumPy:\n",
        "\n",
        "1.int: integer( used to represent integer numbers. e.g. -1, -2, -3)\n",
        "\n",
        "2. float: floating-point number(used to represent real numbers. e.g. 1.2, 42.42)\n",
        "\n",
        "3. complex: complex number( used to represent complex numbers. e.g. 1.0 + 2.0j, 1.5 + 2.5j)\n",
        "\n",
        "4. bool: Boolean (True or False)\n",
        "\n",
        "5. object: Python object\n",
        "\n",
        "6. string_: fixed-length string( used to represent text data, the text is given under quote marks. e.g. \"ABCD\")\n",
        "\n",
        "7. unicode_: fixed-length Unicode string\n",
        "\n",
        "Each data type has a corresponding bit depth, which determines the range of values that can be represented by the data type. For example, an int16 can represent integers between -32,768 and 32,767, while an int64 can represent integers between -9,223,372,036,854,775,808 and 9,223,372,036,854,775,807.\n",
        "\n",
        "NumPy also supports structured data types, which allow you to create arrays with fields that can be different data types. Structured data types are specified using a dictionary with keys that represent field names and values that represent the data type of each field.\n",
        "\n",
        "1. int8: 8-bit signed integer (-128 to 127)\n",
        "2. uint8: 8-bit unsigned integer (0 to 255)\n",
        "3. int16: 16-bit signed integer (-32768 to 32767)\n",
        "4. uint16: 16-bit unsigned integer (0 to 65535)\n",
        "5. int32: 32-bit signed integer (-2147483648 to 2147483647)\n",
        "6. uint32: 32-bit unsigned integer (0 to 4294967295)\n",
        "7. int64: 64-bit signed integer (-9223372036854775808 to 7. 9223372036854775807)\n",
        "8. uint64: 64-bit unsigned integer (0 to 18446744073709551615)\n",
        "9. float16: 16-bit floating-point number\n",
        "10. float32: 32-bit floating-point number\n",
        "11. float64: 64-bit floating-point number\n",
        "12. complex64: 64-bit complex number\n",
        "13. complex128: 128-bit complex number\n",
        "14. bool: Boolean (True or False)\n",
        "15. object: Python object type, can hold any data type\n",
        "\n",
        "These data types can be used to define the type of elements in a NumPy array or matrix, and they have different ranges and precision depending on the data type. It's important to choose the appropriate data type based on the type of data being stored to optimize memory usage and computation speed.\n",
        "\n",
        "NumPy has some extra data types, and refer to data types with one character, like i for integers, u for unsigned integers etc.\n",
        "\n",
        "Below is a list of all data types in NumPy and the characters used to represent them.\n",
        "\n",
        "1. i - integer\n",
        "2. b - boolean\n",
        "3. u - unsigned integer\n",
        "4. f - float\n",
        "5. c - complex float\n",
        "6. m - timedelta\n",
        "7. M - datetime\n",
        "8. O - object\n",
        "9. S - string\n",
        "10. U - unicode string\n",
        "11.V - fixed chunk of memory for other type ( void )\n",
        "\n"
      ],
      "metadata": {
        "id": "UUPhfRXLroxG"
      }
    },
    {
      "cell_type": "markdown",
      "source": [
        "**Example 01: Get the data type of an array object:**"
      ],
      "metadata": {
        "id": "L8n-omy0vWxf"
      }
    },
    {
      "cell_type": "code",
      "source": [
        "import numpy as np\n",
        "arr = np.array([1, 2, 3, 4])\n",
        "print(arr.dtype)"
      ],
      "metadata": {
        "colab": {
          "base_uri": "https://localhost:8080/"
        },
        "id": "vDb9P68fsOQq",
        "outputId": "57747449-1458-47fd-80db-6495e484f268"
      },
      "execution_count": 1,
      "outputs": [
        {
          "output_type": "stream",
          "name": "stdout",
          "text": [
            "int64\n"
          ]
        }
      ]
    },
    {
      "cell_type": "markdown",
      "source": [
        "**Explanation**\n",
        "\n",
        "The code creates a NumPy array named \"arr\" with the values [1, 2, 3, 4].\n",
        "\n",
        "The \"dtype\" property of a NumPy array specifies the data type of the array elements.\n",
        "\n",
        "The \"print(arr.dtype)\" statement prints out the data type of the elements in the \"arr\" array, which is likely to be \"int64\" (64-bit integer) in this case, as the default data type for integers in NumPy is \"int64\"."
      ],
      "metadata": {
        "id": "2iHPgax_vabW"
      }
    },
    {
      "cell_type": "markdown",
      "source": [
        "**Example 02: Get the data type of an array containing strings:**"
      ],
      "metadata": {
        "id": "jW1hVcqDvopi"
      }
    },
    {
      "cell_type": "code",
      "source": [
        "import numpy as np\n",
        "arr = np.array(['apple', 'banana', 'cherry'])\n",
        "print(arr.dtype)"
      ],
      "metadata": {
        "colab": {
          "base_uri": "https://localhost:8080/"
        },
        "id": "IjiMvs3Au2_r",
        "outputId": "a16e637a-ba11-4214-cd2a-7dd7c6bc0a71"
      },
      "execution_count": 2,
      "outputs": [
        {
          "output_type": "stream",
          "name": "stdout",
          "text": [
            "<U6\n"
          ]
        }
      ]
    },
    {
      "cell_type": "markdown",
      "source": [
        "**Explanation**\n",
        "\n",
        "The given code creates a NumPy array called \"arr\" with the values ['apple', 'banana', 'cherry'].\n",
        "\n",
        "The \"dtype\" property of a NumPy array specifies the data type of the array elements.\n",
        "\n",
        "Since the elements in the \"arr\" array are strings, the \"print(arr.dtype)\" statement will output the data type as \"string\" or \"object\", depending on the version of NumPy being used."
      ],
      "metadata": {
        "id": "pwMJepeTvpsj"
      }
    },
    {
      "cell_type": "markdown",
      "source": [
        "**Example 03: Create an array with data type 4 bytes integer:**"
      ],
      "metadata": {
        "id": "ZFnt5buE48qa"
      }
    },
    {
      "cell_type": "code",
      "source": [
        "import numpy as np\n",
        "arr = np.array([1, 2, 3, 4], dtype='i4')\n",
        "print(arr)\n",
        "print(arr.dtype)\n",
        "\n"
      ],
      "metadata": {
        "colab": {
          "base_uri": "https://localhost:8080/"
        },
        "id": "tc2Zr4L04zzS",
        "outputId": "446019e4-1020-4d3a-9bea-466e77e01811"
      },
      "execution_count": 3,
      "outputs": [
        {
          "output_type": "stream",
          "name": "stdout",
          "text": [
            "[1 2 3 4]\n",
            "int32\n"
          ]
        }
      ]
    },
    {
      "cell_type": "markdown",
      "source": [
        "**Explanation**\n",
        "\n",
        "The given code creates a NumPy array called \"arr\" with the values [1, 2, 3, 4], and explicitly specifies the data type of the elements to be \"i4\" using the \"dtype\" parameter.\n",
        "\n",
        "The \"i4\" data type refers to a 32-bit integer, meaning each element in the array is represented using 4 bytes (32 bits) of memory.\n",
        "\n",
        "The \"print(arr)\" statement outputs the values of the \"arr\" array, which will be [1, 2, 3, 4].\n",
        "\n",
        "The \"print(arr.dtype)\" statement outputs the data type of the elements in the \"arr\" array, which will be \"int32\" as \"i4\" is an alias for 32-bit integer data type in NumPy."
      ],
      "metadata": {
        "id": "2rRJ1TvX5INe"
      }
    },
    {
      "cell_type": "markdown",
      "source": [
        "**Example 04: Change data type from float to integer by using 'i' as parameter value:**\n",
        "\n"
      ],
      "metadata": {
        "id": "Pu5g-SF75lt7"
      }
    },
    {
      "cell_type": "code",
      "source": [
        "\n",
        "import numpy as np\n",
        "arr = np.array([1.1, 2.1, 3.1])\n",
        "newarr = arr.astype('i')\n",
        "print(newarr)\n",
        "print(newarr.dtype)\n",
        ""
      ],
      "metadata": {
        "colab": {
          "base_uri": "https://localhost:8080/"
        },
        "id": "Ed8bPvWd5ysR",
        "outputId": "dea0f2b9-f940-4e45-aa3f-7472c5cf5062"
      },
      "execution_count": 5,
      "outputs": [
        {
          "output_type": "stream",
          "name": "stdout",
          "text": [
            "[1 2 3]\n",
            "int32\n"
          ]
        }
      ]
    },
    {
      "cell_type": "markdown",
      "source": [
        "**Explanation**\n",
        "\n",
        "The given code creates a NumPy array called \"arr\" with the values [1, 2, 3, 4], and explicitly specifies the data type of the elements to be \"i4\" using the \"dtype\" parameter.\n",
        "\n",
        "The \"i4\" data type refers to a 32-bit integer, meaning each element in the array is represented using 4 bytes (32 bits) of memory.\n",
        "\n",
        "The \"print(arr)\" statement outputs the values of the \"arr\" array, which will be [1, 2, 3, 4].\n",
        "\n",
        "The \"print(arr.dtype)\" statement outputs the data type of the elements in the \"arr\" array, which will be \"int32\" as \"i4\" is an alias for 32-bit integer data type in NumPy."
      ],
      "metadata": {
        "id": "BUYMuXsI6Szg"
      }
    },
    {
      "cell_type": "markdown",
      "source": [
        "**Example 05: Change data type from float to integer by using int as parameter value:**"
      ],
      "metadata": {
        "id": "c6F3x90dCOpE"
      }
    },
    {
      "cell_type": "code",
      "source": [
        "import numpy as np\n",
        "arr = np.array([1.1, 2.1, 3.1])\n",
        "newarr = arr.astype(int)\n",
        "print(newarr)\n",
        "print(newarr.dtype)"
      ],
      "metadata": {
        "colab": {
          "base_uri": "https://localhost:8080/"
        },
        "id": "PafV3Nlu6SNE",
        "outputId": "a6b01b32-cb9e-4416-a2ad-ef342ae99a80"
      },
      "execution_count": 7,
      "outputs": [
        {
          "output_type": "stream",
          "name": "stdout",
          "text": [
            "[1 2 3]\n",
            "int64\n"
          ]
        }
      ]
    },
    {
      "cell_type": "markdown",
      "source": [
        "**Explanation**\n",
        "\n",
        "This code creates a NumPy array called arr with three decimal numbers: 1.1, 2.1, and 3.1.\n",
        "\n",
        "The second line of code, newarr = arr.astype(int), creates a new NumPy array called newarr by converting the data type of the original arr array to integers. This is done using the astype method with the argument int, which specifies that the data type of the new array should be integer.\n",
        "\n",
        "The third line of code, print(newarr), outputs the contents of the newarr array, which will be the integer equivalents of the decimal numbers in arr. In this case, the output will be [1 2 3].\n",
        "\n",
        "The fourth line of code, print(newarr.dtype), outputs the data type of the newarr array, which will be int32 in this case."
      ],
      "metadata": {
        "id": "m3ElOvWHCpZg"
      }
    },
    {
      "cell_type": "markdown",
      "source": [
        "**Example 06: Change data type from integer to boolean:**"
      ],
      "metadata": {
        "id": "AAeSThZ2Fuw8"
      }
    },
    {
      "cell_type": "code",
      "source": [
        "\n",
        "import numpy as np\n",
        "\n",
        "arr = np.array([1, 0, 3])\n",
        "\n",
        "newarr = arr.astype(bool)\n",
        "\n",
        "print(newarr)\n",
        "print(newarr.dtype)"
      ],
      "metadata": {
        "colab": {
          "base_uri": "https://localhost:8080/"
        },
        "id": "Ok0CjjhmFwjG",
        "outputId": "ecfa7566-bb43-4746-8d19-0b7cb270ed3e"
      },
      "execution_count": 8,
      "outputs": [
        {
          "output_type": "stream",
          "name": "stdout",
          "text": [
            "[ True False  True]\n",
            "bool\n"
          ]
        }
      ]
    },
    {
      "cell_type": "markdown",
      "source": [
        "**Example 01: Create an array with data type string:**"
      ],
      "metadata": {
        "id": "niGkxI62F8M-"
      }
    },
    {
      "cell_type": "code",
      "source": [
        "\n",
        "import numpy as np\n",
        "\n",
        "arr = np.array([1, 2, 3, 4], dtype='S')\n",
        "\n",
        "print(arr)\n",
        "print(arr.dtype)"
      ],
      "metadata": {
        "colab": {
          "base_uri": "https://localhost:8080/"
        },
        "id": "LkERXhF3Fuk0",
        "outputId": "773feebf-e210-4c0c-d7c8-a65d00516539"
      },
      "execution_count": 9,
      "outputs": [
        {
          "output_type": "stream",
          "name": "stdout",
          "text": [
            "[b'1' b'2' b'3' b'4']\n",
            "|S1\n"
          ]
        }
      ]
    },
    {
      "cell_type": "markdown",
      "source": [
        "**Explanation**\n",
        "\n",
        "The given code creates a NumPy array named \"arr\" which contains four elements [1, 2, 3, 4]. The \"dtype='S'\" parameter is used to specify the data type of the array elements as \"S\", which stands for string.\n",
        "\n",
        "When we print the array using the first print statement, it will display [b'1', b'2', b'3', b'4'] because we specified the data type as \"S\" and it represents each element as a byte.\n",
        "\n",
        "The second print statement outputs the data type of the array elements, which will display \"S1\" because we specified the data type as \"S\" and it takes up one byte of memory. Therefore, each element in the array is represented using one byte."
      ],
      "metadata": {
        "id": "JLJ06yM4GZCX"
      }
    },
    {
      "cell_type": "code",
      "source": [
        "\n",
        "import numpy as np\n",
        "# int8\n",
        "x = np.array([1, 2, 3], dtype=np.int8)\n",
        "print(x)"
      ],
      "metadata": {
        "colab": {
          "base_uri": "https://localhost:8080/"
        },
        "id": "HnJ0WgyKvlER",
        "outputId": "f6389163-c20a-412a-bd6b-16c48b8a08f1"
      },
      "execution_count": 1,
      "outputs": [
        {
          "output_type": "stream",
          "name": "stdout",
          "text": [
            "[1 2 3]\n"
          ]
        }
      ]
    },
    {
      "cell_type": "code",
      "source": [
        "import numpy as np\n",
        "# uint8\n",
        "x = np.array([255, 128, 0], dtype=np.uint8)\n",
        "print(x)\n",
        ""
      ],
      "metadata": {
        "colab": {
          "base_uri": "https://localhost:8080/"
        },
        "id": "a0ZQNZMLvqOS",
        "outputId": "a4f2fb5a-9eb6-4545-d812-961f83804d9f"
      },
      "execution_count": 2,
      "outputs": [
        {
          "output_type": "stream",
          "name": "stdout",
          "text": [
            "[255 128   0]\n"
          ]
        }
      ]
    },
    {
      "cell_type": "code",
      "source": [
        "\n",
        "import numpy as np\n",
        "# int16\n",
        "x = np.array([-32768, 0, 32767], dtype=np.int16)\n",
        "print(x)"
      ],
      "metadata": {
        "colab": {
          "base_uri": "https://localhost:8080/"
        },
        "id": "5z5RSMbMvwop",
        "outputId": "b36f74fd-9a10-4e13-921b-7fbc20713aa2"
      },
      "execution_count": 3,
      "outputs": [
        {
          "output_type": "stream",
          "name": "stdout",
          "text": [
            "[-32768      0  32767]\n"
          ]
        }
      ]
    },
    {
      "cell_type": "code",
      "source": [
        "\n",
        "import numpy as np\n",
        "# uint16\n",
        "x = np.array([65535, 32768, 0], dtype=np.uint16)\n",
        "print(x)\n",
        ""
      ],
      "metadata": {
        "id": "0LPzuJQ6v2XS"
      },
      "execution_count": null,
      "outputs": []
    },
    {
      "cell_type": "code",
      "source": [
        "\n",
        "import numpy as np\n",
        "# int32\n",
        "x = np.array([-2147483648, 0, 2147483647], dtype=np.int32)\n",
        "print(x)"
      ],
      "metadata": {
        "id": "cN43mt6mv5nq"
      },
      "execution_count": null,
      "outputs": []
    },
    {
      "cell_type": "code",
      "source": [
        "\n",
        "import numpy as np\n",
        "# uint32\n",
        "x = np.array([4294967295, 2147483648, 0], dtype=np.uint32)\n",
        "print(x)"
      ],
      "metadata": {
        "id": "8pVoGv1Jv9Z2"
      },
      "execution_count": null,
      "outputs": []
    },
    {
      "cell_type": "code",
      "source": [
        "import numpy as np\n",
        "# float64\n",
        "x = np.array([1.0, 2.0, 3.0], dtype=np.float64)\n",
        "print(x)\n",
        "\n",
        "\n",
        "import numpy as np\n",
        "# complex64\n",
        "x = np.array([1+2j, 3+4j, 5+6j], dtype=np.complex64)\n",
        "print(x)\n",
        ""
      ],
      "metadata": {
        "colab": {
          "base_uri": "https://localhost:8080/"
        },
        "id": "NZhx1xgKwHZX",
        "outputId": "003e8b96-393d-4d5a-f6cd-5fb2a1cac7fa"
      },
      "execution_count": 9,
      "outputs": [
        {
          "output_type": "stream",
          "name": "stdout",
          "text": [
            "[1. 2. 3.]\n",
            "[1.+2.j 3.+4.j 5.+6.j]\n"
          ]
        }
      ]
    },
    {
      "cell_type": "code",
      "source": [
        " import numpy as np\n",
        "# object\n",
        "x = np.array([1, \"two\", [3, 4, 5]], dtype=np.object)\n",
        "print(x)"
      ],
      "metadata": {
        "colab": {
          "base_uri": "https://localhost:8080/"
        },
        "id": "weab7w1LwLsp",
        "outputId": "acda45fa-151e-4024-eef9-2d3a6c266e3e"
      },
      "execution_count": 10,
      "outputs": [
        {
          "output_type": "stream",
          "name": "stdout",
          "text": [
            "[1 'two' list([3, 4, 5])]\n"
          ]
        },
        {
          "output_type": "stream",
          "name": "stderr",
          "text": [
            "<ipython-input-10-c8d24da5656e>:3: DeprecationWarning: `np.object` is a deprecated alias for the builtin `object`. To silence this warning, use `object` by itself. Doing this will not modify any behavior and is safe. \n",
            "Deprecated in NumPy 1.20; for more details and guidance: https://numpy.org/devdocs/release/1.20.0-notes.html#deprecations\n",
            "  x = np.array([1, \"two\", [3, 4, 5]], dtype=np.object)\n"
          ]
        }
      ]
    },
    {
      "cell_type": "code",
      "source": [
        "import numpy as np\n",
        "# bool\n",
        "x = np.array([True, False, True], dtype=np.bool)\n",
        "print(x)\n",
        ""
      ],
      "metadata": {
        "colab": {
          "base_uri": "https://localhost:8080/"
        },
        "id": "yUKqfhfDwM7o",
        "outputId": "e2e3cf9a-5644-4a0f-9aeb-c10bf24139c1"
      },
      "execution_count": 6,
      "outputs": [
        {
          "output_type": "stream",
          "name": "stdout",
          "text": [
            "[ True False  True]\n"
          ]
        },
        {
          "output_type": "stream",
          "name": "stderr",
          "text": [
            "<ipython-input-6-b41595be7916>:3: DeprecationWarning: `np.bool` is a deprecated alias for the builtin `bool`. To silence this warning, use `bool` by itself. Doing this will not modify any behavior and is safe. If you specifically wanted the numpy scalar type, use `np.bool_` here.\n",
            "Deprecated in NumPy 1.20; for more details and guidance: https://numpy.org/devdocs/release/1.20.0-notes.html#deprecations\n",
            "  x = np.array([True, False, True], dtype=np.bool)\n"
          ]
        }
      ]
    },
    {
      "cell_type": "code",
      "source": [
        "import numpy as np\n",
        "# complex128\n",
        "x = np.array([1+2j, 3+4j, 5+6j], dtype=np.complex128)\n",
        "print(x)"
      ],
      "metadata": {
        "colab": {
          "base_uri": "https://localhost:8080/"
        },
        "id": "K_1okdOcwNkq",
        "outputId": "dcfc0fe4-2b56-4afb-e502-02fcddd77409"
      },
      "execution_count": 7,
      "outputs": [
        {
          "output_type": "stream",
          "name": "stdout",
          "text": [
            "[1.+2.j 3.+4.j 5.+6.j]\n"
          ]
        }
      ]
    },
    {
      "cell_type": "code",
      "source": [
        "\n",
        "import numpy as np\n",
        "# int64\n",
        "x = np.array([-9223372036854775808, 0, 9223372036854775807], dtype=np.int64)\n",
        "print(x)"
      ],
      "metadata": {
        "colab": {
          "base_uri": "https://localhost:8080/"
        },
        "id": "QcXrzdomwOmB",
        "outputId": "e256f52c-70eb-49bc-e960-558fc68e874b"
      },
      "execution_count": 8,
      "outputs": [
        {
          "output_type": "stream",
          "name": "stdout",
          "text": [
            "[-9223372036854775808                    0  9223372036854775807]\n"
          ]
        }
      ]
    },
    {
      "cell_type": "code",
      "source": [
        "\n",
        "import numpy as np\n",
        "# float32\n",
        "x = np.array([1.0, 2.0, 3.0], dtype=np.float32)\n",
        "print(x)"
      ],
      "metadata": {
        "id": "UUIWGWdbwOYx"
      },
      "execution_count": null,
      "outputs": []
    },
    {
      "cell_type": "code",
      "source": [
        "\n",
        "import numpy as np\n",
        "# uint64\n",
        "x = np.array([18446744073709551615, 9223372036854775808, 0], dtype=np.uint64)\n",
        "print(x)"
      ],
      "metadata": {
        "id": "xtF-MYtGwOKe"
      },
      "execution_count": null,
      "outputs": []
    },
    {
      "cell_type": "code",
      "source": [
        "import numpy as np\n",
        "# float16\n",
        "x = np.array([1.0, 2.0, 3.0], dtype=np.float16)\n",
        "print(x)\n",
        ""
      ],
      "metadata": {
        "id": "9XUdBBZQwj2d"
      },
      "execution_count": null,
      "outputs": []
    }
  ]
}