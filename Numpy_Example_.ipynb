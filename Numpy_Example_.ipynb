{
  "nbformat": 4,
  "nbformat_minor": 0,
  "metadata": {
    "colab": {
      "provenance": [],
      "authorship_tag": "ABX9TyNgU0k7CoMmQUZHhG6RJZrk",
      "include_colab_link": true
    },
    "kernelspec": {
      "name": "python3",
      "display_name": "Python 3"
    },
    "language_info": {
      "name": "python"
    }
  },
  "cells": [
    {
      "cell_type": "markdown",
      "metadata": {
        "id": "view-in-github",
        "colab_type": "text"
      },
      "source": [
        "<a href=\"https://colab.research.google.com/github/onlyone11s/Numpy-Course/blob/main/Numpy_Example_.ipynb\" target=\"_parent\"><img src=\"https://colab.research.google.com/assets/colab-badge.svg\" alt=\"Open In Colab\"/></a>"
      ]
    },
    {
      "cell_type": "markdown",
      "source": [
        "Numpy Example"
      ],
      "metadata": {
        "id": "ysknqPRIGeP3"
      }
    },
    {
      "cell_type": "code",
      "source": [
        "import numpy as np\n",
        "arr = np.array([1,2,3,8,5,2])\n",
        "print(arr)\n",
        "#check data type\n",
        "print(type(arr))\n",
        "\n"
      ],
      "metadata": {
        "colab": {
          "base_uri": "https://localhost:8080/"
        },
        "id": "HFruteXtOgi1",
        "outputId": "3928b81b-2467-470b-aa31-b561ffa9fd3c"
      },
      "execution_count": 25,
      "outputs": [
        {
          "output_type": "stream",
          "name": "stdout",
          "text": [
            "[1 2 3 8 5 2]\n",
            "<class 'numpy.ndarray'>\n"
          ]
        }
      ]
    },
    {
      "cell_type": "markdown",
      "source": [
        "# ckeck number array by indexing\n",
        "# Accessing elements of the array"
      ],
      "metadata": {
        "id": "vY0tnsvKn93X"
      }
    },
    {
      "cell_type": "code",
      "source": [
        "print(\"first element :\",arr[0])\n",
        "print(\"last element :\",arr[-1])\n",
        "print(\"last element :\",arr[5])\n",
        "print(\"last element :\",arr[3])\n",
        "# slicing\n",
        "print (\"element at index 3 and 4 : \", arr[1:7:2])"
      ],
      "metadata": {
        "colab": {
          "base_uri": "https://localhost:8080/"
        },
        "id": "obOMVJsmmevG",
        "outputId": "ea1e0700-4252-45cc-fa26-72b2e90b3f5f"
      },
      "execution_count": 27,
      "outputs": [
        {
          "output_type": "stream",
          "name": "stdout",
          "text": [
            "first element : 1\n",
            "last element : 2\n",
            "last element : 2\n",
            "last element : 8\n",
            "element at index 3 and 4 :  [2 8 2]\n"
          ]
        }
      ]
    },
    {
      "cell_type": "markdown",
      "source": [
        "# Performing operations on the array\n",
        "print(\"Sum of all elements:\", np.sum(my_array))\n",
        "print(\"Product of all elements:\", np.prod(my_array))\n",
        "print(\"Mean of all elements:\", np.mean(my_array))\n",
        "print(\"Maximum element:\", np.max(my_array))\n",
        "print(\"Minimum element:\", np.min(my_array))"
      ],
      "metadata": {
        "id": "aHZZJtBpoTkd"
      }
    },
    {
      "cell_type": "code",
      "source": [
        "#[1 2 3 8 5 0 2]\n",
        "print(\"sum of all element:\" ,np.sum(arr))\n",
        "print(\"Product/multiple of all elements: \",np.prod(arr))\n",
        "print(\"Mean of all element:\",np.mean(arr))\n",
        "print(\"Maximum element :\",np.max(arr))\n",
        "print(\"Minimum element :\", np.min(arr))"
      ],
      "metadata": {
        "colab": {
          "base_uri": "https://localhost:8080/"
        },
        "id": "HLH2XiYMoHyO",
        "outputId": "feeef603-8567-43fe-d91e-0f985c910ac4"
      },
      "execution_count": 34,
      "outputs": [
        {
          "output_type": "stream",
          "name": "stdout",
          "text": [
            "sum of all element: 21\n",
            "Product/multiple of all elements:  480\n",
            "Mean of all element: 3.5\n",
            "Maximum element : 8\n",
            "Minimum element : 1\n"
          ]
        }
      ]
    },
    {
      "cell_type": "markdown",
      "source": [
        "# Creating a 2D array\n",
        "my_2d_array = np.array([[1, 2, 3], [4, 5, 6]])\n",
        "\n",
        "# Printing the 2D array\n",
        "print(\"2D NumPy Array:\")\n",
        "print(my_2d_array)"
      ],
      "metadata": {
        "id": "88kE1jkKtgSM"
      }
    },
    {
      "cell_type": "code",
      "source": [
        "a2darr=np.array([[1,2,34],[2,8,4]])\n",
        "print(\"2D numpy array: \")\n",
        "print(a2darr)"
      ],
      "metadata": {
        "colab": {
          "base_uri": "https://localhost:8080/"
        },
        "id": "HHSsRRTDsmT5",
        "outputId": "7275237f-dcdd-4faf-a55f-0695826ae988"
      },
      "execution_count": 37,
      "outputs": [
        {
          "output_type": "stream",
          "name": "stdout",
          "text": [
            "2D numpy array: \n",
            "[[ 1  2 34]\n",
            " [ 2  8  4]]\n"
          ]
        }
      ]
    },
    {
      "cell_type": "markdown",
      "source": [
        "# Accessing elements of the 2D array\n",
        "print(\"Element at row 1, column 2:\", my_2d_array[1, 2])\n",
        "print(\"First row:\", my_2d_array[0, :])\n",
        "print(\"Second column:\", my_2d_array[:, 1])"
      ],
      "metadata": {
        "id": "j7ZEqa5ZusOt"
      }
    },
    {
      "cell_type": "code",
      "source": [
        "print(\"element at row 1,column 2:\",a2darr[1,2])\n",
        "print(\"First Row:\",a2darr[0,:] )\n",
        "print(\"second Column:\", a2darr[:,1])\n"
      ],
      "metadata": {
        "colab": {
          "base_uri": "https://localhost:8080/"
        },
        "id": "JzLZCxcputfz",
        "outputId": "5a482bab-3b1b-4af1-e0cf-392101e5ab2e"
      },
      "execution_count": 44,
      "outputs": [
        {
          "output_type": "stream",
          "name": "stdout",
          "text": [
            "element at row 1,column 2: 4\n",
            "First Row: [ 1  2 34]\n",
            "second Column: [2 8]\n"
          ]
        }
      ]
    },
    {
      "cell_type": "markdown",
      "source": [
        "# complex ,float , str etc\n",
        "a = numpy.array([1, 3, 5, 7], complex)  \n"
      ],
      "metadata": {
        "id": "k8U9WNuiDuqj"
      }
    },
    {
      "cell_type": "code",
      "source": [
        "a=np.array([1,2,3,4],dtype=complex)\n",
        "print(a)"
      ],
      "metadata": {
        "colab": {
          "base_uri": "https://localhost:8080/"
        },
        "id": "KJss_dh6wVnb",
        "outputId": "c31f5941-5cec-4dba-f5d2-634d5a0bb9b5"
      },
      "execution_count": 50,
      "outputs": [
        {
          "output_type": "stream",
          "name": "stdout",
          "text": [
            "[1.+0.j 2.+0.j 3.+0.j 4.+0.j]\n"
          ]
        }
      ]
    },
    {
      "cell_type": "code",
      "source": [
        "a= np.array([1,2,6,8,],str)\n",
        "print(a)"
      ],
      "metadata": {
        "colab": {
          "base_uri": "https://localhost:8080/"
        },
        "id": "IfJEtnmaExdL",
        "outputId": "cb38d00d-4dca-460c-cb92-66f2fbbc3796"
      },
      "execution_count": 56,
      "outputs": [
        {
          "output_type": "stream",
          "name": "stdout",
          "text": [
            "['1' '2' '6' '8']\n"
          ]
        }
      ]
    },
    {
      "cell_type": "code",
      "source": [
        "a= np.array([1,2,6,8,],float)\n",
        "print(a)"
      ],
      "metadata": {
        "colab": {
          "base_uri": "https://localhost:8080/"
        },
        "id": "IauDDyBfExV9",
        "outputId": "8eac212a-3bff-46ce-beb8-511fccff289a"
      },
      "execution_count": 57,
      "outputs": [
        {
          "output_type": "stream",
          "name": "stdout",
          "text": [
            "[1. 2. 6. 8.]\n"
          ]
        }
      ]
    },
    {
      "cell_type": "code",
      "source": [
        "e =np.array([[[2,1,3,4],[5,7,8,3]],[[5,5,7,2],[4,6,8,3]]])\n",
        "print(e)\n",
        "print(\"shape=\",np.shape(e))\n",
        "print(\"dimensionl array=\",np.ndim(e))"
      ],
      "metadata": {
        "colab": {
          "base_uri": "https://localhost:8080/"
        },
        "id": "IY6bOBV6FydJ",
        "outputId": "bc82bc3e-918f-493b-e0eb-09c50077c01a"
      },
      "execution_count": 63,
      "outputs": [
        {
          "output_type": "stream",
          "name": "stdout",
          "text": [
            "[[[2 1 3 4]\n",
            "  [5 7 8 3]]\n",
            "\n",
            " [[5 5 7 2]\n",
            "  [4 6 8 3]]]\n",
            "shape= (2, 2, 4)\n",
            "dimensionl array= 3\n"
          ]
        }
      ]
    },
    {
      "cell_type": "code",
      "source": [
        "# one D array\n",
        "a=np.array([2,3,5,6])\n",
        "print(a)\n",
        "print(np.ndim(a))\n",
        "q=np.shape(a)\n",
        "print(q)\n",
        "#2 D array\n",
        "a=np.array([[2,3,5],[1,3,4]])\n",
        "print(a)\n",
        "print(np.ndim(a))\n",
        "q=np.shape(a)\n",
        "print(q)\n",
        "\n",
        "\n",
        "#3 D array\n",
        "print(\"3 Darray\")\n",
        "a=np.array([[[2,3],[6,9]],[[1,3],[3,6]]])\n",
        "print(a)\n",
        "print(np.ndim(a))\n",
        "q=np.shape(a)\n",
        "print(q)\n"
      ],
      "metadata": {
        "colab": {
          "base_uri": "https://localhost:8080/"
        },
        "id": "rDC7ruhyFyXP",
        "outputId": "6e11e300-2a3a-4082-ab38-daf0d52538fc"
      },
      "execution_count": 76,
      "outputs": [
        {
          "output_type": "stream",
          "name": "stdout",
          "text": [
            "[2 3 5 6]\n",
            "1\n",
            "(4,)\n",
            "[[2 3 5]\n",
            " [1 3 4]]\n",
            "2\n",
            "(2, 3)\n",
            "3 Darray\n",
            "[[[2 3]\n",
            "  [6 9]]\n",
            "\n",
            " [[1 3]\n",
            "  [3 6]]]\n",
            "3\n",
            "(2, 2, 2)\n"
          ]
        }
      ]
    },
    {
      "cell_type": "code",
      "source": [
        "a=np.array([[[[2,3],[6,9]],[[1,3],[3,6]]]])\n",
        "print(a)\n",
        "print(np.ndim(a))\n",
        "q=np.shape(a)\n",
        "print(q)"
      ],
      "metadata": {
        "colab": {
          "base_uri": "https://localhost:8080/"
        },
        "id": "eIDDU7SaNozi",
        "outputId": "666a1e24-f077-447a-a5c8-c1cebf56a15e"
      },
      "execution_count": 77,
      "outputs": [
        {
          "output_type": "stream",
          "name": "stdout",
          "text": [
            "[[[[2 3]\n",
            "   [6 9]]\n",
            "\n",
            "  [[1 3]\n",
            "   [3 6]]]]\n",
            "4\n",
            "(1, 2, 2, 2)\n"
          ]
        }
      ]
    },
    {
      "cell_type": "code",
      "source": [],
      "metadata": {
        "id": "lCDnyMhINotQ"
      },
      "execution_count": null,
      "outputs": []
    }
  ]
}