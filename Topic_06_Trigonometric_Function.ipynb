{
  "nbformat": 4,
  "nbformat_minor": 0,
  "metadata": {
    "colab": {
      "provenance": [],
      "include_colab_link": true
    },
    "kernelspec": {
      "name": "python3",
      "display_name": "Python 3"
    },
    "language_info": {
      "name": "python"
    }
  },
  "cells": [
    {
      "cell_type": "markdown",
      "metadata": {
        "id": "view-in-github",
        "colab_type": "text"
      },
      "source": [
        "<a href=\"https://colab.research.google.com/github/onlyone11s/Numpy-Course/blob/main/Topic_06_Trigonometric_Function.ipynb\" target=\"_parent\"><img src=\"https://colab.research.google.com/assets/colab-badge.svg\" alt=\"Open In Colab\"/></a>"
      ]
    },
    {
      "cell_type": "markdown",
      "source": [
        "# **Topic 06: Trigonometric Function**"
      ],
      "metadata": {
        "id": "O3ZwSx1qAQdg"
      }
    },
    {
      "cell_type": "markdown",
      "source": [
        "Trigonometric functions are mathematical functions that are used to calculate the values of angles in a triangle. NumPy provides a number of trigonometric functions that can be used to perform various mathematical operations involving angles.\n",
        "\n",
        "Here are some of the commonly used trigonometric functions in NumPy:\n",
        "\n",
        "numpy.sin(x): This function returns the sine of x, where x is an angle in radians.\n",
        "\n",
        "numpy.cos(x): This function returns the cosine of x, where x is an angle in radians.\n",
        "\n",
        "numpy.tan(x): This function returns the tangent of x, where x is an angle in radians.\n",
        "\n",
        "numpy.arcsin(x): This function returns the inverse sine of x, where x is a value between -1 and 1.\n",
        "\n",
        "numpy.arccos(x): This function returns the inverse cosine of x, where x is a value between -1 and 1.\n",
        "\n",
        "numpy.arctan(x): This function returns the inverse tangent of x, where x is a value between -infinity and infinity.\n",
        "\n",
        "All of these functions take the angle as an argument in radians. If you have an angle in degrees, you can convert it to radians by multiplying it by pi/180. For example, to calculate the sine of an angle of 45 degrees, you would use the following code:\n",
        "\n",
        "makefile Copy code import numpy as np angle_degrees = 45 angle_radians = angle_degrees * np.pi / 180 sin_value = np.sin(angle_radians) The result would be sin_value = 0.7071067811865476, which is the sine of 45 degrees in radians."
      ],
      "metadata": {
        "id": "l81l0-n7cEya"
      }
    },
    {
      "cell_type": "markdown",
      "source": [
        "**Alegbraic Function pi = 3.1416**\n",
        "\n",
        "**Trigonometric pi = 180**"
      ],
      "metadata": {
        "id": "I4wV-8z2Ga7v"
      }
    },
    {
      "cell_type": "markdown",
      "source": [
        "**1.1: Convert Degree to Radian**"
      ],
      "metadata": {
        "id": "im0IanThAY5E"
      }
    },
    {
      "cell_type": "markdown",
      "source": [
        "**Degree to Radian (Multiplication 0.01745)**"
      ],
      "metadata": {
        "id": "YnTxhXipDb0d"
      }
    },
    {
      "cell_type": "code",
      "source": [
        "import numpy as np\n",
        "deg = 270\n",
        "rad = np.deg2rad(deg)\n",
        "print(rad)"
      ],
      "metadata": {
        "colab": {
          "base_uri": "https://localhost:8080/"
        },
        "id": "kXJkwhQ_CkfL",
        "outputId": "d4c48b83-7b2b-4172-9814-2f4caae960ed"
      },
      "execution_count": null,
      "outputs": [
        {
          "output_type": "stream",
          "name": "stdout",
          "text": [
            "4.71238898038469\n"
          ]
        }
      ]
    },
    {
      "cell_type": "code",
      "source": [
        "import numpy as np\n",
        "deg = [30,60,90]\n",
        "rad = np.deg2rad(deg)\n",
        "print(rad)"
      ],
      "metadata": {
        "colab": {
          "base_uri": "https://localhost:8080/"
        },
        "id": "cr7jdrXJEcvs",
        "outputId": "c0133db7-ea81-43eb-9d1d-977be1a8bd50"
      },
      "execution_count": null,
      "outputs": [
        {
          "output_type": "stream",
          "name": "stdout",
          "text": [
            "[0.52359878 1.04719755 1.57079633]\n"
          ]
        }
      ]
    },
    {
      "cell_type": "markdown",
      "source": [
        "**1.2:Radian to Degree**"
      ],
      "metadata": {
        "id": "Pv50cHhVFS7D"
      }
    },
    {
      "cell_type": "markdown",
      "source": [
        "**Radian to Degree (Put pi = 180)**"
      ],
      "metadata": {
        "id": "Cjb_9Y6KDh2b"
      }
    },
    {
      "cell_type": "code",
      "source": [
        "rad = np.pi/2\n",
        "deg = np.rad2deg(rad)\n",
        "print(deg)"
      ],
      "metadata": {
        "colab": {
          "base_uri": "https://localhost:8080/"
        },
        "id": "Bnj-EujUFbGp",
        "outputId": "b2dd0799-5cd4-4f14-9919-268cfcb6b9fe"
      },
      "execution_count": null,
      "outputs": [
        {
          "output_type": "stream",
          "name": "stdout",
          "text": [
            "90.0\n"
          ]
        }
      ]
    },
    {
      "cell_type": "code",
      "source": [
        "rad = np.pi/21\n",
        "deg = np.rad2deg(rad)\n",
        "print(deg)"
      ],
      "metadata": {
        "colab": {
          "base_uri": "https://localhost:8080/"
        },
        "id": "wq4FjcHEGoXo",
        "outputId": "70e21a9a-cb0f-4f49-e1dd-29f539dac72a"
      },
      "execution_count": null,
      "outputs": [
        {
          "output_type": "stream",
          "name": "stdout",
          "text": [
            "8.571428571428571\n"
          ]
        }
      ]
    },
    {
      "cell_type": "code",
      "source": [
        "import numpy as np\n",
        "rad = np.array([np.pi/2,np.pi/3,np.pi/4])\n",
        "deg =np.rad2deg(rad)\n",
        "print(deg)"
      ],
      "metadata": {
        "colab": {
          "base_uri": "https://localhost:8080/"
        },
        "id": "GgQQI1LaDy_5",
        "outputId": "127f28f9-4e0e-46b6-8445-160c997f94cd"
      },
      "execution_count": null,
      "outputs": [
        {
          "output_type": "stream",
          "name": "stdout",
          "text": [
            "[90. 60. 45.]\n"
          ]
        }
      ]
    },
    {
      "cell_type": "markdown",
      "source": [
        "**1.3: Sin() Function**"
      ],
      "metadata": {
        "id": "D7KKvHiOHoZL"
      }
    },
    {
      "cell_type": "code",
      "source": [
        "a = np.array([np.pi/2, np.pi/3,np.pi/4])\n",
        "deg =np.rad2deg(a)\n",
        "print(deg)\n",
        "print(\"Sin() of values\")\n",
        "b = np.sin(a)\n",
        "print(b)\n"
      ],
      "metadata": {
        "colab": {
          "base_uri": "https://localhost:8080/"
        },
        "id": "HaPsTthcHzWR",
        "outputId": "4f77c027-64fc-4097-f1bf-8cfa97c14839"
      },
      "execution_count": null,
      "outputs": [
        {
          "output_type": "stream",
          "name": "stdout",
          "text": [
            "[90. 60. 45.]\n",
            "Sin() of values\n",
            "[1.         0.8660254  0.70710678]\n"
          ]
        }
      ]
    },
    {
      "cell_type": "markdown",
      "source": [
        "**radian to degree and sin and then sin inverse with the using of 'arc'**"
      ],
      "metadata": {
        "id": "LNh4MXN2WkCy"
      }
    },
    {
      "cell_type": "markdown",
      "source": [
        "**Degree val = 0.01745**\n"
      ],
      "metadata": {
        "id": "MyV52cBBZxjc"
      }
    },
    {
      "cell_type": "markdown",
      "source": [
        "**Radian val = 57.2956**"
      ],
      "metadata": {
        "id": "xd3FLgUUZif-"
      }
    },
    {
      "cell_type": "markdown",
      "source": [
        "**Sin() Radian to degree**"
      ],
      "metadata": {
        "id": "YQ8PrdF_ITnD"
      }
    },
    {
      "cell_type": "code",
      "source": [
        "a = np.array([np.pi/2,np.pi/3,np.pi/4])\n",
        "print(\"original array in Algebraic\")\n",
        "print(a)\n",
        "print()\n",
        "deg =np.rad2deg(a)\n",
        "print(deg)\n",
        "print()\n",
        "print(\"Sin() of values\")\n",
        "b = np.sin(a)\n",
        "print(b)\n",
        "print()\n",
        "print(\"inverse function\")\n",
        "c = np.arcsin(b)\n",
        "print(c)"
      ],
      "metadata": {
        "colab": {
          "base_uri": "https://localhost:8080/"
        },
        "id": "VKZMXCrUOCEY",
        "outputId": "eec26128-bd69-4ca8-acf4-71414c161983"
      },
      "execution_count": null,
      "outputs": [
        {
          "output_type": "stream",
          "name": "stdout",
          "text": [
            "original array in Algebraic\n",
            "[1.57079633 1.04719755 0.78539816]\n",
            "\n",
            "[90. 60. 45.]\n",
            "\n",
            "Sin() of values\n",
            "[1.         0.8660254  0.70710678]\n",
            "\n",
            "inverse function\n",
            "[1.57079633 1.04719755 0.78539816]\n"
          ]
        }
      ]
    },
    {
      "cell_type": "markdown",
      "source": [
        "**Sin() Degree to Radian**"
      ],
      "metadata": {
        "id": "jfDwtz-mIcCq"
      }
    },
    {
      "cell_type": "code",
      "source": [
        "a = np.array([60, 45 , 90 ])\n",
        "print(\"original array in Algebraic\")\n",
        "print(a)\n",
        "print()\n",
        "rad =np.deg2rad(a)\n",
        "print(rad)\n",
        "print()\n",
        "print(\"Sin() of values\")\n",
        "b = np.sin(rad)\n",
        "print(b)\n",
        "print()\n",
        "print(\"inverse function\")\n",
        "c = np.arcsin(b)\n",
        "print(c)"
      ],
      "metadata": {
        "colab": {
          "base_uri": "https://localhost:8080/"
        },
        "id": "5x0BMM5KIl_q",
        "outputId": "8d3a950c-39f8-4a3b-eb15-1fbcaa3b5b9c"
      },
      "execution_count": null,
      "outputs": [
        {
          "output_type": "stream",
          "name": "stdout",
          "text": [
            "original array in Algebraic\n",
            "[60 45 90]\n",
            "\n",
            "[1.04719755 0.78539816 1.57079633]\n",
            "\n",
            "Sin() of values\n",
            "[0.8660254  0.70710678 1.        ]\n",
            "\n",
            "inverse function\n",
            "[1.04719755 0.78539816 1.57079633]\n"
          ]
        }
      ]
    },
    {
      "cell_type": "markdown",
      "source": [
        "**Cos() Radian to degree**"
      ],
      "metadata": {
        "id": "GhdgCKfXKzQf"
      }
    },
    {
      "cell_type": "code",
      "source": [
        "a = np.array([np.pi/6 ,np.pi/3,np.pi/4])\n",
        "print(\"original array in Algebraic\")\n",
        "print(a)\n",
        "print()\n",
        "deg =np.rad2deg(a)\n",
        "print(deg)\n",
        "print()\n",
        "print(\"Cos() of values\")\n",
        "b = np.cos(a)\n",
        "print(b)\n",
        "print()\n",
        "print(\"inverse function\")\n",
        "c = np.arccos(b)\n",
        "print(c)"
      ],
      "metadata": {
        "colab": {
          "base_uri": "https://localhost:8080/"
        },
        "id": "ZaRmMF0UK7hq",
        "outputId": "e337a8ab-bb9b-44db-e8f1-c9b3444544a1"
      },
      "execution_count": null,
      "outputs": [
        {
          "output_type": "stream",
          "name": "stdout",
          "text": [
            "original array in Algebraic\n",
            "[0.52359878 1.04719755 0.78539816]\n",
            "\n",
            "[30. 60. 45.]\n",
            "\n",
            "Cos() of values\n",
            "[0.8660254  0.5        0.70710678]\n",
            "\n",
            "inverse function\n",
            "[0.52359878 1.04719755 0.78539816]\n"
          ]
        }
      ]
    },
    {
      "cell_type": "markdown",
      "source": [
        "**Cos() Degree to Radian**"
      ],
      "metadata": {
        "id": "tkQdDhkGLCwv"
      }
    },
    {
      "cell_type": "code",
      "source": [
        "a = np.array([60, 45 , 70 ])\n",
        "print(\"original array in Algebraic\")\n",
        "print(a)\n",
        "print()\n",
        "rad =np.deg2rad(a)\n",
        "print(rad)\n",
        "print()\n",
        "print(\"Cos of values\")\n",
        "b = np.cos(rad)\n",
        "print(b)\n",
        "print()\n",
        "print(\"inverse function\")\n",
        "c = np.arccos(b)\n",
        "print(c)"
      ],
      "metadata": {
        "colab": {
          "base_uri": "https://localhost:8080/"
        },
        "id": "aI6lgcqaLKRQ",
        "outputId": "de54fb5b-eb54-4f6d-c559-e82d62b65f53"
      },
      "execution_count": null,
      "outputs": [
        {
          "output_type": "stream",
          "name": "stdout",
          "text": [
            "original array in Algebraic\n",
            "[60 45 70]\n",
            "\n",
            "[1.04719755 0.78539816 1.22173048]\n",
            "\n",
            "Cos of values\n",
            "[0.5        0.70710678 0.34202014]\n",
            "\n",
            "inverse function\n",
            "[1.04719755 0.78539816 1.22173048]\n"
          ]
        }
      ]
    },
    {
      "cell_type": "markdown",
      "source": [
        "# degree to redian"
      ],
      "metadata": {
        "id": "QWVc985dXY4o"
      }
    },
    {
      "cell_type": "code",
      "source": [
        "import numpy as np\n",
        "deg =np.array([40,30,20,77])\n",
        "print(\"Orignal value:\",deg)\n",
        "print()\n",
        "a=np.deg2rad(deg)\n",
        "print(\"Degree to redian:Degree to Radian (Multiplication 0.01745)::\",a)"
      ],
      "metadata": {
        "colab": {
          "base_uri": "https://localhost:8080/"
        },
        "id": "lXWtORjuXcuf",
        "outputId": "9a7097e0-3cd8-4a73-8065-70ad2739d3c1"
      },
      "execution_count": 2,
      "outputs": [
        {
          "output_type": "stream",
          "name": "stdout",
          "text": [
            "Orignal value: [40 30 20 77]\n",
            "\n",
            "Degree to redian:Degree to Radian (Multiplication 0.01745):: [0.6981317  0.52359878 0.34906585 1.34390352]\n"
          ]
        }
      ]
    },
    {
      "cell_type": "markdown",
      "source": [
        "# Redian to Degree"
      ],
      "metadata": {
        "id": "Yi-YUK8kXjws"
      }
    },
    {
      "cell_type": "code",
      "source": [
        "rad=np.array([np.pi/5,np.pi/77,np.pi/99,np.pi/23])\n",
        "print(\"Orignal value of Radian:Alegbraic Function pi = 3.1416::\",rad)\n",
        "a=np.rad2deg(rad)\n",
        "print(\"Radian value:Trigonometric pi = 180:: \",a)"
      ],
      "metadata": {
        "colab": {
          "base_uri": "https://localhost:8080/"
        },
        "id": "Qu78R53dXkRp",
        "outputId": "0695c2fe-8e8e-449c-8d23-08ccc3daf600"
      },
      "execution_count": 15,
      "outputs": [
        {
          "output_type": "stream",
          "name": "stdout",
          "text": [
            "Orignal value of Radian:Alegbraic Function pi = 3.1416:: [0.62831853 0.0407999  0.03173326 0.13659098]\n",
            "Radian value:Trigonometric pi = 180::  [36.          2.33766234  1.81818182  7.82608696]\n"
          ]
        }
      ]
    },
    {
      "cell_type": "markdown",
      "source": [
        "# Sin() Function with degree to radin"
      ],
      "metadata": {
        "id": "VN4jkSboXvEP"
      }
    },
    {
      "cell_type": "code",
      "source": [
        "a=np.array([20,88,99,33])\n",
        "rad=np.deg2rad(a)\n",
        "print(\"Degree to Radian (Multiplication 0.01745)::\",rad)\n",
        "sin=np.sin(rad)\n",
        "print(\"sin Answer:\",sin)\n",
        "inverse=np.arcsin(sin)\n",
        "print(\"inverse:\",inverse)"
      ],
      "metadata": {
        "colab": {
          "base_uri": "https://localhost:8080/"
        },
        "id": "xUHmffiqX2Sa",
        "outputId": "bf894a7f-683e-467b-ae69-7a051f89ddce"
      },
      "execution_count": 14,
      "outputs": [
        {
          "output_type": "stream",
          "name": "stdout",
          "text": [
            "Degree to Radian (Multiplication 0.01745):: [0.34906585 1.53588974 1.72787596 0.57595865]\n",
            "sin Answer: [0.34202014 0.99939083 0.98768834 0.54463904]\n",
            "inverse: [0.34906585 1.53588974 1.41371669 0.57595865]\n"
          ]
        }
      ]
    },
    {
      "cell_type": "markdown",
      "source": [
        "# Sin() Function radian to degree"
      ],
      "metadata": {
        "id": "Plp3NIr0YQB8"
      }
    },
    {
      "cell_type": "code",
      "source": [
        "import numpy as np\n",
        "a = np.array([np.pi/6,np.pi/4,np.pi/2,np.pi/5])\n",
        "print(\"use by this pi value 3.1416:\",a)\n",
        "deg=np.rad2deg(a)\n",
        "print(\"180 devid by:\",deg)\n",
        "sin=np.sin(a)\n",
        "print(\"Sin Value:\",sin)\n",
        "inv=np.arcsin(sin)\n",
        "print(\"inverse:\",inv)"
      ],
      "metadata": {
        "colab": {
          "base_uri": "https://localhost:8080/"
        },
        "id": "mVuurwYYYRhr",
        "outputId": "cf08881a-6c37-42e1-a53e-bd664e2f4ac2"
      },
      "execution_count": 13,
      "outputs": [
        {
          "output_type": "stream",
          "name": "stdout",
          "text": [
            "use by this pi value 3.1416: [0.52359878 0.78539816 1.57079633 0.62831853]\n",
            "180 devid by: [30. 45. 90. 36.]\n",
            "Sin Value: [0.5        0.70710678 1.         0.58778525]\n",
            "inverse: [0.52359878 0.78539816 1.57079633 0.62831853]\n"
          ]
        }
      ]
    },
    {
      "cell_type": "markdown",
      "source": [
        "# cos() function Degree to radin"
      ],
      "metadata": {
        "id": "7bvCeFe7YWoV"
      }
    },
    {
      "cell_type": "code",
      "source": [
        "b=np.array([80,40,60,35])\n",
        "rad=np.deg2rad(b)\n",
        "print(\"degree to radin function:\",rad)\n",
        "cos=np.cos(rad)\n",
        "print(cos)\n",
        "invers=np.arccos(cos)\n",
        "print(invers)"
      ],
      "metadata": {
        "colab": {
          "base_uri": "https://localhost:8080/"
        },
        "id": "gcnEySxHYbzd",
        "outputId": "c08e2f0f-e1b4-4a8e-f915-856877321e80"
      },
      "execution_count": 12,
      "outputs": [
        {
          "output_type": "stream",
          "name": "stdout",
          "text": [
            "degree to radin function: [1.3962634  0.6981317  1.04719755 0.61086524]\n",
            "[0.17364818 0.76604444 0.5        0.81915204]\n",
            "[1.3962634  0.6981317  1.04719755 0.61086524]\n"
          ]
        }
      ]
    },
    {
      "cell_type": "markdown",
      "source": [
        "# cos() function radian to degree"
      ],
      "metadata": {
        "id": "L0yZK1lMYj_K"
      }
    },
    {
      "cell_type": "code",
      "source": [
        "e = np.array([np.pi/6,np.pi/1,np.pi/5,np.pi/8])\n",
        "print(e)\n",
        "deg=np.rad2deg(e)\n",
        "print(deg)\n",
        "print(\"cos value:\")\n",
        "Cos=np.cos(e)\n",
        "print(Cos)\n",
        "print(\"inverse od cos:\")\n",
        "invee=np.arccos(Cos)\n",
        "print(invee)"
      ],
      "metadata": {
        "colab": {
          "base_uri": "https://localhost:8080/"
        },
        "id": "8WAwBPp5YlWJ",
        "outputId": "2e57fc22-dd54-46dd-9856-0103bda77a5c"
      },
      "execution_count": 11,
      "outputs": [
        {
          "output_type": "stream",
          "name": "stdout",
          "text": [
            "[0.52359878 3.14159265 0.62831853 0.39269908]\n",
            "[ 30.  180.   36.   22.5]\n",
            "cos value:\n",
            "[ 0.8660254  -1.          0.80901699  0.92387953]\n",
            "inverse od cos:\n",
            "[0.52359878 3.14159265 0.62831853 0.39269908]\n"
          ]
        }
      ]
    },
    {
      "cell_type": "markdown",
      "source": [
        "# tan() function degree to radin"
      ],
      "metadata": {
        "id": "JCzwaQLmYu2h"
      }
    },
    {
      "cell_type": "code",
      "source": [
        "a = np.array([30,50,20,10])\n",
        "rad=np.deg2rad(a)\n",
        "print(rad)\n",
        "A=np.tan(rad)\n",
        "print(\"tan:\",A)\n",
        "S=np.arctan(A)\n",
        "print(\"inverse tan:\",S)"
      ],
      "metadata": {
        "colab": {
          "base_uri": "https://localhost:8080/"
        },
        "id": "JNf6uzP-YwJj",
        "outputId": "f9e46514-467f-4212-bac3-868c6784383a"
      },
      "execution_count": 10,
      "outputs": [
        {
          "output_type": "stream",
          "name": "stdout",
          "text": [
            "[0.52359878 0.87266463 0.34906585 0.17453293]\n",
            "tan: [0.57735027 1.19175359 0.36397023 0.17632698]\n",
            "inverse tan: [0.52359878 0.87266463 0.34906585 0.17453293]\n"
          ]
        }
      ]
    },
    {
      "cell_type": "markdown",
      "source": [
        "# tan() function radain to degree"
      ],
      "metadata": {
        "id": "xgFutM35Y1JR"
      }
    },
    {
      "cell_type": "code",
      "source": [
        "a = np.array([np.pi/4,np.pi/8,np.pi/7])\n",
        "print(a)\n",
        "deg=np.rad2deg(a)\n",
        "print(rad)\n",
        "A=np.tan(a)\n",
        "print(\"tan:\",A)\n",
        "S=np.arctan(A)\n",
        "print(\"inverse tan:\",S)"
      ],
      "metadata": {
        "colab": {
          "base_uri": "https://localhost:8080/"
        },
        "id": "Oj0zP2S8Y5bi",
        "outputId": "5e636977-c4ae-4e4b-d1c6-cd0286efab7a"
      },
      "execution_count": 9,
      "outputs": [
        {
          "output_type": "stream",
          "name": "stdout",
          "text": [
            "[0.78539816 0.39269908 0.44879895]\n",
            "[0.52359878 0.87266463 0.34906585 0.17453293]\n",
            "tan: [1.         0.41421356 0.48157462]\n",
            "inverse tan: [0.78539816 0.39269908 0.44879895]\n"
          ]
        }
      ]
    },
    {
      "cell_type": "code",
      "source": [
        "\n",
        "import numpy as np\n",
        "a = np.array([2*np.pi/2,2*np.pi/3,0])\n",
        "print(\"Original array:\", a)\n",
        "print()\n",
        "b = np.cos(a)\n",
        "print(\"Cosine Values:\" ,b)\n",
        ""
      ],
      "metadata": {
        "colab": {
          "base_uri": "https://localhost:8080/"
        },
        "id": "9aDOvLjMdETm",
        "outputId": "14d6c08c-b1fd-4618-b6e7-1870eb239f23"
      },
      "execution_count": 16,
      "outputs": [
        {
          "output_type": "stream",
          "name": "stdout",
          "text": [
            "Original array: [3.14159265 2.0943951  0.        ]\n",
            "\n",
            "Cosine Values: [-1.  -0.5  1. ]\n"
          ]
        }
      ]
    }
  ]
}