{
  "nbformat": 4,
  "nbformat_minor": 0,
  "metadata": {
    "colab": {
      "provenance": [],
      "authorship_tag": "ABX9TyO8mrJjQ+p9sLsmUSSeiJDw",
      "include_colab_link": true
    },
    "kernelspec": {
      "name": "python3",
      "display_name": "Python 3"
    },
    "language_info": {
      "name": "python"
    }
  },
  "cells": [
    {
      "cell_type": "markdown",
      "metadata": {
        "id": "view-in-github",
        "colab_type": "text"
      },
      "source": [
        "<a href=\"https://colab.research.google.com/github/eisakhan04/Numpy-Course/blob/main/Topic_15_Numpy_array_from_existing_data.ipynb\" target=\"_parent\"><img src=\"https://colab.research.google.com/assets/colab-badge.svg\" alt=\"Open In Colab\"/></a>"
      ]
    },
    {
      "cell_type": "markdown",
      "source": [
        "# **Topic 15:Numpy array from existing data**"
      ],
      "metadata": {
        "id": "ikAga1ctuupK"
      }
    },
    {
      "cell_type": "markdown",
      "source": [
        "**1. numpy. asarray**\n",
        "Topic 15 = Numpy Array From Existing Data\n",
        "NumPy is a powerful Python library used for scientific computing and data analysis. One of the key features of NumPy is its ability to create arrays of data, which can be used for various mathematical operations. NumPy arrays can be created from existing data, such as Python lists or tuples, by using the np.array() function.\n",
        "\n",
        "To create a NumPy array from an existing Python list, you first need to import the NumPy library. This can be done by running the following code:\n",
        "\n",
        "import numpy as np\n",
        "\n",
        "Next, you can create a NumPy array from a list by passing the list as an argument to the np.array() function. For example, the following code creates a NumPy array from a Python list of integers:\n",
        "\n",
        "my_list = [1, 2, 3, 4, 5] my_array = np.array(my_list)\n",
        "\n",
        "You can also create a NumPy array from a Python tuple using the same approach. Once you have created a NumPy array, you can perform various mathematical operations on it, such as addition, subtraction, multiplication, and division. NumPy also provides many built-in functions for performing statistical calculations on arrays.\n",
        "\n",
        "NumPy provides us the way to create an array by using the existing data.\n",
        "\n",
        "1. numpy.asarray().\n",
        "2. numpy.frombuffer().\n",
        "3. numpy.fromiter()\n",
        "Type 1. numpy.asarray function\n",
        "\n",
        "This function is used to create an array by using the existing data in the form of lists, or tuples. This function is useful in the scenario where we need to convert a python sequence into the numpy array object.\n",
        "\n",
        "The NumPy asarray() function is a method that converts a given input, such as a list or tuple, into a NumPy array. The resulting array will have the same data type and shape as the input data.\n",
        "\n",
        "The asarray() function is useful when you want to ensure that your input data is a NumPy array, regardless of its original format. For example, if you have a list of numbers and you want to perform mathematical operations on it using NumPy functions, you can convert it to a NumPy array using asarray().\n",
        "\n",
        "Here's the syntax for the asarray() function:\n",
        "\n",
        "numpy.asarray(a, dtype=None, order=None)\n",
        "\n",
        "a: The input data to be converted to a NumPy array. dtype: The desired data type of the resulting NumPy array. If not specified, the data type of the input data will be used. order: Specifies the memory layout of the resulting array. If not specified, NumPy will use 'C' (row-major) order by default.\n",
        "\n",
        "Example 01: Creating an array from a list"
      ],
      "metadata": {
        "id": "nm2N09ojvqL5"
      }
    },
    {
      "cell_type": "code",
      "source": [
        "import numpy as np\n",
        "a = [2,3,4,5]\n",
        "b = np.asarray(a)\n",
        "print(b)"
      ],
      "metadata": {
        "colab": {
          "base_uri": "https://localhost:8080/"
        },
        "id": "m0boGBXTvie4",
        "outputId": "ee1c316d-47ce-44e8-a353-bc1542d2b463"
      },
      "execution_count": null,
      "outputs": [
        {
          "output_type": "stream",
          "name": "stdout",
          "text": [
            "[2 3 4 5]\n"
          ]
        }
      ]
    },
    {
      "cell_type": "markdown",
      "source": [
        "**Tupple convert into array by the using of asarray**"
      ],
      "metadata": {
        "id": "z6W_wZVdvv9T"
      }
    },
    {
      "cell_type": "code",
      "source": [
        "a = (2,3,4,5)\n",
        "b = np.asarray(a)\n",
        "print(b)"
      ],
      "metadata": {
        "colab": {
          "base_uri": "https://localhost:8080/"
        },
        "id": "sc_i3X1DwDqk",
        "outputId": "d9f25d5d-0c5c-4729-fa72-e898d971d425"
      },
      "execution_count": null,
      "outputs": [
        {
          "output_type": "stream",
          "name": "stdout",
          "text": [
            "[2 3 4 5]\n"
          ]
        }
      ]
    },
    {
      "cell_type": "code",
      "source": [
        "a = np.array((2,3,4,5))\n",
        "print(a)"
      ],
      "metadata": {
        "colab": {
          "base_uri": "https://localhost:8080/"
        },
        "id": "U1xwMiehwJxO",
        "outputId": "ee8a4ad4-e0a2-460b-bd34-36482be56457"
      },
      "execution_count": null,
      "outputs": [
        {
          "output_type": "stream",
          "name": "stdout",
          "text": [
            "[2 3 4 5]\n"
          ]
        }
      ]
    },
    {
      "cell_type": "code",
      "source": [
        "import numpy as np\n",
        "my_string = \"1 2 3 4 5\"\n",
        "arr = np.asarray(my_string.split(), dtype=int)\n",
        "print(arr)"
      ],
      "metadata": {
        "colab": {
          "base_uri": "https://localhost:8080/"
        },
        "id": "Zf_II9VKJCh9",
        "outputId": "9a2d0f40-1636-4889-8a62-b0f5d2091160"
      },
      "execution_count": 1,
      "outputs": [
        {
          "output_type": "stream",
          "name": "stdout",
          "text": [
            "[1 2 3 4 5]\n"
          ]
        }
      ]
    },
    {
      "cell_type": "code",
      "source": [
        "a = [2,3,4,5]\n",
        "b = np.asarray(a,dtype=complex)\n",
        "print(b)"
      ],
      "metadata": {
        "colab": {
          "base_uri": "https://localhost:8080/"
        },
        "id": "i8wq1aQlwNFd",
        "outputId": "8314d8a4-5510-4bca-9109-39b27b0cb7a3"
      },
      "execution_count": null,
      "outputs": [
        {
          "output_type": "stream",
          "name": "stdout",
          "text": [
            "[2.+0.j 3.+0.j 4.+0.j 5.+0.j]\n"
          ]
        }
      ]
    },
    {
      "cell_type": "markdown",
      "source": [
        "**Type 2. numpy.frombuffer**\n",
        "\n",
        "numpy.frombuffer is a NumPy function that creates a new one-dimensional array from an object that exposes the buffer interface. \"Exposing the buffer interface means that an object provides a way to access its data in a raw, memory-efficient manner. This allows other objects or functions to access the data directly without the need for any additional copying or conversion, which can be especially useful for large amounts of data\".\n",
        "\n",
        "The numpy.frombuffer function takes two arguments: buffer and dtype. buffer is the object that exposes the buffer interface, while dtype specifies the data type of the returned array.\n",
        "\n",
        "For example, if buffer is a bytes object containing the binary representation of an array of 32-bit integers, and dtype is set to 'int32', then numpy.frombuffer(buffer, dtype='int32') will return a new NumPy array containing the integers.\n",
        "\n",
        "**This function can be useful when working with binary data, such as data stored in files or transmitted over networks.**"
      ],
      "metadata": {
        "id": "cJWFPjDRw0KE"
      }
    },
    {
      "cell_type": "code",
      "source": [
        "import numpy as np\n",
        "# Create a bytes object with integer data\n",
        "data_bytes = b'\\x01\\x00\\x00\\x00\\x02\\x00\\x00\\x00\\x03\\x00\\x00\\x00'\n",
        "\n",
        "# Convert the bytes object to a NumPy array with a custom data type (dtype) and an offset\n",
        "numpy_array = np.frombuffer(data_bytes, dtype=np.int32)\n",
        "print(numpy_array)\n"
      ],
      "metadata": {
        "colab": {
          "base_uri": "https://localhost:8080/"
        },
        "id": "QWNQchhTwQzG",
        "outputId": "a9f85fa7-5bb3-44f1-bec4-29a4dac9628e"
      },
      "execution_count": null,
      "outputs": [
        {
          "output_type": "stream",
          "name": "stdout",
          "text": [
            "[1 2 3]\n"
          ]
        }
      ]
    },
    {
      "cell_type": "code",
      "source": [
        "import numpy as np\n",
        "# Create a bytes object with integer data\n",
        "data_bytes = b'\\x01\\x00\\x00\\x00\\x02\\x00\\x00\\x00\\x03\\x00\\x00\\x00'\n",
        "\n",
        "# Convert the bytes object to a NumPy array with a custom data type (dtype) and an offset\n",
        "numpy_array = np.frombuffer(data_bytes, dtype=np.uint8).reshape(4,3)\n",
        "print(numpy_array)"
      ],
      "metadata": {
        "colab": {
          "base_uri": "https://localhost:8080/"
        },
        "id": "_CY2CX3cwa4b",
        "outputId": "248e91c6-0979-40a2-a702-e7d25a260b2e"
      },
      "execution_count": null,
      "outputs": [
        {
          "output_type": "stream",
          "name": "stdout",
          "text": [
            "[[1 0 0]\n",
            " [0 2 0]\n",
            " [0 0 3]\n",
            " [0 0 0]]\n"
          ]
        }
      ]
    },
    {
      "cell_type": "code",
      "source": [
        "# Example 03: Convert a string to a 1-dimensional array of characters:\n",
        "\n",
        "import numpy as np\n",
        "# create a string\n",
        "s = 'hello'\n",
        "# convert string to numpy array\n",
        "arr = np.frombuffer(s.encode(), dtype='S1')\n",
        "print(arr)"
      ],
      "metadata": {
        "id": "g0FA8vFMKi51"
      },
      "execution_count": null,
      "outputs": []
    },
    {
      "cell_type": "markdown",
      "source": [
        "**Type 03: numpy.fromiter:**\n",
        "\n",
        "numpy.fromiter is a NumPy function that creates a new NumPy array from an iterable object like a list or a generator. It takes two arguments: the iterable object, and the data type of the resulting NumPy array. This function is useful when we have a large amount of data that we don't want to store in a temporary list or array before creating a NumPy array. Instead, we can generate the data on-the-fly using an iterable object and create the NumPy array directly from it."
      ],
      "metadata": {
        "id": "ElML2jaBwfM6"
      }
    },
    {
      "cell_type": "code",
      "source": [
        "import numpy as np\n",
        "a = [2,3,4,5]\n",
        "b = np.fromiter(a,dtype = complex)\n",
        "print(b)"
      ],
      "metadata": {
        "colab": {
          "base_uri": "https://localhost:8080/"
        },
        "id": "YmD93hVNwjTb",
        "outputId": "11cd12c9-b6ba-43b3-878c-cd9680b94585"
      },
      "execution_count": 2,
      "outputs": [
        {
          "output_type": "stream",
          "name": "stdout",
          "text": [
            "[2.+0.j 3.+0.j 4.+0.j 5.+0.j]\n"
          ]
        }
      ]
    },
    {
      "cell_type": "code",
      "source": [
        "import numpy as np\n",
        "my_gen = (x**2 for x in range(6))\n",
        "print(my_gen)\n",
        "print()\n",
        "my_array = np.fromiter(my_gen, dtype=int)\n",
        "print(my_array)"
      ],
      "metadata": {
        "colab": {
          "base_uri": "https://localhost:8080/"
        },
        "id": "Ypt79ONDdM0q",
        "outputId": "f107568e-11cf-4a66-8d8a-8f30cbcc19bf"
      },
      "execution_count": 7,
      "outputs": [
        {
          "output_type": "stream",
          "name": "stdout",
          "text": [
            "<generator object <genexpr> at 0x7c77c1390b30>\n",
            "\n",
            "[ 0  1  4  9 16 25]\n"
          ]
        }
      ]
    },
    {
      "cell_type": "code",
      "source": [
        "import numpy as np\n",
        "my_gen = (complex(x, x+1) for x in range(3))\n",
        "print(my_gen)\n",
        "print()\n",
        "my_array = np.fromiter(my_gen, dtype=complex)\n",
        "print(my_array)"
      ],
      "metadata": {
        "colab": {
          "base_uri": "https://localhost:8080/"
        },
        "id": "XzVJsFd_dSfv",
        "outputId": "fb706f98-db5d-4fcc-dc11-2184e8aa6de3"
      },
      "execution_count": 5,
      "outputs": [
        {
          "output_type": "stream",
          "name": "stdout",
          "text": [
            "<generator object <genexpr> at 0x7c77c13907b0>\n",
            "\n",
            "[0.+1.j 1.+2.j 2.+3.j]\n"
          ]
        }
      ]
    },
    {
      "cell_type": "code",
      "source": [
        "import numpy as np\n",
        "my_range = range(5)\n",
        "my_array = np.fromiter(my_range, dtype=np.uint8)\n",
        "print(my_array)"
      ],
      "metadata": {
        "colab": {
          "base_uri": "https://localhost:8080/"
        },
        "id": "Dllv6zdYdsrO",
        "outputId": "c9ad00c1-3e43-48c7-c5e3-61a6741a7339"
      },
      "execution_count": 8,
      "outputs": [
        {
          "output_type": "stream",
          "name": "stdout",
          "text": [
            "[0 1 2 3 4]\n"
          ]
        }
      ]
    },
    {
      "cell_type": "markdown",
      "source": [
        "**Explanation:**\n",
        "\n",
        "This code creates a range object called \"my_range\" with values from 0 up to, but not including, 5.\n",
        "\n",
        "Next, the code uses NumPy's \"fromiter\" function to create a one-dimensional array called \"my_array\" from the values in \"my_range\". The \"dtype=np.uint8\" argument specifies that the data type of the array should be unsigned 8-bit integers.\n",
        "\n",
        "Finally, the code prints the contents of \"my_array\" to the console using the \"print\" function. The output of this code will be an array of unsigned 8-bit integers with the values [0 1 2 3 4]."
      ],
      "metadata": {
        "id": "gi6aAs9fdzTC"
      }
    }
  ]
}