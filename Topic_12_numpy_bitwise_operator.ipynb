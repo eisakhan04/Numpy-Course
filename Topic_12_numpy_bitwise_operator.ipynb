{
  "nbformat": 4,
  "nbformat_minor": 0,
  "metadata": {
    "colab": {
      "provenance": [],
      "authorship_tag": "ABX9TyOsJCWXu38rGlZhTAXwtXM4",
      "include_colab_link": true
    },
    "kernelspec": {
      "name": "python3",
      "display_name": "Python 3"
    },
    "language_info": {
      "name": "python"
    }
  },
  "cells": [
    {
      "cell_type": "markdown",
      "metadata": {
        "id": "view-in-github",
        "colab_type": "text"
      },
      "source": [
        "<a href=\"https://colab.research.google.com/github/eisakhan04/Numpy-Course/blob/main/Topic_12_numpy_bitwise_operator.ipynb\" target=\"_parent\"><img src=\"https://colab.research.google.com/assets/colab-badge.svg\" alt=\"Open In Colab\"/></a>"
      ]
    },
    {
      "cell_type": "markdown",
      "source": [
        "# **Topic 12: numpy bitwise operator**"
      ],
      "metadata": {
        "id": "FOoGAOLUANXx"
      }
    },
    {
      "cell_type": "markdown",
      "source": [
        "A bitwise operator is a special operator that operates on the individual bits of a binary number. Bitwise operators are used to perform bit-level operations on data, such as comparing two numbers, setting or clearing bits, or shifting bits.\n",
        "\n"
      ],
      "metadata": {
        "id": "iC-WJnk5AGZE"
      }
    },
    {
      "cell_type": "markdown",
      "source": [
        "1. Bitwise AND (&): Performs a bitwise AND operation on each corresponding pair of bits in the input arrays. The result is a new array with the corresponding bits set to 1 if both bits are 1, otherwise 0.\n",
        "\n",
        "2. Bitwise OR (|): Performs a bitwise OR operation on each corresponding pair of bits in the input arrays. The result is a new array with the corresponding bits set to 1 if at least one of the bits is 1, otherwise 0.\n",
        "\n",
        "3. Bitwise XOR (^): Performs a bitwise exclusive OR (XOR) operation on each corresponding pair of bits in the input arrays. The result is a new array with the corresponding bits set to 1 if the bits are different, otherwise 0.\n",
        "\n",
        "4. Bitwise NOT (~): Performs a bitwise NOT operation on each bit in the input array. The result is a new array with all the bits inverted, i.e., 1s become 0s and 0s become 1s."
      ],
      "metadata": {
        "id": "pj9z9p8kAMWb"
      }
    },
    {
      "cell_type": "code",
      "execution_count": 3,
      "metadata": {
        "colab": {
          "base_uri": "https://localhost:8080/"
        },
        "id": "XLHondXm5KCg",
        "outputId": "54295ace-4dc9-4fc6-8dc4-48ac41c5af16"
      },
      "outputs": [
        {
          "output_type": "stream",
          "name": "stdout",
          "text": [
            "11000\n"
          ]
        }
      ],
      "source": [
        "import numpy as np\n",
        "x=24\n",
        "a =np.binary_repr(x)\n",
        "print(a)"
      ]
    },
    {
      "cell_type": "markdown",
      "source": [
        "The code you provided will print the binary representation of the integer x. The np.binary_repr() function takes an integer as input and returns a string that represents the binary representation of the integer. The string will be prefixed with a 0b to indicate that it is a binary number.\n",
        "\n",
        "For example, if x is 24, then the output of the np.binary_repr() function will be 0b11000. This is because the binary representation of 24 is 11000."
      ],
      "metadata": {
        "id": "hT1Y7-EeCGxq"
      }
    },
    {
      "cell_type": "code",
      "source": [
        "import numpy as np\n",
        "a= np.array([12,14,15])\n",
        "b=np.vectorize(np.binary_repr)(a)\n",
        "print(b)"
      ],
      "metadata": {
        "colab": {
          "base_uri": "https://localhost:8080/"
        },
        "id": "hgw03VKQGaLn",
        "outputId": "6090c4d4-71b7-4152-dd2a-0b79eb5f2910"
      },
      "execution_count": 5,
      "outputs": [
        {
          "output_type": "stream",
          "name": "stdout",
          "text": [
            "['1100' '1110' '1111']\n"
          ]
        }
      ]
    },
    {
      "cell_type": "markdown",
      "source": [
        "The given Python code uses the NumPy library to convert an array of decimal numbers into their binary representations. Let's break down the code step by step:\n",
        "\n",
        "import numpy as np: This line imports the NumPy library and gives it the alias np.\n",
        "\n",
        "a = np.array([12, 14, 15]): This line creates a NumPy array a with three decimal numbers 12, 14, and 15.\n",
        "\n",
        "b = np.vectorize(np.binary_repr)(a): This line applies the function np.binary_repr() element-wise to each element of array a using the np.vectorize() function. The np.binary_repr() function converts decimal numbers to their binary representations.\n",
        "\n",
        "print(b): This line prints the resulting binary representations stored in the array b."
      ],
      "metadata": {
        "id": "HFqi49gkGYme"
      }
    },
    {
      "cell_type": "code",
      "source": [
        "b=np.array([[22,44,55,66,77,88],[45,5,23,5,66,76]])\n",
        "c=np.vectorize(np.binary_repr)(b)\n",
        "print(c)"
      ],
      "metadata": {
        "colab": {
          "base_uri": "https://localhost:8080/"
        },
        "id": "_cVyQPshHOV9",
        "outputId": "f84edcf7-8b43-4e0d-d237-b613779a764a"
      },
      "execution_count": 11,
      "outputs": [
        {
          "output_type": "stream",
          "name": "stdout",
          "text": [
            "[['10110' '101100' '110111' '1000010' '1001101' '1011000']\n",
            " ['101101' '101' '10111' '101' '1000010' '1001100']]\n"
          ]
        }
      ]
    },
    {
      "cell_type": "markdown",
      "source": [
        "**Bitwise And(&) operator**\n",
        "\n",
        "![Screenshot 2023-07-25 224536.png](data:image/png;base64,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)\n",
        "\n",
        "\n"
      ],
      "metadata": {
        "id": "hC59LX0BIHeV"
      }
    },
    {
      "cell_type": "code",
      "source": [
        "import numpy as np\n",
        "a = np.array([12,14,15])\n",
        "b = np.vectorize(np.binary_repr)(a)\n",
        "print(b)\n",
        "print()\n",
        "c = np.array([15,12,14])\n",
        "d = np.vectorize(np.binary_repr)(c)\n",
        "print(d)\n",
        "print(\"And operator\")\n",
        "x = np.vectorize(np.binary_repr)(a&c)\n",
        "print(x)\n"
      ],
      "metadata": {
        "colab": {
          "base_uri": "https://localhost:8080/"
        },
        "id": "d48dxHblHh_V",
        "outputId": "1a7cd0d7-7e08-4731-ba2b-5d2ccab5c1d4"
      },
      "execution_count": 12,
      "outputs": [
        {
          "output_type": "stream",
          "name": "stdout",
          "text": [
            "['1100' '1110' '1111']\n",
            "\n",
            "['1111' '1100' '1110']\n",
            "And operator\n",
            "['1100' '1100' '1110']\n"
          ]
        }
      ]
    },
    {
      "cell_type": "markdown",
      "source": [
        "**Explanation:**\n",
        "\n",
        "The bitwise AND operation is applied element-wise between arrays 'a' and 'c', and the results are displayed in their binary representations in array 'x'. The binary representation of 12 & 15 is '1100', 14 & 12 is '1100', and 15 & 14 is '1110'.\n",
        "\n",
        "In summary, the code demonstrates how to perform bitwise AND operations on arrays of decimal numbers and display the results in binary representation using NumPy's np.vectorize() function and np.binary_repr()"
      ],
      "metadata": {
        "id": "VoA9lEK2L8rF"
      }
    },
    {
      "cell_type": "markdown",
      "source": [
        "**Botwise OR(|) operator**\n",
        "\n",
        "![Screenshot 2023-07-25 224354.png](data:image/png;base64,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)"
      ],
      "metadata": {
        "id": "0WWTnXWNMPC_"
      }
    },
    {
      "cell_type": "code",
      "source": [
        "import numpy as np\n",
        "a = np.array([12,14,15])\n",
        "b = np.vectorize(np.binary_repr)(a)\n",
        "print(b)\n",
        "print()\n",
        "c = np.array([15,12,14])\n",
        "d = np.vectorize(np.binary_repr)(c)\n",
        "print(d)\n",
        "print(\"OR operator\")\n",
        "x = np.vectorize(np.binary_repr)(a|c)\n",
        "print(x)"
      ],
      "metadata": {
        "colab": {
          "base_uri": "https://localhost:8080/"
        },
        "id": "JdL4qyD4MxzV",
        "outputId": "dde9f0dc-35d2-4113-99af-9d83e7ed025b"
      },
      "execution_count": 13,
      "outputs": [
        {
          "output_type": "stream",
          "name": "stdout",
          "text": [
            "['1100' '1110' '1111']\n",
            "\n",
            "['1111' '1100' '1110']\n",
            "OR operator\n",
            "['1111' '1110' '1111']\n"
          ]
        }
      ]
    },
    {
      "cell_type": "markdown",
      "source": [
        "# **Explanation:**\n",
        "The code you provided will first create two NumPy arrays, a and c, that contain the integers 12, 14, and 15. Then, it will use the np.vectorize() function to apply the np.binary_repr() function to each element in the arrays. The np.binary_repr() function will convert each integer to its binary representation.\n",
        "\n",
        "The code will then print the binary representations of the arrays a and c. Next, it will perform a bitwise OR operation on the arrays a and c. The bitwise OR operation will return a new array that contains the bitwise OR of the corresponding elements in a and c.\n",
        "\n",
        "Finally, the code will use the np.vectorize() function to apply the np.binary_repr() function to the new array. The np.binary_repr() function will convert each element in the new array to its binary representation."
      ],
      "metadata": {
        "id": "OcplN0IWNJmp"
      }
    },
    {
      "cell_type": "markdown",
      "source": [
        "**Bitwise XOR(^) operator**\n",
        "\n",
        "![Screenshot 2023-07-25 230222.png](data:image/png;base64,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)"
      ],
      "metadata": {
        "id": "gCapbZPHNY8f"
      }
    },
    {
      "cell_type": "code",
      "source": [
        "import numpy as np\n",
        "a = np.array([12,14,15])\n",
        "b = np.vectorize(np.binary_repr)(a)\n",
        "print(b)\n",
        "print()\n",
        "c = np.array([15,12,14])\n",
        "d = np.vectorize(np.binary_repr)(c)\n",
        "print(d)\n",
        "print(\"XOR operator\")\n",
        "x = np.vectorize(np.binary_repr)(a^c)\n",
        "print(x)"
      ],
      "metadata": {
        "colab": {
          "base_uri": "https://localhost:8080/"
        },
        "id": "eUC6SKsLN-Oh",
        "outputId": "52a29748-c3c2-4532-e06c-06f48cb71901"
      },
      "execution_count": 15,
      "outputs": [
        {
          "output_type": "stream",
          "name": "stdout",
          "text": [
            "['1100' '1110' '1111']\n",
            "\n",
            "['1111' '1100' '1110']\n",
            "XOR operator\n",
            "['11' '10' '1']\n"
          ]
        }
      ]
    },
    {
      "cell_type": "markdown",
      "source": [
        "**Explanation**\n",
        "\n",
        "The first line imports the numpy library.\n",
        "\n",
        "The second line creates an array a that contains the integers 12, 14, and 15.\n",
        "\n",
        "The third line uses the np.vectorize() function to apply the np.binary_repr() function to each element in the array a. The np.binary_repr() function converts each integer to its binary representation.\n",
        "\n",
        "The fourth line prints the binary representations of the elements in the array a.\n",
        "\n",
        "The fifth line creates an array c that contains the integers 15, 12, and 14.\n",
        "\n",
        "The sixth line uses the np.vectorize() function to apply the np.binary_repr() function to each element in the array c. The np.binary_repr() function converts each integer to its binary representation.\n",
        "\n",
        "The seventh line prints the binary representations of the elements in the array c.\n",
        "\n",
        "The eighth line prints the message \"XOR operator\".\n",
        "\n",
        "The ninth line uses the np.vectorize() function to apply the np.binary_repr() function to the result of the bitwise XOR operation on the arrays a and c. The np.binary_repr() function converts the result of the bitwise XOR operation to its binary representation.\n",
        "\n",
        "The tenth line prints the binary representation of the result of the bitwise XOR operation on the arrays a and c."
      ],
      "metadata": {
        "id": "zSyVGk1QOsZb"
      }
    },
    {
      "cell_type": "markdown",
      "source": [
        "# **Bitwise NOT(~) operator**\n",
        "\n",
        "\n",
        "![Screenshot 2023-07-25 231607.png](data:image/png;base64,iVBORw0KGgoAAAANSUhEUgAAAfAAAABpCAYAAADFsnHZAAAAAXNSR0IArs4c6QAAAARnQU1BAACxjwv8YQUAAAAJcEhZcwAADsMAAA7DAcdvqGQAABHtSURBVHhe7d1/aFRnusDxx9TU1l6WJaKtuzWii6wgKwTZS/dqL4GVQBPqFhGCf4SSPwopalsFvXKV9m6pl20ErW2CQv8IxT8kUKS1JEKwIK3e691LyaVLwFKsW61rNegfxR+1tvW+z3ve98yZk5lkzjkzozPz/cDpzJwzkxxLzvu8z/O+551ZX3xx8d6TT84TAEjqm2+uCe0HcH80uUcAAFBDCOAAANQgAjgAADWIAA4AQA0igAMAUIMyBvDP5e3ftMmTke3tcXeopvh/xz75zO0BUCHj+1x7sUU++Nbts67JB1sK7Z+unZl6LL4Va5M+G4i9d+Bzd6SWFPt/hkaQPoDbi/B56Xcvvf4NtXohAKiuU7J5zwcy6V4VVJF2Jgj6f9rvXnr7nze/i048akfKAG4ugA2H7bNn3joh35wbD7b3e+w+vRBqMxMHUFWjf5Z//+iaexFXSjuzUl7y+8+dkIFOPbBGBk77fePyUpt9d+izAdch6HxNxsPPvic77NHD8icSENSIVAF88qN3gwtg63vy7rORRRzatsn4W2vs0/7TehHkyjtvD2wxj/pct1gv99sP5IXwmNnCC6jA5/2xsAxXwmd02xLt6fv3uG3ghNsPoGq29tigefyV/yhY/i29nUnAtDWHbObdIx++85zMtzuV6Qicfk2e0af7T9j2yZfY3x6ItjUzlPcj7cyUz/tj8fZuus/YLb+9zCv9b3lPLrj9aDypAviFr0/Zx2cW/9o+Rs3//R+Di+CLryIB85T07w8+EzC93Ogf8+o/y3G739FSVl4vOPZ5Dd6uZx4yn3khrycf+0zY09fgvVY2jwa7rf2Hp5ToAFTaWnnJZtOFS+nJ25kSXP4qaGs6l0qr3RHxxNPSZTP483IxEqT7TfuQY851tQ+oGrxj5X3TzrTlJQuxzxdq7/Qzsaw//3fmqgIavPNK/6Om7Yq2ZWgoGSexlW7H+7FSlfmjPTJu/iDfD/6YcyUyd3z/u3k93fD45pXm4lnr3htsvjd+/OtL9tHzvzPv+Lefyoj9gzc9cP8zfEkOQHWZbPrDrebRdrDzr98HRa5t8iX6w3LIJAPRCkHecde2hfxxk/HL5aXyn77d0c23PbGOSPg7845/Lqdt8I4MEfiqARpSqgDeurhwwFST//tx0Lv87dJIeWqNtC50T2WlrNYL1romF78Inh1/Za0rC02dsKKf7/p9roS2qm1lXhmq7ZVodu/lfuf8J5cET5TvgW9dK6vsDqNtrRv/AlBtqzYHnfbjrzyfVxlL3s6UYOHSIOCNfjW19Bx27pfIoifsHut34Vrv82R1R3BOylcIgslv2hbFKnvOjtWmvXLmm7ZrfrTsHq8kOuHv9Oervv1K/qaPnX+U1f78wqoBGlGqAD7/2RdclhwrW4/vC4Np9I9Wy04XLrunYS9SzZNFvw2e5TJ0kzGf1t7nO/Jc5CKKsmNAqz+WLt8LTZJB+wvCjXNZ4ycooQP3zUpXSs+XvJ0pwRPPSZ9NICLDeJYJqr60He3cG3/7xv/ua3J6LJcs+A5G3gQ703bpxLj4xDlv8iOdl/O8iG/vkmTQTyyV3+nj6Mdy2lcnw04HGlHKEnrugstlzpHe5Nb3pvwB29s+7PtyM0A3mves2hD8AeeOm4x6tf7MYvc1+qxdx6LcZ/zvjZXdCwp7rOYCdr+vWC8YQJX4Unqe5O1MKXzGb8ee/c8MK3898uHm/E5B7nf7DLtH+p6dF3Yw8s7NtF36M4vdheOz9rC9852GeNm9IF+9jLR98fF0NJT0Y+DmgsvdepFjM+nYBaDl7B1bc6WnvBmgpkf8brwXam/vKJaBz5PnduW//5m3XptyHsWZz7/jx7IcNxsWwP0TBtaoRO1MqYJbz6Z0GOxY9ba87FvtMO1Djo4/+/foz4mfWzC3pljHYsq/cetr+W3RDFZtjp13p2m7KKE3rAp/H7if8a1/9MVL4gBqUz1/H7if8a2dhTSZPlBpVZuFDgAAyqfCGTiAelbPGTjwoCMDBwCgBhHAAQCoQQRwAABqEAEcAIAaRAAHAKAGEcABAKhBBHAAAGqQvQ/cPQeARObMaZY7d+66VwCqyQbw1tZEX8gHANaFC5NC+wHcH5TQAQCoQQRwAABqEAEcAIAaRAAHAKAGEcABAKghP/30k9y6dYsADgBArbhz547cvn3bBnECOAAAD7gff/xRbt68KT/88IPcuxcs30IABwDgAff999/Lzz//7F4FCOAAANQgAjgAADWIAA4AwAPAzy7Xx1KkXAv9qoxse1n2nnUvo7p2y8lNK9yLAq6Myc7eU/L00OvS9bjbB6AmJV8LfUIOdr4hw+7VVMtkO20DGoyObevktLt378qsWbPkscces49RN27cCCeveZkC+KftB+Qv6xa4fSUigAN1I+uXmVw/9qqsP7lGju7rkBa3D2gUGrj1tjDNuMOZ5U1NNoDHFQrglNABAKgiDcSacWu5XG8Piwbm5uZm92xmFQvgE4Mbpb3Tb0My4fbHaQ889z6zDUbfqZl+sWMA6o+W2DfKwWNjslOv+W1jcl33anuSd/3r+16VkSvupZHflhRvc4D7SQO33s+tmXc8o1azZ892z2ZWkQCuF9umc71ydPSInBw9INuXj8mmQsH3ypj0H1oig/Z97r3nht1FmSvT5469QRAHGsDwoUvSo9d9iaX1sBTv2pKjfedlE0EcDxAd354ucCsd99YSeqkyBfAzh16O9HjNZnvLV2XhhuiFt0D+0L5M5Nwl25PO849LckbOy9/DXvQC6drnxsbHR2Tv2Q7pCcfYzbGeDpGRv3JRAnWue0+vTDMVNmbCBPwvpdu0Dz7Yt6zrlm4Zk0/G3Q7gPvEzywstxBKXJPtWmQL4U30+O3abDdoLpEUDsE5Wc4F9vbm4CmrrlZN7lsje3lwnYOexq/bQ9YvnzX9N5u72223XmD0GAKErl+Rr8zC8K9JWTDvTHag8DdYatP265aWoagAvzI1bvymyIyxnmQy8EBPkR8QE8bATsFsWm6z+oOk1tyxaIrLcl+GjW5KeOYC69/ivZbG9/SzeVhyRF9vce4Aq0fK4Bm7NurVsXqxcHqfl84ceesi9Kk0FAvikXDgrkXLWVfnvk4UycBPo3xySvbsiE1FsT3qZtP7KPG/rku0yJP0uI1fBxDjGtYBGs3BR/jDcxGA0w14h3X0ie98MJrxZ40M2E9dkAKgWP7M8SeD2NPuO3/s9kwoE8BXy4p6OSDlrQKS9Q+RsfjAOxrs1OzcXni+h9w7J4j3+/nA9fkCePpkbZw8mxpGBA42mZd1m26Ff79qCT/5lt3S7Y6pl3etytP1UeLx913mbkZOBoxqiE9RmGucuJmn5XKVcyAUAsi/kAtSy3EIsei+325lCsdXXoljIBQCAjPwEtdxCLO5ASjr2nbR8rgjgAACUQDPgLOPcxaQpnysCOAAAM9CArYF7uoVY0iKAAwBQZhq4dfy5lIVY0kgz+9wjgAMAEBNdQa3cGXdU2uxbEcABAHDSrKCWRdLFW6II4ACAhqdZdpoV1LLQ4J3ky0viCOAAgIan49BZxqPTyFI+VwRwAAAMDai6oMojjzxSlUCepXyu7Eps7jkAADC0hK6ldN3Mq2BnGTU1PSSPPvqoezUzXao1fh4spQogNZZSRb3zy6XqimvlNGfOHHn44Yfdq5mxlCoAoCH5SWpJ7+fWSWaaKeuWZcJZXNbyuSKAAwDqlgZuXf5US9C+JO5XVEuinOPj2hEggAMAUISWvQstfxoN6klL483NzTJ37lxb/k4byLPOPvcI4ACAuqTBebpyeXTRlqRldR3D1kCeJhgTwAEAyEiz8SBTv2kDeTRTn4kfH08SyPV95SifKwI4AKDhadzWQO7HypMEcg3IGsh1fHymiW7lnAhHAAcAwNHA7ZdUTboWuh8f1/J6sfHxcpXPFQEcAIAYHRPXIJ70S000cOsEN52xrgE9GsjLNfvcI4ADAFCEltU1iGtWnqSsroFbS+qakftAXs7grQjgAABMQwO3jov78fEkNOvWQK5j5ElWXisFARwAgBJEx8eT3j+u2Xc5J7CpFGuhX5WRbS/L3rPuZQHde47Ii23uBYC6lW4t9Ak52PmGDLtXUU/1HZC/rFvgXk11/dirsv7kGjm6r0Na3D6gGF2sRbckpe8kdEKaZtXlLo0XUmgt9OxfZjI+JO27RAZHe2WF2wWgMWQJ4JKio08AR1I6Ga0SX0bi6di2BvLpZp6XA19mAgBoKFq29l9GoplyuYOsHx/Xsrpm+9VUkQA+MbhR2gfHZGSbeex8VUauBD3n9m1jct29JyjFb5SD4+6l0my+Uz+T+xyARhO0DWFbkNdu5LPtSthmmG1wwh1Rmunnju08dtXtRyPSLNnfo13usWjlM/0066unVbkMfGRILvQckZOjr0vX427fdMJSvH7GbHuWyN5egjjQWNwcm9/sDtqB0d3SfXZI+gsF3ytj0n9oSa7NGD0g288NuzYjV6b3P2fxoZcJ4rC3dOk92pUM5HrbWZqJbklVLoB37U4wvmUu2sNj8lRfV24cva1Lti//Uj79Hy44oB4N74pkzrq57PkP/2YC7ibfEqyQf+0SOXNx0r2O+MclOSPn5e9hJ3+BdO0LEobrx4ZleHmvdIdt0Arp7lsmZ07+X9FsHo2l2GIr5aKLv2ggT7oQTBKVC+CJTMqFs+YiNT3k3AU9/Ux3ALVN71YJsmO32aC9QFq0YhcZTts0Yt8+VVuvq9T5NiNXJr988UsRk7mvd/t1W3/I7ANiooutVIJfCCb+labl8IAE8PnSurzABW226W4pAVBv3Lj1f/1z2AYMmgy8oCtjMiImiIftRVAm13k1Cxcts1XA3DG3MXsdBfjFVpJ8q1gSGrh1gpuW1ZMuBOMV+qKUqgXwlkVLTI/4klx2r68fG4hk2Aukq6dDhncNmcvXMRfnzkiPGkADuHJJvpZlsn2DL6FPyCcFM/CrMvLmkOzdFZkn4z7b+ivT3qzrlu6RNyKTZN3EuGkmxAE6Sz2Ysf5IRe7t1vFxXQgmzYpu0Ul4vuRfvQy8rdf0pMdkkytn9Uu3bDdZd8iWwyQ83t47JItNRk4GDjSQxztkR59EyuJ/ldY+k03nBWOl491H5Gj0vbbN8JNmV8iLJiOXcJzdTYwjA0cJZs8OvlWsUNZbDtFAnmSimwZuHbsPA3nmhVwANKx0C7kA1aGl66wT1Hz5WzPmco9he34hmKSdhepl4AAAVJFOHMs6C1w7ABpcNevV7LcSM9Y1C79162biiW4EcABA3QqC4y27ZQnkmh37QF6ZiW7B2u1aVi81kBPAAQB1z9+XnfV2Lg3kOtFNA3klxsd9yb6U8XECOACgIUSDY9rbuTydpa4LwehEt0qU1fVctcMx3YpuTfp7s/RGAACoJRrz0t7OFeeXZq3U+Hh0Rbd4IG9qbp5teiSVXa8VAIAHjb+dK+u65X6im1+atRL0/PRco0MATXPnzpEbN27bFwAANBqf5WqA1KCelgZyLalrIK/UV5dGV3Rr+sUv5ponP8nk5HfuLQAANB4NihocNcvNQie3+cVWKjHRzVcO7E/+5S//yfZArl37zpx45W5WBwDgQeazXB0f18csKv3VpbNu3/4+jNbffaf3yt0xvZAfzT/C7QQAoAZpAL57N1sQnjWryU5QK8e935rh63bvXvoyfVReAAcAoJ7o5C8N5FkWcVE6pl2OtdF9hh8E8mzhlwAOAKh7PmhmnaSmgbwcJXHtUOg5ZZr9TgAHADSCcmW/Gsh1fLsc935rINfz0UCe9JwI4ACAhqJZuAbNcgRyDeK6ZZWm1E8ABwA0pHKUsZWW07WsXo6JbnouehtbKaV+AjgAoKFpJp71S040G/eBXMfJs9Dz0HPSzsV050QABwA0PA2UPvvNEsiVZuJaVi9HIJ9uzJ4ADgCoSxr0kk4y08+Ukv3OpJwT3fQ8tGMRn+hGAAcA1CVdblRpEE1625cGSv28jpNnDeT6+zWYZw3kOi6ugdyfEwEcAFCXNABrNp0lG9Zg6YNmFtqB0HMoZyAngAMA6pIP4J4GUZ8NJ6Ul9axldVXOGesEcABAXYoHcM+vppZmkplmvsUmlSWhATzbim4i/w/vJRGs0i4DYwAAAABJRU5ErkJggg==)"
      ],
      "metadata": {
        "id": "0El7CsGJO6ln"
      }
    },
    {
      "cell_type": "code",
      "source": [
        "import numpy as np\n",
        "a = np.array([2, 5, 7])\n",
        "binary_repr = np.vectorize(np.binary_repr)(a)\n",
        "print(binary_repr)\n",
        "binary_repr = np.vectorize(np.binary_repr)(~a)\n",
        "print(\"Apply bitwise complement (~) to the array :\",binary_repr)\n",
        "print( np.bitwise_not(a))"
      ],
      "metadata": {
        "colab": {
          "base_uri": "https://localhost:8080/"
        },
        "id": "q07ZtI_wO1Cn",
        "outputId": "5689afe7-134c-45f3-ed8a-e25f6f5be087"
      },
      "execution_count": 16,
      "outputs": [
        {
          "output_type": "stream",
          "name": "stdout",
          "text": [
            "['10' '101' '111']\n",
            "Apply bitwise complement (~) to the array : ['-11' '-110' '-1000']\n",
            "[-3 -6 -8]\n"
          ]
        }
      ]
    }
  ]
}