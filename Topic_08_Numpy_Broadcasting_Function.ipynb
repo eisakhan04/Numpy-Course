{
  "nbformat": 4,
  "nbformat_minor": 0,
  "metadata": {
    "colab": {
      "provenance": [],
      "include_colab_link": true
    },
    "kernelspec": {
      "name": "python3",
      "display_name": "Python 3"
    },
    "language_info": {
      "name": "python"
    }
  },
  "cells": [
    {
      "cell_type": "markdown",
      "metadata": {
        "id": "view-in-github",
        "colab_type": "text"
      },
      "source": [
        "<a href=\"https://colab.research.google.com/github/eisakhan04/Numpy-Course/blob/main/Topic_08_Numpy_Broadcasting_Function.ipynb\" target=\"_parent\"><img src=\"https://colab.research.google.com/assets/colab-badge.svg\" alt=\"Open In Colab\"/></a>"
      ]
    },
    {
      "cell_type": "markdown",
      "source": [
        "#**Topic 08: Numpy Broadcasting Function**"
      ],
      "metadata": {
        "id": "DLHi7jLNjgpJ"
      }
    },
    {
      "cell_type": "markdown",
      "source": [
        "# **NumPy Broadcasting**\n",
        "In Mathematical operations, we may need to consider the arrays of different shapes. NumPy can perform such operations where the array of different shapes are involved.\n",
        "\n",
        "For example, if we consider the matrix multiplication operation, if the shape of the two matrices is the same then this operation will be easily performed. However, we may also need to operate if the shape is not similar."
      ],
      "metadata": {
        "id": "hqXz0pnSmNeZ"
      }
    },
    {
      "cell_type": "markdown",
      "source": [
        "# **Broadcasting Rules**\n",
        "Broadcasting is possible if the following cases are satisfied.\n",
        "\n",
        "1. The smaller dimension array can be appended with '1' in its shape.\n",
        "2. Size of each output dimension is the maximum of the input sizes in the dimension.\n",
        "3. An input can be used in the calculation if its size in a particular dimension matches the output size or its value is exactly 1.\n",
        "4. If the input size is 1, then the first data entry is used for the calculation along the dimension.\n",
        "\n",
        "**Broadcasting can be applied to the arrays if the following rules are satisfied.**\n",
        "\n",
        "1. All the input arrays have the same shape.\n",
        "2. Arrays have the same number of dimensions, and the length of each dimension is either a common length or 1.\n",
        "3. Array with the fewer dimension can be appended with '1' in its shape."
      ],
      "metadata": {
        "id": "NjAgxElZmuvf"
      }
    },
    {
      "cell_type": "markdown",
      "source": [
        "**add() Function in numpy by Broadcasting with array**"
      ],
      "metadata": {
        "id": "qq4MZVADyblS"
      }
    },
    {
      "cell_type": "code",
      "source": [
        "import numpy as np\n",
        "\n",
        "a = np.array([1,2,3])\n",
        "print(\"original array of a\")\n",
        "print(a)\n",
        "\n",
        "b = np.array([[1,2,3],[4,5,6]])\n",
        "print(\"original array of b\")\n",
        "print(b)\n",
        "\n",
        "print(\"Adding two array\")\n",
        "c = np.add(a,b)\n",
        "print(c)"
      ],
      "metadata": {
        "id": "QMH-1sUGj91E"
      },
      "execution_count": null,
      "outputs": []
    },
    {
      "cell_type": "markdown",
      "source": [
        "**Explanation:**\n",
        "\n",
        "**Import NumPy Library:**\n",
        "The program starts by importing the NumPy library and assigning it the alias \"np.\" NumPy is a powerful library for numerical computations in Python and provides support for various mathematical operations on arrays.\n",
        "\n",
        "**Define the First Array 'a':**\n",
        "The program creates a NumPy array named 'a' with the elements [1, 2, 3]. This array is a one-dimensional array.\n",
        "\n",
        "**Print the Original Array 'a':**\n",
        "The program then prints the original array 'a' using the 'print' function to display its contents.\n",
        "\n",
        "**Define the Second Array 'b':**\n",
        "The program creates a NumPy array named 'b' with the elements [[1, 2, 3], [4, 5, 6]]. This array is a two-dimensional array with two rows and three columns.\n",
        "\n",
        "**Print the Original Array 'b':**\n",
        "The program then prints the original array 'b' using the 'print' function to display its contents.\n",
        "\n",
        "**Adding Two Arrays 'a' and 'b':**\n",
        "The program uses the NumPy function 'np.add()' to add the elements of arrays 'a' and 'b' element-wise. Since 'a' is a one-dimensional array and 'b' is a two-dimensional array, broadcasting is performed to match the dimensions. The result is stored in a new array 'c'.\n",
        "\n",
        "**Print the Resultant Array 'c':**\n",
        "The program prints the array 'c', which contains the result of adding the arrays 'a' and 'b'. The output will be a two-dimensional array, where each element is the sum of the corresponding elements from 'a' and 'b'."
      ],
      "metadata": {
        "id": "1QHYdj4tykkK"
      }
    },
    {
      "cell_type": "markdown",
      "source": [
        "# **Addition**"
      ],
      "metadata": {
        "id": "GWb1WfmT1W5m"
      }
    },
    {
      "cell_type": "code",
      "source": [
        "import numpy as np\n",
        "a = np.array([[1,2,3],[6,7,8]])\n",
        "print(\"original array of a\")\n",
        "print(a)\n",
        "b = np.array([[1,2,3],[4,5,6]])\n",
        "print(\"original array of b\")\n",
        "print(b)\n",
        "print(\"Adding two array\")\n",
        "c = np.add(a,b)\n",
        "print(c)"
      ],
      "metadata": {
        "colab": {
          "base_uri": "https://localhost:8080/"
        },
        "id": "IKIXWJxilp9g",
        "outputId": "0968c46e-a75d-47d4-cd5b-7815a9b4bb5e"
      },
      "execution_count": null,
      "outputs": [
        {
          "output_type": "stream",
          "name": "stdout",
          "text": [
            "original array of a\n",
            "[[1 2 3]\n",
            " [6 7 8]]\n",
            "original array of b\n",
            "[[1 2 3]\n",
            " [4 5 6]]\n",
            "Adding two array\n",
            "[[ 2  4  6]\n",
            " [10 12 14]]\n"
          ]
        }
      ]
    },
    {
      "cell_type": "markdown",
      "source": [
        "# **Multiplication**\n",
        "**multiply() Function in numpy by Broadcasting with array**"
      ],
      "metadata": {
        "id": "vqLlSP201SlE"
      }
    },
    {
      "cell_type": "code",
      "source": [
        "import numpy as np\n",
        "a = np.array([[1,2,3],[6,7,8]])\n",
        "print(\"original array of a\")\n",
        "print(a)\n",
        "b = np.array([[1,2,3],[4,5,6]])\n",
        "print(\"original array of b\")\n",
        "print(b)\n",
        "print(\"multiply two array\")\n",
        "c = np.multiply(a,b)\n",
        "print(c)"
      ],
      "metadata": {
        "id": "U5P7Z3YCmGAN"
      },
      "execution_count": null,
      "outputs": []
    },
    {
      "cell_type": "markdown",
      "source": [
        "# **Explanation:**\n",
        "\n",
        "**Import NumPy Library:**\n",
        "The program starts by importing the NumPy library and assigning it the alias \"np.\" NumPy is a powerful library for numerical computations in Python and provides support for various mathematical operations on arrays.\n",
        "\n",
        "**Define the First Array 'a':**\n",
        "The program creates a NumPy two-dimensional array named 'a' with the elements [[1, 2, 3], [6, 7, 8]].\n",
        "\n",
        "**Print the Original Array 'a':**\n",
        "The program then prints the original array 'a' using the 'print' function to display its contents.\n",
        "\n",
        "**Define the Second Array 'b':**\n",
        "The program creates another NumPy two-dimensional array named 'b' with the elements [[1, 2, 3], [4, 5, 6]].\n",
        "\n",
        "**Print the Original Array 'b':**\n",
        "The program then prints the original array 'b' using the 'print' function to display its contents.\n",
        "\n",
        "**Multiply Two Arrays 'a' and 'b' Element-wise:**\n",
        "The program uses the NumPy function 'np.multiply()' to perform element-wise multiplication of the two arrays 'a' and 'b'. Element-wise multiplication means that each element of 'a' will be multiplied with the corresponding element of 'b'. The result is stored in a new array 'c'.\n",
        "\n",
        "**Print the Resultant Array 'c':**\n",
        "The program prints the array 'c', which contains the result of element-wise multiplication of arrays 'a' and 'b'. The output will be a two-dimensional array with each element being the product of the corresponding elements from 'a' and 'b'."
      ],
      "metadata": {
        "id": "LCfSSL4HzTmF"
      }
    },
    {
      "cell_type": "markdown",
      "source": [
        "# **Subtract**\n",
        "**subtract() Function in numpy by Broadcasting with array**"
      ],
      "metadata": {
        "id": "gtIxVYTd1PHA"
      }
    },
    {
      "cell_type": "code",
      "source": [
        "import numpy as np\n",
        "\n",
        "a = np.array([[1,2,3],[6,7,8]])\n",
        "print(\"original array of a\")\n",
        "print(a)\n",
        "b = np.array([[4,6,8],[4,5,6]])\n",
        "print(\"original array of b\")\n",
        "print(b)\n",
        "print(\"Subtraction two array\")\n",
        "c = np.subtract(a,b)\n",
        "print(c)"
      ],
      "metadata": {
        "id": "_k4qXvziqrfq"
      },
      "execution_count": null,
      "outputs": []
    },
    {
      "cell_type": "markdown",
      "source": [
        "# **Explanation:**\n",
        "\n",
        "**Import NumPy Library:**\n",
        "The program starts by importing the NumPy library and assigning it the alias \"np.\" NumPy is a powerful library for numerical computations in Python and provides support for various mathematical operations on arrays.\n",
        "\n",
        "**Define the First Array 'a':**\n",
        "The program creates a NumPy two-dimensional array named 'a' with the elements [[1, 2, 3], [6, 7, 8]].\n",
        "\n",
        "**Print the Original Array 'a':**\n",
        "The program then prints the original array 'a' using the 'print' function to display its contents.\n",
        "\n",
        "**Define the Second Array 'b':**\n",
        "The program creates another NumPy two-dimensional array named 'b' with the elements [[4, 6, 8], [4, 5, 6]].\n",
        "\n",
        "**Print the Original Array 'b':**\n",
        "The program then prints the original array 'b' using the 'print' function to display its contents.\n",
        "\n",
        "**Subtract Two Arrays 'a' and 'b' Element-wise:**\n",
        "The program uses the NumPy function 'np.subtract()' to perform element-wise subtraction of the two arrays 'a' and 'b'. Element-wise subtraction means that each element of 'a' will be subtracted by the corresponding element of 'b'. The result is stored in a new array 'c'.\n",
        "\n",
        "**Print the Resultant Array 'c':**\n",
        "The program prints the array 'c', which contains the result of element-wise subtraction of arrays 'a' and 'b'. The output will be a two-dimensional array with each element being the difference of the corresponding elements from 'a' and 'b'."
      ],
      "metadata": {
        "id": "Ick9fvoE0DPy"
      }
    },
    {
      "cell_type": "markdown",
      "source": [
        "**Divide() function**"
      ],
      "metadata": {
        "id": "peK1Wv5bnq7J"
      }
    },
    {
      "cell_type": "code",
      "source": [
        "import numpy as np\n",
        "\n",
        "a = np.array([[1,2,3],[6,7,8]])\n",
        "print(\"original array of a\")\n",
        "print(a)\n",
        "b = np.array([[4,6,8],[4,5,6]])\n",
        "print(\"original array of b\")\n",
        "print(b)\n",
        "print(\"Subtraction two array\")\n",
        "c = np.divide(a,b)\n",
        "print(c)"
      ],
      "metadata": {
        "id": "Tctjs6AgnpdO"
      },
      "execution_count": null,
      "outputs": []
    },
    {
      "cell_type": "markdown",
      "source": [
        "# **Explanation:**\n",
        "\n",
        "**Import NumPy Library:**\n",
        "The program starts by importing the NumPy library and assigning it the alias \"np.\" NumPy is a powerful library for numerical computations in Python and provides support for various mathematical operations on arrays.\n",
        "\n",
        "**Define the First Array 'a':**\n",
        "The program creates a NumPy two-dimensional array named 'a' with the elements [[1, 2, 3], [6, 7, 8]].\n",
        "\n",
        "**Print the Original Array 'a':**\n",
        "The program then prints the original array 'a' using the 'print' function to display its contents.\n",
        "\n",
        "**Define the Second Array 'b':**\n",
        "The program creates another NumPy two-dimensional array named 'b' with the elements [[4, 6, 8], [4, 5, 6]].\n",
        "\n",
        "**Print the Original Array 'b':**\n",
        "The program then prints the original array 'b' using the 'print' function to display its contents.\n",
        "\n",
        "**Divide Two Arrays 'a' and 'b' Element-wise:**\n",
        "The program uses the NumPy function 'np.divide()' to perform element-wise division of the two arrays 'a' and 'b'. Element-wise division means that each element of 'a' will be divided by the corresponding element of 'b'. The result is stored in a new array 'c'.\n",
        "\n",
        "**Print the Resultant Array 'c':**\n",
        "The program prints the array 'c', which contains the result of element-wise division of arrays 'a' and 'b'. The output will be a two-dimensional array with each element being the quotient of the corresponding elements from 'a' and 'b'."
      ],
      "metadata": {
        "id": "pgavyoCl0s3z"
      }
    },
    {
      "cell_type": "markdown",
      "source": [
        "# **Maximum**\n",
        "**maximum() Function in numpy by Broadcasting with array**"
      ],
      "metadata": {
        "id": "GHwHOQgz1KfV"
      }
    },
    {
      "cell_type": "code",
      "source": [
        "import numpy as np\n",
        "a = np.array([[1,2,3],[6,7,8]])\n",
        "print(\"original array of a\")\n",
        "print(a)\n",
        "b = np.array([[1,2,3],[4,5,9]])\n",
        "print(\"original array of b\")\n",
        "print(b)\n",
        "print(\"Maximum two array\")\n",
        "c = np.maximum(a,b)\n",
        "print(c)"
      ],
      "metadata": {
        "id": "ckzjh4I2mhbz"
      },
      "execution_count": null,
      "outputs": []
    },
    {
      "cell_type": "markdown",
      "source": [
        "# **Explanation:**\n",
        "\n",
        "**Import NumPy Library:**\n",
        "The program starts by importing the NumPy library and assigning it the alias \"np.\" NumPy is a powerful library for numerical computations in Python and provides support for various mathematical operations on arrays.\n",
        "\n",
        "**Define the First Array 'a':**\n",
        "The program creates a NumPy two-dimensional array named 'a' with the elements [[1, 2, 3], [6, 7, 8]].\n",
        "\n",
        "**Print the Original Array 'a':**\n",
        "The program then prints the original array 'a' using the 'print' function to display its contents.\n",
        "\n",
        "**Define the Second Array 'b':**\n",
        "The program creates another NumPy two-dimensional array named 'b' with the elements [[1, 2, 3], [4, 5, 9]].\n",
        "\n",
        "**Print the Original Array 'b':**\n",
        "The program then prints the original array 'b' using the 'print' function to display its contents.\n",
        "\n",
        "**Find the Element-Wise Maximum of Two Arrays 'a' and 'b':**\n",
        "The program uses the NumPy function 'np.maximum()' to find the element-wise maximum of the two arrays 'a' and 'b'. Element-wise maximum means that for each corresponding element in 'a' and 'b', the greater of the two elements will be taken. The result is stored in a new array 'c'.\n",
        "\n",
        "**Print the Resultant Array 'c':**\n",
        "The program prints the array 'c', which contains the element-wise maximum of the arrays 'a' and 'b'. The output will be a two-dimensional array with each element being the maximum of the corresponding elements from 'a' and 'b'."
      ],
      "metadata": {
        "id": "7WYdgXaX1ObY"
      }
    },
    {
      "cell_type": "markdown",
      "source": [
        "# **Minimum**\n",
        "**minimum() Function in numpy by Broadcasting with array**"
      ],
      "metadata": {
        "id": "-diXLwJa1HZH"
      }
    },
    {
      "cell_type": "code",
      "source": [
        "import numpy as np\n",
        "a = np.array([[1,4,5],[6,7,8]])\n",
        "print(\"original array of a\")\n",
        "print(a)\n",
        "b = np.array([[1,2,6],[4,5,9]])\n",
        "print(\"original array of b\")\n",
        "print(b)\n",
        "print(\"Minimum two array\")\n",
        "c = np.minimum(a,b)\n",
        "print(c)"
      ],
      "metadata": {
        "colab": {
          "base_uri": "https://localhost:8080/"
        },
        "id": "nA7rWGSGnAYB",
        "outputId": "3c125f74-3fc3-4b29-addf-e403d8d0fd02"
      },
      "execution_count": null,
      "outputs": [
        {
          "output_type": "stream",
          "name": "stdout",
          "text": [
            "original array of a\n",
            "[[1 4 5]\n",
            " [6 7 8]]\n",
            "original array of b\n",
            "[[1 2 6]\n",
            " [4 5 9]]\n",
            "Minimum two array\n",
            "[[1 2 5]\n",
            " [4 5 8]]\n"
          ]
        }
      ]
    },
    {
      "cell_type": "markdown",
      "source": [
        "# **Explanation:**\n",
        "\n",
        "**Import NumPy Library:**\n",
        "The program starts by importing the NumPy library and assigning it the alias \"np.\" NumPy is a powerful library for numerical computations in Python and provides support for various mathematical operations on arrays.\n",
        "\n",
        "**Define the First Array 'a':**\n",
        "The program creates a NumPy two-dimensional array named 'a' with the elements [[1, 4, 5], [6, 7, 8]].\n",
        "\n",
        "**Print the Original Array 'a':**\n",
        "The program then prints the original array 'a' using the 'print' function to display its contents.\n",
        "\n",
        "**Define the Second Array 'b':**\n",
        "The program creates another NumPy two-dimensional array named 'b' with the elements [[1, 2, 6], [4, 5, 9]].\n",
        "\n",
        "**Print the Original Array 'b':**\n",
        "The program then prints the original array 'b' using the 'print' function to display its contents.\n",
        "\n",
        "**Find the Element-Wise Minimum of Two Arrays 'a' and 'b':**\n",
        "The program uses the NumPy function 'np.minimum()' to find the element-wise minimum of the two arrays 'a' and 'b'. Element-wise minimum means that for each corresponding element in 'a' and 'b', the smaller of the two elements will be taken. The result is stored in a new array 'c'.\n",
        "\n",
        "**Print the Resultant Array 'c':**\n",
        "The program prints the array 'c', which contains the element-wise minimum of the arrays 'a' and 'b'. The output will be a two-dimensional array with each element being the minimum of the corresponding elements from 'a' and 'b'."
      ],
      "metadata": {
        "id": "IVCC3cis13G4"
      }
    }
  ]
}