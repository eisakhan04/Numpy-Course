{
  "nbformat": 4,
  "nbformat_minor": 0,
  "metadata": {
    "colab": {
      "provenance": [],
      "authorship_tag": "ABX9TyMaAnITPLwoRyjXzjm7rsq9",
      "include_colab_link": true
    },
    "kernelspec": {
      "name": "python3",
      "display_name": "Python 3"
    },
    "language_info": {
      "name": "python"
    }
  },
  "cells": [
    {
      "cell_type": "markdown",
      "metadata": {
        "id": "view-in-github",
        "colab_type": "text"
      },
      "source": [
        "<a href=\"https://colab.research.google.com/github/eisakhan04/Numpy-Course/blob/main/Topic_07_Hyperbolaic_Function.ipynb\" target=\"_parent\"><img src=\"https://colab.research.google.com/assets/colab-badge.svg\" alt=\"Open In Colab\"/></a>"
      ]
    },
    {
      "cell_type": "markdown",
      "source": [
        "**Topic 07: Hyperbolaic Function**\n",
        " 1. sinh(x)\n",
        " 2. cosh(x)\n",
        " 3. tanh(x)\n",
        " 4. arcsinh(x)\n",
        " 5. arccosh(x)\n",
        " 6. arctanh(x)"
      ],
      "metadata": {
        "id": "2y_elM_CIIqm"
      }
    },
    {
      "cell_type": "markdown",
      "source": [
        "NumPy is a popular library in Python used for scientific computing, particularly in the fields of data analysis and machine learning. One of the many features of NumPy is its implementation of hyperbolic functions.\n",
        "\n",
        "Hyperbolic functions are a set of six functions that are analogous to the trigonometric functions. Just as the sine, cosine, and tangent functions are used to describe the relationships between angles and sides of triangles, the hyperbolic functions are used to describe the relationships between the sides of a hyperbola.\n",
        "\n",
        "The six hyperbolic functions that are available in NumPy are:\n",
        "\n",
        "* numpy.sinh(x): Returns the hyperbolic sine of x.\n",
        "* numpy.cosh(x): Returns the hyperbolic cosine of x.\n",
        "* numpy.tanh(x): Returns the hyperbolic tangent of x.\n",
        "* numpy.arcsinh(x): Returns the inverse hyperbolic sine of x.\n",
        "* numpy.arccosh(x): Returns the inverse hyperbolic cosine of x.\n",
        "* numpy.arctanh(x): Returns the inverse hyperbolic tangent of x.\n",
        "These functions can be useful in a variety of applications, such as in statistics, physics, and engineering. For example, the hyperbolic functions are used to describe the shape of a catenary curve, which is the curve formed by a hanging chain or cable. They can also be used to model various physical phenomena, such as the behavior of electrical circuits and the motion of particles in a magnetic field.\n",
        "\n",
        "In summary, NumPy provides a set of hyperbolic functions that can be used for a variety of applications in scientific computing. These functions are analogous to the trigonometric functions and can be used to describe relationships between the sides of a hyperbola."
      ],
      "metadata": {
        "id": "Zp4sgQZoSYl6"
      }
    },
    {
      "cell_type": "markdown",
      "source": [
        "# **Hyperbolic Function use in Formulas given this**\n",
        "1. sinh(x) => sinh(x) = (e^x - e^(-x))/2\n",
        "2. cosh(x) => cosh(x) = (e^x + e^(-x))/2\n",
        "3. tanh(x) => tanh(x) = (e^x - e^-x)/(e^x + e^-x)\n",
        "4. arctanh(x)=>arctanh(x) = 0.5 * ln((1+x)/(1-x))\n",
        "5. arcsinh(x)=>arcsinh(x) = ln(x + sqrt(x^2 - 1))\n",
        "6. arccosh(x)=>arccosh(x)=ln(x + sqrt(x^2 + 1))\n",
        "in this formula arc means **inverse**\n"
      ],
      "metadata": {
        "id": "_bJu6MStTgDA"
      }
    },
    {
      "cell_type": "markdown",
      "source": [
        "**Sinh(x) and arcSinh(x) Function**"
      ],
      "metadata": {
        "id": "opGo6eOFJHFF"
      }
    },
    {
      "cell_type": "markdown",
      "source": [
        "This Python program uses the NumPy library to perform hyperbolic sine (sinh) and inverse hyperbolic sine (arcsinh) calculations on a given array. Here's the complete explanation of the program:\n",
        "\n",
        "Import NumPy Library:\n",
        "The program starts by importing the NumPy library and assigning it the alias \"np.\" NumPy is a powerful library for numerical computations in Python, and it provides support for various mathematical operations on arrays."
      ],
      "metadata": {
        "id": "i79cmd5sdMx8"
      }
    },
    {
      "cell_type": "code",
      "source": [
        "import numpy as np\n",
        "a = np.array([2,3,4])\n",
        "b = np.sinh(a)\n",
        "print(\"Sinh Values\")\n",
        "print(b)\n",
        "print()\n",
        "c = np.arcsinh(a)\n",
        "print(c)\n"
      ],
      "metadata": {
        "id": "DS-bUgy9JamV"
      },
      "execution_count": null,
      "outputs": []
    },
    {
      "cell_type": "markdown",
      "source": [
        "**Complete Explanation:**\n",
        "\n",
        "Calculate Hyperbolic Sine (sinh) Values:\n",
        "The program then uses the NumPy function 'np.sinh()' to calculate the hyperbolic sine of each element in the array 'a'. The result is stored in a new array 'b'. The hyperbolic sine of a number 'x' is defined as (e^x - e^(-x)) / 2, where 'e' is Euler's number, approximately equal to 2.71828.\n",
        "\n",
        "\n",
        "> Calculate Inverse Hyperbolic Sine (arcsinh) Values:\n",
        "Next, the program uses the NumPy function 'np.arcsinh()' to calculate the inverse hyperbolic sine of each element in the array 'a'. The result is stored in a new array 'c'. The inverse hyperbolic sine of a number 'x' is defined as ln(x + sqrt(x^2 + 1)), where 'ln' is the natural logarithm and 'sqrt' is the square root.\n",
        "\n"
      ],
      "metadata": {
        "id": "EVy7kO8NdVic"
      }
    },
    {
      "cell_type": "markdown",
      "source": [
        "# **sinh(x) and arcsinh(x) Function**"
      ],
      "metadata": {
        "id": "jJ43rIaJNSwd"
      }
    },
    {
      "cell_type": "code",
      "source": [
        "import numpy as np\n",
        "a = np.array([5,6,7,8,9])\n",
        "sinh=np.sinh(a)\n",
        "print(sinh)\n",
        "inverse=np.arcsinh(a)\n",
        "print(inverse)"
      ],
      "metadata": {
        "colab": {
          "base_uri": "https://localhost:8080/"
        },
        "id": "m3yXM1IJNXFo",
        "outputId": "290e4025-a1fa-40da-a363-0d360da86763"
      },
      "execution_count": null,
      "outputs": [
        {
          "output_type": "stream",
          "name": "stdout",
          "text": [
            "[  74.20321058  201.71315737  548.31612327 1490.47882579 4051.54190208]\n",
            "[2.31243834 2.49177985 2.64412076 2.77647228 2.89344399]\n"
          ]
        }
      ]
    },
    {
      "cell_type": "markdown",
      "source": [
        "**Explanation:**\n",
        "\n",
        "**Import NumPy Library:**\n",
        "The program starts by importing the NumPy library and assigning it the alias \"np.\" NumPy is a powerful library for numerical computations in Python, and it provides support for various mathematical operations on arrays.\n",
        "\n",
        "Define the Input Array:\n",
        "The program creates a NumPy array named 'a' with the elements [5, 6, 7, 8, 9]. This array will be used for the sinh and arcsinh calculations.\n",
        "\n",
        "Calculate Hyperbolic Sine (sinh) Values:\n",
        "The program uses the NumPy function 'np.sinh()' to calculate the hyperbolic sine of each element in the array 'a'. The result is stored in a new array 'sinh'. The hyperbolic sine of a number 'x' is defined as (e^x - e^(-x)) / 2, where 'e' is Euler's number, approximately equal to 2.71828.\n",
        "\n",
        "Print the Sinh Values:\n",
        "The program prints the array 'sinh', which contains the hyperbolic sine values of the elements in array 'a'.\n",
        "\n",
        "Calculate Inverse Hyperbolic Sine (arcsinh) Values:\n",
        "Next, the program uses the NumPy function 'np.arcsinh()' to calculate the inverse hyperbolic sine of each element in the array 'a'. The result is stored in a new array 'inverse'. The inverse hyperbolic sine of a number 'x' is defined as ln(x + sqrt(x^2 + 1)), where 'ln' is the natural logarithm and 'sqrt' is the square root.\n",
        "\n",
        "Print the Arcsinh Values:\n",
        "The program prints the array 'inverse', which contains the inverse hyperbolic sine values of the elements in array 'a'.\n",
        "\n"
      ],
      "metadata": {
        "id": "oQye61mreEkb"
      }
    },
    {
      "cell_type": "markdown",
      "source": [
        "# **cosh(x) and arccosh(x) Function**"
      ],
      "metadata": {
        "id": "IG12ykKlSKdc"
      }
    },
    {
      "cell_type": "code",
      "source": [
        "a= np.array([2,3,1,4])\n",
        "cosh=np.cosh(a)\n",
        "print(cosh)\n",
        "b=np.arccosh(a)\n",
        "print(b)"
      ],
      "metadata": {
        "colab": {
          "base_uri": "https://localhost:8080/"
        },
        "id": "EiY9BCDvSOuD",
        "outputId": "c90980d4-22f9-4c3a-ab0c-6721392a4ad1"
      },
      "execution_count": null,
      "outputs": [
        {
          "output_type": "stream",
          "name": "stdout",
          "text": [
            "[ 3.76219569 10.067662    1.54308063 27.30823284]\n",
            "[1.3169579  1.76274717 0.         2.06343707]\n"
          ]
        }
      ]
    },
    {
      "cell_type": "markdown",
      "source": [
        "**Explanation**:\n",
        "\n",
        "**Import NumPy Library:**\n",
        "The program starts by importing the NumPy library and assigning it the alias \"np.\" NumPy is a powerful library for numerical computations in Python and provides support for various mathematical operations on arrays.\n",
        "\n",
        "Define the Input Array:\n",
        "The program creates a NumPy array named 'a' with the elements [2, 3, 1, 4]. This array will be used for the cosh and arccosh calculations.\n",
        "\n",
        "Calculate Hyperbolic Cosine (cosh) Values:\n",
        "The program uses the NumPy function 'np.cosh()' to calculate the hyperbolic cosine of each element in the array 'a'. The result is stored in a new array 'cosh'. The hyperbolic cosine of a number 'x' is defined as (e^x + e^(-x)) / 2, where 'e' is Euler's number, approximately equal to 2.71828.\n",
        "\n",
        "Print the Cosh Values:\n",
        "The program prints the array 'cosh', which contains the hyperbolic cosine values of the elements in array 'a'.\n",
        "\n",
        "Calculate Inverse Hyperbolic Cosine (arccosh) Values:\n",
        "Next, the program uses the NumPy function 'np.arccosh()' to calculate the inverse hyperbolic cosine of each element in the array 'a'. The result is stored in a new array 'b'. The inverse hyperbolic cosine of a number 'x' is defined as ln(x + sqrt(x^2 - 1)), where 'ln' is the natural logarithm and 'sqrt' is the square root.\n",
        "\n",
        "Print the Arccosh Values:\n",
        "The program prints the array 'b', which contains the inverse hyperbolic cosine values of the elements in array 'a'."
      ],
      "metadata": {
        "id": "mvZWR-5Ye3FF"
      }
    },
    {
      "cell_type": "markdown",
      "source": [
        "# **tanh(x) and arctanh(x) Function**"
      ],
      "metadata": {
        "id": "7RBMvl4GWbto"
      }
    },
    {
      "cell_type": "code",
      "source": [
        "q=np.array([1,2,3,4])\n",
        "a=np.tanh(q)\n",
        "print(a)\n"
      ],
      "metadata": {
        "colab": {
          "base_uri": "https://localhost:8080/"
        },
        "id": "PRzSYy_xWpZz",
        "outputId": "a8f5c9f7-20f6-4f89-f1fb-bc8be70dcf46"
      },
      "execution_count": null,
      "outputs": [
        {
          "output_type": "stream",
          "name": "stdout",
          "text": [
            "[0.76159416 0.96402758 0.99505475 0.9993293 ]\n"
          ]
        }
      ]
    },
    {
      "cell_type": "markdown",
      "source": [
        "**Explanation:**\n",
        "\n",
        "**Import NumPy Library:**\n",
        "The program starts by importing the NumPy library and assigning it the alias \"np.\" NumPy is a powerful library for numerical computations in Python and provides support for various mathematical operations on arrays.\n",
        "\n",
        "Define the Input Array:\n",
        "The program creates a NumPy array named 'q' with the elements [1, 2, 3, 4]. This array will be used for the hyperbolic tangent (tanh) calculation.\n",
        "\n",
        "Calculate Hyperbolic Tangent (tanh) Values:\n",
        "The program uses the NumPy function 'np.tanh()' to calculate the hyperbolic tangent of each element in the array 'q'. The result is stored in a new array 'a'. The hyperbolic tangent of a number 'x' is defined as (e^x - e^(-x)) / (e^x + e^(-x)), where 'e' is Euler's number, approximately equal to 2.71828.\n",
        "\n",
        "Print the Tanh Values:\n",
        "The program prints the array 'a', which contains the hyperbolic tangent values of the elements in array 'q'."
      ],
      "metadata": {
        "id": "3dglE6hEfUzm"
      }
    },
    {
      "cell_type": "markdown",
      "source": [
        "**Invers of tanh(x)**"
      ],
      "metadata": {
        "id": "OMLLcL50YFG6"
      }
    },
    {
      "cell_type": "code",
      "source": [
        "q=np.array([0.1,.2,.3,.4])\n",
        "invrs=np.arctanh(q)\n",
        "print(invrs)"
      ],
      "metadata": {
        "colab": {
          "base_uri": "https://localhost:8080/"
        },
        "id": "heDfKxSqYJXf",
        "outputId": "fd0a263c-0c64-4d95-e818-86bd218764ba"
      },
      "execution_count": null,
      "outputs": [
        {
          "output_type": "stream",
          "name": "stdout",
          "text": [
            "[0.10033535 0.20273255 0.3095196  0.42364893]\n"
          ]
        }
      ]
    },
    {
      "cell_type": "markdown",
      "source": [
        "**Explanation:**\n",
        "\n",
        "**Import NumPy Library:**\n",
        "The program starts by importing the NumPy library and assigning it the alias \"np.\" NumPy is a powerful library for numerical computations in Python and provides support for various mathematical operations on arrays.\n",
        "\n",
        "Define the Input Array:\n",
        "The program creates a NumPy array named 'q' with the elements [0.1, 0.2, 0.3, 0.4]. This array will be used for the inverse hyperbolic tangent (arctanh) calculation.\n",
        "\n",
        "Calculate Inverse Hyperbolic Tangent (arctanh) Values:\n",
        "The program uses the NumPy function 'np.arctanh()' to calculate the inverse hyperbolic tangent of each element in the array 'q'. The result is stored in a new array 'invrs'. The inverse hyperbolic tangent of a number 'x' is defined as (1/2) * ln((1 + x) / (1 - x)), where 'ln' is the natural logarithm.\n",
        "\n",
        "Print the Arctanh Values:\n",
        "The program prints the array 'invrs', which contains the inverse hyperbolic tangent values of the elements in array 'q'."
      ],
      "metadata": {
        "id": "IrcOkumufl8N"
      }
    }
  ]
}