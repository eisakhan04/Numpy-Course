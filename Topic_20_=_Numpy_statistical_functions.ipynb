{
  "nbformat": 4,
  "nbformat_minor": 0,
  "metadata": {
    "colab": {
      "provenance": [],
      "authorship_tag": "ABX9TyPwbVAvIV6QtiVCMQReb1au",
      "include_colab_link": true
    },
    "kernelspec": {
      "name": "python3",
      "display_name": "Python 3"
    },
    "language_info": {
      "name": "python"
    }
  },
  "cells": [
    {
      "cell_type": "markdown",
      "metadata": {
        "id": "view-in-github",
        "colab_type": "text"
      },
      "source": [
        "<a href=\"https://colab.research.google.com/github/eisakhan04/Numpy-Course/blob/main/Topic_20_%3D_Numpy_statistical_functions.ipynb\" target=\"_parent\"><img src=\"https://colab.research.google.com/assets/colab-badge.svg\" alt=\"Open In Colab\"/></a>"
      ]
    },
    {
      "cell_type": "markdown",
      "source": [
        "#**Topic 20 = Numpy statistical functions**\n",
        "\n",
        "NumPy is a widely used Python library for scientific computing that provides a variety of mathematical and statistical functions to perform numerical calculations efficiently. In particular, NumPy's statistical functions are powerful tools for analyzing data and generating descriptive statistics.\n",
        "\n",
        "Here are some of the most commonly used statistical functions in NumPy:\n",
        "\n",
        "1. mean(): Calculates the arithmetic mean of the given data.\n",
        "\n",
        "2. median(): Computes the median value of the given data.\n",
        "\n",
        "3. std(): Calculates the standard deviation of the given data.\n",
        "\n",
        "4. var(): Computes the variance of the given data.\n",
        "\n",
        "5. min(): Returns the smallest value in the data.\n",
        "\n",
        "6. max(): Returns the largest value in the data.\n",
        "\n",
        "7. percentile(): Computes the q-th percentile of the data.\n",
        "\n",
        "8. histogram(): Computes the histogram of the data.\n",
        "\n",
        "9. corrcoef(): Computes the correlation coefficient between two variables.\n",
        "\n",
        "10. ptp() function:The name of the function numpy.ptp() is derived from the name peak-to-peak. It is used to return the range of values along an axis. Consider the following example.\n",
        "\n",
        "11. average() function:\n",
        "The numpy.average() function is used to find the weighted average along the axis of the multi-dimensional arrays where their weights are given in another array.\n",
        "\n",
        "These functions can be applied to one-dimensional or multi-dimensional arrays, and they can also be used to perform calculations on a subset of the data. NumPy's statistical functions are highly efficient and can handle large datasets with ease, making them a popular choice for data analysis and scientific computing tasks.\n",
        "\n",
        "**Type (01): numpy.mean() functio**n\n",
        "\n",
        "The NumPy mean() function is used to calculate the arithmetic mean or average of the given data along a specified axis. The mean value is calculated by summing up all the elements in the array and dividing the total by the number of elements.\n",
        "\n",
        "The syntax for using the mean() function is:\n",
        "\n",
        "numpy.mean(arr, axis=None)\n",
        "\n",
        "where arr is the input array and axis is the axis along which the mean needs to be calculated. If the axis is not specified, the mean is calculated over the entire array."
      ],
      "metadata": {
        "id": "t_cLZXtby6WS"
      }
    },
    {
      "cell_type": "markdown",
      "source": [
        "**Example 01: Calculate the mean of a one-dimensional array:**"
      ],
      "metadata": {
        "id": "mwjispPY1HtO"
      }
    },
    {
      "cell_type": "code",
      "execution_count": null,
      "metadata": {
        "colab": {
          "base_uri": "https://localhost:8080/"
        },
        "id": "stb8uUa_WU_W",
        "outputId": "4b5f8af1-d52e-4c27-885c-4ac0bffa7628"
      },
      "outputs": [
        {
          "output_type": "stream",
          "name": "stdout",
          "text": [
            "3.0\n"
          ]
        }
      ],
      "source": [
        "\n",
        "\n",
        "\n",
        "import numpy as np\n",
        "arr = np.array([1, 2, 3, 4, 5])\n",
        "mean = np.mean(arr)\n",
        "print(mean)"
      ]
    },
    {
      "cell_type": "markdown",
      "source": [
        "**Explanation**\n",
        "\n",
        "In this example, we used the np.mean() function to calculate the mean of an array of numbers. The function takes an array as input and returns the mean value of the array. Here, the mean value of the array [1, 2, 3, 4, 5] is 3.0."
      ],
      "metadata": {
        "id": "1FqJlCWZyMC2"
      }
    },
    {
      "cell_type": "markdown",
      "source": [
        "**Example 02: Calculate the mean of a two-dimensional array along the columns (axis=0):**\n"
      ],
      "metadata": {
        "id": "zFyyLgRVyUVt"
      }
    },
    {
      "cell_type": "code",
      "source": [
        "\n",
        "import numpy as np\n",
        "a = np.array([[1, 2, 3], [4, 5, 6], [7, 8, 9]])\n",
        "print(\"Original Array:\",a)\n",
        "print()\n",
        "b = np.mean(a, axis=0)\n",
        "print(\"mean values:\",b)\n"
      ],
      "metadata": {
        "id": "YPdCRgNjyeYO"
      },
      "execution_count": null,
      "outputs": []
    },
    {
      "cell_type": "markdown",
      "source": [
        "Explanation\n",
        "\n",
        "In this example, we calculated the mean values of an array along a specific axis using the np.mean() function in NumPy. The mean is calculated by summing up the values along the specified axis and dividing by the number of elements along that axis. In this case, we calculated the mean values along axis 0, which means we are calculating the mean values along the columns of the matrix. Therefore, the mean values of the columns are [4, 5, 6].\n",
        "\n"
      ],
      "metadata": {
        "id": "U5gOGQjlye-h"
      }
    },
    {
      "cell_type": "markdown",
      "source": [
        "**Example 03: Calculate the mean of a two-dimensional array along the rows (axis=1):**\n",
        "\n",
        "\n"
      ],
      "metadata": {
        "id": "bMrpsf33y0rr"
      }
    },
    {
      "cell_type": "code",
      "source": [
        "\n",
        "import numpy as np\n",
        "a = np.array([[1, 2, 3], [4, 5, 6], [7, 8, 9]])\n",
        "print(\"Original Array:\",a)\n",
        "print()\n",
        "b = np.mean(a, axis=1)\n",
        "print(\"mean values of the rows:\",b)"
      ],
      "metadata": {
        "colab": {
          "base_uri": "https://localhost:8080/"
        },
        "id": "mVvzeCqezFBg",
        "outputId": "346fc61e-9cce-4bba-9f11-5b5e67482850"
      },
      "execution_count": null,
      "outputs": [
        {
          "output_type": "stream",
          "name": "stdout",
          "text": [
            "Original Array: [[1 2 3]\n",
            " [4 5 6]\n",
            " [7 8 9]]\n",
            "\n",
            "mean values of the rows: [2. 5. 8.]\n"
          ]
        }
      ]
    },
    {
      "cell_type": "markdown",
      "source": [
        "     \n",
        "**Explanation**\n",
        "\n",
        "In this example, we calculated the mean values of an array along a specific axis using the np.mean() function in NumPy. The mean is calculated by summing up the values along the specified axis and dividing by the number of elements along that axis. In this case, we calculated the mean values along axis 1, which means we are calculating the mean values along the rows of the matrix. Therefore, the mean values of the rows are [2, 5, 8]."
      ],
      "metadata": {
        "id": "MUVsYtbVzFkg"
      }
    },
    {
      "cell_type": "markdown",
      "source": [
        "**Example 04:Calculate the weighted mean of an array:**\n",
        "\n",
        "\n"
      ],
      "metadata": {
        "id": "3x2gZ7IlzfQW"
      }
    },
    {
      "cell_type": "code",
      "source": [
        "import numpy as np\n",
        "arr = np.array([1, 2, 3, 4, 5])\n",
        "print(\"original array:\",arr)\n",
        "print()\n",
        "weights = np.array([1, 2, 3, 4, 5])\n",
        "print(\"weight array:\",weights)\n",
        "print()\n",
        "mean = np.average(arr, weights=weights)\n",
        "print(mean)\n"
      ],
      "metadata": {
        "colab": {
          "base_uri": "https://localhost:8080/"
        },
        "id": "yWFXLBZJzfvn",
        "outputId": "5537fe3c-c90b-4428-8298-8411250466ab"
      },
      "execution_count": null,
      "outputs": [
        {
          "output_type": "stream",
          "name": "stdout",
          "text": [
            "original array: [1 2 3 4 5]\n",
            "\n",
            "weight array: [1 2 3 4 5]\n",
            "\n",
            "3.6666666666666665\n"
          ]
        }
      ]
    },
    {
      "cell_type": "code",
      "source": [
        "a= np.array([1,2,3,4,5,6])\n",
        "b=np.average(a)\n",
        "print(b)"
      ],
      "metadata": {
        "colab": {
          "base_uri": "https://localhost:8080/"
        },
        "id": "jQ2-Nmwg01J-",
        "outputId": "1fdf822d-d037-4a68-a293-4df587a14a87"
      },
      "execution_count": null,
      "outputs": [
        {
          "output_type": "stream",
          "name": "stdout",
          "text": [
            "3.5\n"
          ]
        }
      ]
    },
    {
      "cell_type": "markdown",
      "source": [
        "\n",
        "**Explanation**\n",
        "\n",
        "In this example, we calculated the weighted mean value of an array using the np.average() function in NumPy. The weighted mean is calculated by multiplying each element of the original array by its corresponding weight, then taking the sum of these products and dividing it by the sum of the weights. Therefore, the weighted mean value of this array is (1 * 1 + 2 * 2 + 3 * 3 + 4 * 4 + 5 * 5) / (1 + 2 + 3 + 4 + 5), which is equal to 3.6666666666666665."
      ],
      "metadata": {
        "id": "BGt4nfK8zgaD"
      }
    },
    {
      "cell_type": "markdown",
      "source": [
        "**Example 05: Calculate the mean of a complex array:**\n",
        "\n",
        "\n"
      ],
      "metadata": {
        "id": "B8qp3zln0dLl"
      }
    },
    {
      "cell_type": "code",
      "source": [
        "\n",
        "import numpy as np\n",
        "arr = np.array([1+2j, 3+4j, 5+6j])\n",
        "mean = np.mean(arr)\n",
        "print(mean)\n"
      ],
      "metadata": {
        "colab": {
          "base_uri": "https://localhost:8080/"
        },
        "id": "KbPDDlwO0d9_",
        "outputId": "aa1746fe-234a-4fe5-c4d5-f0a8cc4b0237"
      },
      "execution_count": null,
      "outputs": [
        {
          "output_type": "stream",
          "name": "stdout",
          "text": [
            "(3+4j)\n"
          ]
        }
      ]
    },
    {
      "cell_type": "markdown",
      "source": [
        "**Explanation**\n",
        "\n",
        "In this example, we calculated the mean value of an array with complex numbers. The mean() function in NumPy calculates the arithmetic mean of the complex numbers by taking the mean of their real and imaginary parts separately. Therefore, the mean value of this array is (1 + 3 + 5) / 3 + (2 + 4 + 6) / 3 * 1j, which is equal to (3 + 4j)."
      ],
      "metadata": {
        "id": "0va7aAQv0eaD"
      }
    },
    {
      "cell_type": "markdown",
      "source": [
        "**Example 06:Calculate the mean of an array with NaN((Not a Number) values:**\n",
        "\n",
        "\n",
        "\n"
      ],
      "metadata": {
        "id": "18gf1Ae70vYt"
      }
    },
    {
      "cell_type": "code",
      "source": [
        "import numpy as np\n",
        "arr = np.array([1, 2, np.nan, 4, 5])\n",
        "print(\"original array:\",arr)\n",
        "print()\n",
        "mean = np.nanmean(arr)\n",
        "print(\"mean of the remaining values:\",mean)"
      ],
      "metadata": {
        "colab": {
          "base_uri": "https://localhost:8080/"
        },
        "id": "ditNL0il1rQB",
        "outputId": "b11bd7f8-5e73-4ef4-9590-d8e86ddab6d2"
      },
      "execution_count": null,
      "outputs": [
        {
          "output_type": "stream",
          "name": "stdout",
          "text": [
            "original array: [ 1.  2. nan  4.  5.]\n",
            "\n",
            "mean of the remaining values: 3.0\n"
          ]
        }
      ]
    },
    {
      "cell_type": "markdown",
      "source": [
        "     \n",
        "**Explanation**\n",
        "\n",
        "In this example, we calculated the mean value of an array which has one NaN value. The nanmean() function in NumPy ignores any NaN values and calculates the mean of the remaining values. Therefore, the mean value of this array is (1 + 2 + 4 + 5) / 4, which is equal to 3."
      ],
      "metadata": {
        "id": "zD2_ccJ11vBp"
      }
    },
    {
      "cell_type": "markdown",
      "source": [
        "**xample 07: Calculate the mean of a boolean array:**\n",
        "\n",
        "\n",
        "\n"
      ],
      "metadata": {
        "id": "x0VtjSHT1_zf"
      }
    },
    {
      "cell_type": "code",
      "source": [
        "\n",
        "import numpy as np\n",
        "arr = np.array([True, False, True, True, False])\n",
        "print(\"original array:\",arr)\n",
        "print()\n",
        "mean = np.mean(arr)\n",
        "print(\"mean of boolean:\",mean)\n"
      ],
      "metadata": {
        "colab": {
          "base_uri": "https://localhost:8080/"
        },
        "id": "GvnLxrdf2RxS",
        "outputId": "77688956-1aa7-44df-919f-b670920d03e4"
      },
      "execution_count": null,
      "outputs": [
        {
          "output_type": "stream",
          "name": "stdout",
          "text": [
            "original array: [ True False  True  True False]\n",
            "\n",
            "mean of boolean: 0.6\n"
          ]
        }
      ]
    },
    {
      "cell_type": "markdown",
      "source": [
        "**Explanation**\n",
        "\n",
        "In this example, we calculated the mean value of a boolean array which has 2 True values and 3 False values. The mean value of this boolean array is calculated as the sum of the True values divided by the total number of elements in the array. Therefore, the mean value is 2/5, which is equal to 0.6."
      ],
      "metadata": {
        "id": "PYNxkmlp2YKS"
      }
    },
    {
      "cell_type": "markdown",
      "source": [
        "\n",
        "**Example 08:Calculate the mean of a large array:**\n",
        "\n"
      ],
      "metadata": {
        "id": "i8HF2uBK2kpZ"
      }
    },
    {
      "cell_type": "code",
      "source": [
        "\n",
        "import numpy as np\n",
        "arr = np.random.rand(1000000)\n",
        "print(\"original array:\",arr)\n",
        "print()\n",
        "mean = np.mean(arr)\n",
        "print(\"mean of large number:\",mean)"
      ],
      "metadata": {
        "colab": {
          "base_uri": "https://localhost:8080/"
        },
        "id": "S9q98jxz2j_3",
        "outputId": "2baf75fb-8469-48f3-9bed-9d34b1d07ba3"
      },
      "execution_count": null,
      "outputs": [
        {
          "output_type": "stream",
          "name": "stdout",
          "text": [
            "original array: [0.07118869 0.43097946 0.44780351 ... 0.79756559 0.40501177 0.1606503 ]\n",
            "\n",
            "mean of large number: 0.5002965597438617\n"
          ]
        }
      ]
    },
    {
      "cell_type": "markdown",
      "source": [
        "  **Explanation**\n",
        "  \n",
        "   In this example, we generated an array of 1,000,000 random numbers between 0 and 1 using the np.random.rand() function.\n",
        "\n",
        "We then calculated the mean value of this large array using the mean() function in NumPy, which returns the average value of all elements in the array. The mean value of this array is approximately 0.5, which is the expected value of a uniform distribution between 0 and 1."
      ],
      "metadata": {
        "id": "gczKTllQ2rs4"
      }
    },
    {
      "cell_type": "markdown",
      "source": [
        "# **Type(02): numpy.meadian() function**\n",
        "\n",
        "The NumPy library in Python provides a function called \"numpy.median()\" that calculates the median value of a given array or list of numbers. The median is the middle value in a sorted list of numbers, or the average of the two middle values if the list has an even number of elements.\n",
        "\n",
        "The**numpy.median()** function takes a single argument, which is the array or list of numbers for which you want to calculate the median. It returns the median value as a float.\n",
        "\n",
        "**Example 01:Finding the median of an array of integers:**\n"
      ],
      "metadata": {
        "id": "7ETkx1G93SbK"
      }
    },
    {
      "cell_type": "code",
      "source": [
        "import numpy as np\n",
        "arr = np.array([3, 1, 4, 2, 5])\n",
        "median = np.median(arr)\n",
        "print(median)"
      ],
      "metadata": {
        "colab": {
          "base_uri": "https://localhost:8080/"
        },
        "id": "1bCW_ylU2rGM",
        "outputId": "8e3082f6-c845-4ba9-9037-8eab7389c40f"
      },
      "execution_count": null,
      "outputs": [
        {
          "output_type": "stream",
          "name": "stdout",
          "text": [
            "3.0\n"
          ]
        }
      ]
    },
    {
      "cell_type": "markdown",
      "source": [
        "**Example 03: Finding the median of a tuple of numbers:**\n"
      ],
      "metadata": {
        "id": "RcVSiaWH3hvU"
      }
    },
    {
      "cell_type": "code",
      "source": [
        "import numpy as np\n",
        "tup = (3, 1, 4, 2, 5)\n",
        "median = np.median(tup)\n",
        "print(median)\n"
      ],
      "metadata": {
        "colab": {
          "base_uri": "https://localhost:8080/"
        },
        "id": "9FhHwewT36ov",
        "outputId": "05e6eb46-1f12-4511-da3c-3a4e0fd73ec2"
      },
      "execution_count": null,
      "outputs": [
        {
          "output_type": "stream",
          "name": "stdout",
          "text": [
            "3.0\n"
          ]
        }
      ]
    },
    {
      "cell_type": "markdown",
      "source": [
        "**Example 04:Finding the median of a 2D array along axis 0 (columns)**\n",
        "     \n",
        "**Explanation**\n",
        "\n",
        "The median values of each column are printed to the console, which are [5.5, 6.5, 7.5]. Therefore, the first median value is the median of [1, 4, 7, 10], the second median value is the median of [2, 5, 8, 11], and the third median value is the median of [3, 6, 9, 12].\n"
      ],
      "metadata": {
        "id": "rSYlF2u44Kab"
      }
    },
    {
      "cell_type": "code",
      "source": [
        "import numpy as np\n",
        "arr = np.array([[1, 2, 3], [4, 5, 6], [7, 8, 9],[10,11,12]])\n",
        "print(\"original array:\",arr)\n",
        "print()\n",
        "median= np.median(arr, axis=0)\n",
        "print(median)"
      ],
      "metadata": {
        "colab": {
          "base_uri": "https://localhost:8080/"
        },
        "id": "txYLGiNv4DA8",
        "outputId": "2c38dc52-c37d-4522-d208-de688b64f1ca"
      },
      "execution_count": null,
      "outputs": [
        {
          "output_type": "stream",
          "name": "stdout",
          "text": [
            "original array: [[ 1  2  3]\n",
            " [ 4  5  6]\n",
            " [ 7  8  9]\n",
            " [10 11 12]]\n",
            "\n",
            "[5.5 6.5 7.5]\n"
          ]
        }
      ]
    },
    {
      "cell_type": "markdown",
      "source": [
        "**Example 05:Finding the median of a 2D array along axis 1 (rows)**\n",
        "\n",
        "\n",
        "\n",
        "     \n",
        "\n",
        "\n",
        "\n",
        "\n"
      ],
      "metadata": {
        "id": "mlnJN0rV4jjR"
      }
    },
    {
      "cell_type": "code",
      "source": [
        "import numpy as np\n",
        "arr = np.array([[1, 2, 3], [4, 5, 6], [7, 8, 9],[10,11,12]])\n",
        "print(\"original array:\",arr)\n",
        "print()\n",
        "median= np.median(arr, axis=1)\n",
        "print(median)"
      ],
      "metadata": {
        "colab": {
          "base_uri": "https://localhost:8080/"
        },
        "id": "al_hAp7443_W",
        "outputId": "30c07c75-acde-4587-a514-116702b8c35c"
      },
      "execution_count": null,
      "outputs": [
        {
          "output_type": "stream",
          "name": "stdout",
          "text": [
            "original array: [[ 1  2  3]\n",
            " [ 4  5  6]\n",
            " [ 7  8  9]\n",
            " [10 11 12]]\n",
            "\n",
            "[ 2.  5.  8. 11.]\n"
          ]
        }
      ]
    },
    {
      "cell_type": "markdown",
      "source": [
        "**Explanation**\n",
        "\n",
        "The median values of each row are printed to the console, which are [2. 5. 8. 11.]. Therefore, the first median value is the median of [1, 2, 3], the second median value is the median of [4, 5, 6], the third median value is the median of [7, 8, 9], and the fourth median value is the median of [10, 11, 12]."
      ],
      "metadata": {
        "id": "0mk2YDsE5Fa5"
      }
    },
    {
      "cell_type": "markdown",
      "source": [
        "**Example 06: Finding the median of a slice of an array:**\n",
        "\n",
        "\n",
        "\n",
        "     \n"
      ],
      "metadata": {
        "id": "6gnswn1z5YB_"
      }
    },
    {
      "cell_type": "code",
      "source": [
        "import numpy as np\n",
        "a = np.array([1,2,3,4,5,6,7,8])\n",
        "median= np.median(a[2:6])\n",
        "print(median)"
      ],
      "metadata": {
        "colab": {
          "base_uri": "https://localhost:8080/"
        },
        "id": "A2am6AXq5EAF",
        "outputId": "8de7f4c9-9f0f-4a33-93de-8d55568d9f96"
      },
      "execution_count": null,
      "outputs": [
        {
          "output_type": "stream",
          "name": "stdout",
          "text": [
            "4.5\n"
          ]
        }
      ]
    },
    {
      "cell_type": "markdown",
      "source": [
        "**Explanation**\n",
        "\n",
        "The given code creates a numpy array named a that contains the integers 1 through 8.\n",
        "\n",
        "Next, the np.median() function is used to calculate the median of the subarray of a that starts at the 3rd index and ends at the 6th index (inclusive). This subarray contains the elements [3, 4, 5, 6]. The median of this subarray is calculated to be 4.5, which is saved to the variable named median."
      ],
      "metadata": {
        "id": "TIr-52WZ5oHq"
      }
    },
    {
      "cell_type": "markdown",
      "source": [
        "#**Type (03): numpy.std() function**\n",
        "\n",
        "The numpy.std() function in Python's NumPy library is used to calculate the standard deviation of an array or a set of values. Standard deviation measures the amount of variation or dispersion in a dataset.\n",
        "\n",
        "The formula for calculating the standard deviation is as follows:\n",
        "\n",
        "std = sqrt(mean((x - x.mean())**2)) where:\n",
        "\n",
        "x is the input array or set of values mean() calculates the mean (average) of x sqrt() is the square root function The steps involved in calculating the standard deviation using numpy.std() are as follows:\n",
        "\n",
        "Calculate the mean of the array or set of values.\n",
        "\n",
        "Calculate the squared difference between each element in the array and the mean.\n",
        "\n",
        "Calculate the mean of the squared differences.\n",
        "\n",
        "Take the square root of the mean of squared differences to obtain the standard deviation. The numpy.std() function allows you to calculate the standard deviation directly without explicitly performing these steps. It takes the array or set of values as its input and returns the standard deviation as the output.\n",
        "\n",
        "**Example 1: Calculate the standard deviation of an array of integers.**"
      ],
      "metadata": {
        "id": "3b1j-nlL5055"
      }
    },
    {
      "cell_type": "code",
      "source": [
        "\n",
        "import numpy as np\n",
        "\n",
        "arr = np.array([1, 2, 3, 4, 5])\n",
        "std_dev = np.std(arr)\n",
        "\n",
        "print(std_dev)"
      ],
      "metadata": {
        "colab": {
          "base_uri": "https://localhost:8080/"
        },
        "id": "FXZxN06W5_8j",
        "outputId": "6037e71b-27d2-4b79-cdf5-6452472f3a6a"
      },
      "execution_count": null,
      "outputs": [
        {
          "output_type": "stream",
          "name": "stdout",
          "text": [
            "1.4142135623730951\n"
          ]
        }
      ]
    },
    {
      "cell_type": "markdown",
      "source": [
        "**Example 2: Calculate the standard deviation of a 2D array.**\n",
        "\n"
      ],
      "metadata": {
        "id": "yzKBGBwN6MZ0"
      }
    },
    {
      "cell_type": "code",
      "source": [
        "import numpy as np\n",
        "\n",
        "arr = np.array([[1, 2, 3], [4, 5, 6]])\n",
        "std_dev = np.std(arr)\n",
        "\n",
        "print(std_dev)"
      ],
      "metadata": {
        "colab": {
          "base_uri": "https://localhost:8080/"
        },
        "id": "6vlcyDK26Q8i",
        "outputId": "e84b98e5-6f82-4dc7-ddb3-b81e4c0fe891"
      },
      "execution_count": null,
      "outputs": [
        {
          "output_type": "stream",
          "name": "stdout",
          "text": [
            "1.707825127659933\n"
          ]
        }
      ]
    },
    {
      "cell_type": "markdown",
      "source": [
        "**Example 3: Calculate the standard deviation of a 2D array along a specified axis.**\n",
        "\n",
        "\n",
        "\n",
        "     \n",
        "\n",
        "\n",
        "\n",
        "     "
      ],
      "metadata": {
        "id": "bp0_FT9q6w5P"
      }
    },
    {
      "cell_type": "code",
      "source": [
        "import numpy as np\n",
        "\n",
        "arr = np.array([[1, 2, 3], [4, 5, 6]])\n",
        "std_dev = np.std(arr, axis=0)\n",
        "\n",
        "print(std_dev)"
      ],
      "metadata": {
        "id": "Y7gx6_TK6zXD"
      },
      "execution_count": null,
      "outputs": []
    },
    {
      "cell_type": "markdown",
      "source": [
        "**Example 4: Calculate the standard deviation of a random array using a specified seed.**"
      ],
      "metadata": {
        "id": "RtGNxDNO65u_"
      }
    },
    {
      "cell_type": "code",
      "source": [
        "\n",
        "import numpy as np\n",
        "np.random.seed(42)\n",
        "arr = np.random.rand(5)\n",
        "print(\"original array:\",arr)\n",
        "print()\n",
        "std_dev = np.std(arr)\n",
        "\n",
        "print(std_dev)"
      ],
      "metadata": {
        "id": "BIwX8vMx648h"
      },
      "execution_count": null,
      "outputs": []
    },
    {
      "cell_type": "markdown",
      "source": [
        "**Example 5: Calculate the standard deviation of a masked array.**\n",
        "\n"
      ],
      "metadata": {
        "id": "LA0Qaay27FbX"
      }
    },
    {
      "cell_type": "code",
      "source": [
        "\n",
        "import numpy as np\n",
        "\n",
        "arr = np.ma.array([1, 2, 3, 4, 5], mask=[True, False, True, False, False])\n",
        "print(\"original array:\",arr)\n",
        "print()\n",
        "std_dev = np.std(arr)\n",
        "\n",
        "print(std_dev)"
      ],
      "metadata": {
        "colab": {
          "base_uri": "https://localhost:8080/"
        },
        "id": "FZ7Y6FVR7Lx_",
        "outputId": "b5794cd5-589d-4809-a5bf-5ff42d1c92a2"
      },
      "execution_count": null,
      "outputs": [
        {
          "output_type": "stream",
          "name": "stdout",
          "text": [
            "original array: [-- 2 -- 4 5]\n",
            "\n",
            "1.247219128924647\n"
          ]
        }
      ]
    },
    {
      "cell_type": "markdown",
      "source": [
        "**Example 6: Calculate the standard deviation of a specified portion of an array.**\n",
        "\n",
        "\n"
      ],
      "metadata": {
        "id": "COXEcSnu7bwE"
      }
    },
    {
      "cell_type": "code",
      "source": [
        "import numpy as np\n",
        "arr = np.array([1, 2, 3, 4, 5])\n",
        "std_dev = np.std(arr[2:])\n",
        "\n",
        "print(std_dev)"
      ],
      "metadata": {
        "colab": {
          "base_uri": "https://localhost:8080/"
        },
        "id": "7pC-iapq7d7D",
        "outputId": "59afa78b-0f23-45c5-f72f-24f00cf1f20e"
      },
      "execution_count": null,
      "outputs": [
        {
          "output_type": "stream",
          "name": "stdout",
          "text": [
            "0.816496580927726\n"
          ]
        }
      ]
    },
    {
      "cell_type": "markdown",
      "source": [
        "#**Type (04): numpy.var() function**\n",
        "\n",
        "The numpy.var() function in the NumPy library is used to calculate the variance of a given array or a specific axis of the array. Variance is a statistical measure that describes the spread or dispersion of a set of values.\n",
        "\n",
        "The formula to calculate the variance is as follows:\n",
        "\n",
        "variance = sum((x - mean) ** 2) / N\n",
        "\n",
        "where:\n",
        "\n",
        "x, represents each element of the array\n",
        "\n",
        "mean, is the mean (average) of the array\n",
        "\n",
        "N, is the number of elements in the array\n",
        "\n",
        "In other words, the variance is the average of the squared differences between each element in the array and the mean, divided by the total number of elements.\n",
        "\n",
        "The numpy.var(), function allows you to calculate the variance along a specific axis of a multi-dimensional array. By default, if no axis is specified, the variance is calculated for the flattened array."
      ],
      "metadata": {
        "id": "BDAvDHua7yJI"
      }
    },
    {
      "cell_type": "markdown",
      "source": [
        "**Example 1: Calculate the variance of an array of integers.**\n",
        "\n",
        "\n"
      ],
      "metadata": {
        "id": "Xii6cfTo765s"
      }
    },
    {
      "cell_type": "code",
      "source": [
        "import numpy as np\n",
        "arr = np.array([1, 2, 3, 4, 5])\n",
        "variance = np.var(arr)\n",
        "\n",
        "print(variance)"
      ],
      "metadata": {
        "colab": {
          "base_uri": "https://localhost:8080/"
        },
        "id": "dud-jUfH70IR",
        "outputId": "639cc856-6e7a-4aa4-e913-40c809cbe44f"
      },
      "execution_count": null,
      "outputs": [
        {
          "output_type": "stream",
          "name": "stdout",
          "text": [
            "2.0\n"
          ]
        }
      ]
    },
    {
      "cell_type": "markdown",
      "source": [
        "**Example 2: Calculate the variance of a 2D array.**\n",
        "\n",
        "\n",
        "\n",
        "\n",
        "\n",
        "\n",
        "\n",
        "     \n",
        "\n",
        "\n",
        "\n"
      ],
      "metadata": {
        "id": "YMs_ukhP8RCm"
      }
    },
    {
      "cell_type": "code",
      "source": [
        "import numpy as np\n",
        "arr = np.array([[1, 2, 3], [4, 5, 6]])\n",
        "variance = np.var(arr)\n",
        "\n",
        "print(variance)"
      ],
      "metadata": {
        "id": "q_idET6e8USW"
      },
      "execution_count": null,
      "outputs": []
    },
    {
      "cell_type": "markdown",
      "source": [
        "     \n",
        "**Example 3: Calculate the standard deviation of a 2D array along a specified axis.**"
      ],
      "metadata": {
        "id": "Px1-Eq2s8fGr"
      }
    },
    {
      "cell_type": "code",
      "source": [
        "import numpy as np\n",
        "arr = np.array([[1, 2, 3], [4, 5, 6]])\n",
        "variance = np.var(arr,axis=0)\n",
        "\n",
        "print(variance)"
      ],
      "metadata": {
        "id": "XsHeqemN8Y2F"
      },
      "execution_count": null,
      "outputs": []
    },
    {
      "cell_type": "markdown",
      "source": [
        "**Example 4: Calculate the standard deviation of a masked array.**"
      ],
      "metadata": {
        "id": "RRwVSuQh8mtQ"
      }
    },
    {
      "cell_type": "code",
      "source": [
        "import numpy as np\n",
        "\n",
        "arr = np.ma.array([1, 2, 3, 4, 5], mask=[True, False, True, False, False])\n",
        "print(\"original array:\",arr)\n",
        "print()\n",
        "variance = np.var(arr)\n",
        "\n",
        "print(variance)"
      ],
      "metadata": {
        "id": "YDXRF-XH8b08"
      },
      "execution_count": null,
      "outputs": []
    },
    {
      "cell_type": "markdown",
      "source": [
        "**Example 5: Calculate the standard deviation of a specified portion of an array.**\n",
        "\n",
        "\n"
      ],
      "metadata": {
        "id": "B8ky2zLu8r9E"
      }
    },
    {
      "cell_type": "code",
      "source": [
        "import numpy as np\n",
        "arr = np.array([1, 2, 3, 4, 5])\n",
        "variance = np.var(arr[2:])\n",
        "\n",
        "print(variance)"
      ],
      "metadata": {
        "id": "973_1cam8uwW"
      },
      "execution_count": null,
      "outputs": []
    },
    {
      "cell_type": "markdown",
      "source": [
        "\n",
        "#**Type(05).numpy.min() function**\n",
        "\n",
        "Certainly! The numpy.min() function is used to find the minimum value in a NumPy array. It returns the smallest element present in the array.\n",
        "\n",
        "Here's the syntax of the numpy.min() function:\n",
        "\n",
        "numpy.min(a, axis=None, keepdims=False, initial=None)\n",
        "\n",
        "Parameters:\n",
        "\n",
        "a: This is the input array from which you want to find the minimum value.\n",
        "\n",
        "axis (optional): This parameter specifies the axis along which the minimum values are computed. By default, it is None, which means the minimum value is calculated over the flattened array.\n",
        "\n",
        "keepdims (optional): This parameter determines whether the dimensions of the output should be the same as the input. If it is set to True, the dimensions are retained; otherwise, they are removed. By default, it is set to False.\n",
        "\n",
        "initial (optional): This parameter sets the initial value for the minimum. By default, it is set to None.\n",
        "\n"
      ],
      "metadata": {
        "id": "UYDWR3fZ84TZ"
      }
    },
    {
      "cell_type": "markdown",
      "source": [
        "**Example 1:Finding the minimum value in an array:**\n"
      ],
      "metadata": {
        "id": "-pFqj0zg9BLo"
      }
    },
    {
      "cell_type": "code",
      "source": [
        "\n",
        "import numpy as np\n",
        "arr = np.array([5, 2, 9, 1, 7])\n",
        "min_value = np.min(arr)\n",
        "print(\"Minimum value:\", min_value)\n"
      ],
      "metadata": {
        "colab": {
          "base_uri": "https://localhost:8080/"
        },
        "id": "Gw_6IyRG8-Rv",
        "outputId": "9d21d4cc-e239-4850-abf7-50b31ab80aa9"
      },
      "execution_count": null,
      "outputs": [
        {
          "output_type": "stream",
          "name": "stdout",
          "text": [
            "Minimum value: 1\n"
          ]
        }
      ]
    },
    {
      "cell_type": "markdown",
      "source": [
        "**Example 2: Finding the minimum value along a specific axis in a multidimensional array:**\n",
        "\n"
      ],
      "metadata": {
        "id": "FRPWaI-a9Y_x"
      }
    },
    {
      "cell_type": "code",
      "source": [
        "import numpy as np\n",
        "arr = np.array([[5, 2, 9], [1, 7, 3]])\n",
        "print(\"1D array:\",arr.flatten())\n",
        "print()\n",
        "min_value = np.min(arr.flatten())\n",
        "print(\"Minimum value (flattened array):\", min_value)\n",
        "\n"
      ],
      "metadata": {
        "id": "gwnBs8Yn9nJ9"
      },
      "execution_count": null,
      "outputs": []
    },
    {
      "cell_type": "markdown",
      "source": [
        "\n",
        "     \n",
        "**Example 3: Finding the minimum value in a 2D array flattened to a 1D array:**\n",
        "\n",
        "\n"
      ],
      "metadata": {
        "id": "2bP-holW9TI5"
      }
    },
    {
      "cell_type": "code",
      "source": [
        "\n",
        "import numpy as np\n",
        "arr = np.array([[5, 2, 9],[1, 7, 3]])\n",
        "print(\"Original array:\",arr)\n",
        "min_values = np.min(arr, axis=1)\n",
        "print(\"Minimum values along axis 1:\", min_values)\n",
        "print()\n",
        "min_values = np.min(arr, axis=0)\n",
        "print(\"Minimum values along axis 0:\", min_values)"
      ],
      "metadata": {
        "colab": {
          "base_uri": "https://localhost:8080/"
        },
        "id": "2eMr9o9K9jy_",
        "outputId": "a7a9fa2a-1192-4390-af74-581af84490a3"
      },
      "execution_count": null,
      "outputs": [
        {
          "output_type": "stream",
          "name": "stdout",
          "text": [
            "Original array: [[5 2 9]\n",
            " [1 7 3]]\n",
            "Minimum values along axis 1: [2 1]\n",
            "\n",
            "Minimum values along axis 0: [1 2 3]\n"
          ]
        }
      ]
    },
    {
      "cell_type": "markdown",
      "source": [
        "     \n",
        "**Example 4: Finding the minimum value element-wise between two arrays:**\n",
        "\n"
      ],
      "metadata": {
        "id": "fUd8RL9Q9c1J"
      }
    },
    {
      "cell_type": "code",
      "source": [
        "\n",
        "import numpy as np\n",
        "arr1 = np.array([5, 2, 9, 1, 7])\n",
        "arr2 = np.array([3, 6, 8, 2, 4])\n",
        "min_values = np.minimum(arr1, arr2)\n",
        "print(\"Minimum values (element-wise):\", min_values)"
      ],
      "metadata": {
        "colab": {
          "base_uri": "https://localhost:8080/"
        },
        "id": "dGYeBnZD9gKz",
        "outputId": "01232f9e-0372-4422-e6fe-de826b753044"
      },
      "execution_count": null,
      "outputs": [
        {
          "output_type": "stream",
          "name": "stdout",
          "text": [
            "Minimum values (element-wise): [3 2 8 1 4]\n"
          ]
        }
      ]
    },
    {
      "cell_type": "markdown",
      "source": [
        "**Example 5: Finding the minimum value along a specific axis 1 in a 3D array:**"
      ],
      "metadata": {
        "id": "KESAouU6-CMw"
      }
    },
    {
      "cell_type": "code",
      "source": [
        "\n",
        "import numpy as np\n",
        "arr = np.array([[[5, 2, 9],  [1, 7, 3]], [[4, 6, 8], [3, 2, 1]]])\n",
        "print(arr)\n",
        "print()\n",
        "min_values = np.min(arr, axis=1)\n",
        "print(\"Minimum values along axis 1:\", min_values)"
      ],
      "metadata": {
        "id": "E_dOnjmI-DhH"
      },
      "execution_count": null,
      "outputs": []
    },
    {
      "cell_type": "markdown",
      "source": [
        "# **Type(06).numpy.max() function**\n",
        "\n",
        "The numpy.max() function is a part of the NumPy library, which is used for numerical computations in Python. It is specifically designed to find the maximum value in an array or along a specified axis.\n",
        "\n",
        "Here's a breakdown of how the numpy.max() function works:\n",
        "\n",
        "Syntax:\n",
        "\n",
        "numpy.max(array, axis=None, keepdims=False)\n",
        "\n",
        "Parameters:\n",
        "\n",
        "array: The input array or object to find the maximum value from.\n",
        "\n",
        "axis (optional): It specifies the axis along which the maximum value should be determined. If not provided, the maximum value of the flattened array will be returned.\n",
        "\n",
        "keepdims (optional): If set to True, the dimensions of the output will be the same as the input array, with the axis of the maximum value preserved. If set to False or not provided, the dimensions will be reduced."
      ],
      "metadata": {
        "id": "nDspoJTK-NXh"
      }
    },
    {
      "cell_type": "markdown",
      "source": [
        "**Example 1:Finding the maximum value in an array:**\n",
        "\n",
        "\n",
        "\n",
        "     \n",
        "\n",
        "     "
      ],
      "metadata": {
        "id": "LBT8yXo9-aj9"
      }
    },
    {
      "cell_type": "code",
      "source": [
        "import numpy as np\n",
        "arr = np.array([5, 2, 9, 1, 7])\n",
        "max_value = np.max(arr)\n",
        "print(\"Minimum value:\", max_value)"
      ],
      "metadata": {
        "colab": {
          "base_uri": "https://localhost:8080/"
        },
        "id": "RJRJeAOS-vwP",
        "outputId": "27486371-cb6a-4014-e840-f56457630df2"
      },
      "execution_count": null,
      "outputs": [
        {
          "output_type": "stream",
          "name": "stdout",
          "text": [
            "Minimum value: 9\n"
          ]
        }
      ]
    },
    {
      "cell_type": "markdown",
      "source": [
        "**Example 3: Finding the maximum value in a 2D array flattened to a 1D array:**\n",
        "\n",
        "\n"
      ],
      "metadata": {
        "id": "pv_u29A9-jXx"
      }
    },
    {
      "cell_type": "code",
      "source": [
        "import numpy as np\n",
        "arr = np.array([[5, 2, 9], [1, 7, 3]])\n",
        "print(\"1D array:\",arr.flatten())\n",
        "print()\n",
        "max_value = np.max(arr.flatten())\n",
        "print(\"Maximum value (flattened array):\", max_value)"
      ],
      "metadata": {
        "id": "9uhAY8C--tBw"
      },
      "execution_count": null,
      "outputs": []
    },
    {
      "cell_type": "markdown",
      "source": [
        "**Example 2: Finding the maximum value along a specific axis in a multidimensional array:**\n",
        "\n",
        "\n"
      ],
      "metadata": {
        "id": "e1obX4_V-niZ"
      }
    },
    {
      "cell_type": "code",
      "source": [
        "\n",
        "import numpy as np\n",
        "arr = np.array([[5, 2, 9],[1, 7, 3]])\n",
        "print(\"Original array:\",arr)\n",
        "max_values = np.max(arr, axis=1)\n",
        "print(\"Maximum values along axis 1:\", max_values)\n",
        "print()\n",
        "max_values = np.max(arr, axis=0)\n",
        "print(\"Maximum values along axis 0:\", max_values)\n"
      ],
      "metadata": {
        "id": "HfE0Jp6R-Jbq"
      },
      "execution_count": null,
      "outputs": []
    },
    {
      "cell_type": "markdown",
      "source": [
        "# **Numpy. percentile() function**\n",
        "\n",
        "The numpy.percentile() function in the NumPy library is used to calculate the nth percentile of a given dataset along a specified axis. Percentiles are a way to divide a dataset into equal portions, where each portion represents a specific percentage of the data. This function allows you to find the value below which a given percentage of the data falls.\n",
        "\n",
        "**The general syntax of the numpy.percentile() function is as follows:**\n",
        "\n",
        "numpy.percentile(a, q, axis=None, interpolation='linear')\n",
        "\n",
        "Here's an explanation of the function's parameters:\n",
        "\n",
        "**a:** This parameter represents the input array or object containing the dataset from which the percentile is calculated.\n",
        "\n",
        "**q:** This parameter specifies the percentile value(s) to compute. It can be a single value or an array-like object containing multiple percentiles.\n",
        "\n",
        "**axis:**This optional parameter indicates the axis along which the percentiles are computed. By default, the percentile is calculated over the flattened array.\n",
        "\n",
        "**interpolation:** This optional parameter specifies the interpolation method to be used if the desired percentile lies between two data points. It can take values like 'linear', 'lower', 'higher', 'midpoint', or 'nearest'. The default value is 'linear'. To calculate the percentile using the numpy.percentile() function, the following formula is used:\n",
        "\n",
        "**Sort the dataset in ascending order.Calculate the rank of the percentile using the formula:**\n",
        "\n",
        "rank = (percentile / 100) * (N - 1) + 1,\n",
        "\n",
        "where N is the total number of data points.\n",
        "\n",
        "Determine the interpolation method if the rank is not an integer.\n",
        "\n",
        "If the rank is an integer, the percentile value is the corresponding data point in the sorted dataset.\n",
        "\n",
        "If the rank is not an integer, interpolate the percentile value based on the chosen interpolation method and the surrounding data points.\n",
        "\n",
        "The numpy.percentile() function efficiently performs these calculations for you, allowing you to easily compute percentiles in NumPy arrays."
      ],
      "metadata": {
        "id": "xcsqQDlP-7PF"
      }
    },
    {
      "cell_type": "markdown",
      "source": [
        "**Example 1: Calculating the 50th percentile (median) of an array:**"
      ],
      "metadata": {
        "id": "bPmDyM0D_sR1"
      }
    },
    {
      "cell_type": "code",
      "source": [
        "import numpy as np\n",
        "data = np.array([1, 2, 3, 4, 5])\n",
        "median = np.percentile(data, 3)\n",
        "print(median)\n"
      ],
      "metadata": {
        "colab": {
          "base_uri": "https://localhost:8080/"
        },
        "id": "SNP7CS2T_ueA",
        "outputId": "a589010a-2ecb-42ff-be34-cc9ff7ba0b03"
      },
      "execution_count": null,
      "outputs": [
        {
          "output_type": "stream",
          "name": "stdout",
          "text": [
            "1.12\n"
          ]
        }
      ]
    },
    {
      "cell_type": "code",
      "source": [
        "import numpy as np\n",
        "data = np.array([3, 7, 11, 14, 18, 19, 21, 24, 31, 34, 36 ])\n",
        "percentile_value = np.percentile(data, 35)\n",
        "print(\"The 65th percentile of the dataset is:\", percentile_value)\n"
      ],
      "metadata": {
        "colab": {
          "base_uri": "https://localhost:8080/"
        },
        "id": "np6T5_KGrTc7",
        "outputId": "eee691ac-f59a-4c72-c0fd-c92e68323d1b"
      },
      "execution_count": null,
      "outputs": [
        {
          "output_type": "stream",
          "name": "stdout",
          "text": [
            "The 65th percentile of the dataset is: 16.0\n"
          ]
        }
      ]
    },
    {
      "cell_type": "code",
      "source": [
        "##Example 03: Calculating the 90th percentile of a 2D array along an axis:\n",
        "\n",
        "\n",
        "import numpy as np\n",
        "arr = np.array([[1, 2, 3], [4, 5, 6]])\n",
        "percentile_90 = np.percentile(arr, 90, axis=1)\n",
        "print(percentile_90)"
      ],
      "metadata": {
        "colab": {
          "base_uri": "https://localhost:8080/"
        },
        "id": "BdZk0GpSrZOG",
        "outputId": "818c55cc-911f-4f90-aa73-d5476faf9b8f"
      },
      "execution_count": null,
      "outputs": [
        {
          "output_type": "stream",
          "name": "stdout",
          "text": [
            "[2.8 5.8]\n"
          ]
        }
      ]
    },
    {
      "cell_type": "code",
      "source": [
        "#Example 04\n",
        "\n",
        "\n",
        "import numpy as np\n",
        "\n",
        "data = np.array([3, 7, 11, 14, 18, 19, 21, 24, 31, 34, 36])\n",
        "percentile_value = np.percentile(data, 35)\n",
        "\n",
        "print(\"The 35th percentile of the data is:\", percentile_value)"
      ],
      "metadata": {
        "colab": {
          "base_uri": "https://localhost:8080/"
        },
        "id": "B_LpDGYVrkpa",
        "outputId": "9f6862ea-20b6-44da-b574-d168601832b8"
      },
      "execution_count": null,
      "outputs": [
        {
          "output_type": "stream",
          "name": "stdout",
          "text": [
            "The 35th percentile of the data is: 16.0\n"
          ]
        }
      ]
    },
    {
      "cell_type": "code",
      "source": [
        "#Example 05: Calculating multiple percentiles simultaneously:\n",
        "\n",
        "\n",
        "arr = np.array([1, 2, 3, 4, 5])\n",
        "percentiles = np.percentile(arr, [25, 50, 75])\n",
        "print(percentiles)\n",
        "\n",
        "\n"
      ],
      "metadata": {
        "colab": {
          "base_uri": "https://localhost:8080/"
        },
        "id": "msBXDBKsrs5h",
        "outputId": "617bf6bb-864e-42a8-cfc2-511e08a86aed"
      },
      "execution_count": null,
      "outputs": [
        {
          "output_type": "stream",
          "name": "stdout",
          "text": [
            "[2. 3. 4.]\n"
          ]
        }
      ]
    },
    {
      "cell_type": "markdown",
      "source": [
        "# **Type 8:Numpy.histogram() Function**\n",
        "\n",
        "The NumPy library provides a function called numpy.histogram() that allows you to compute the histogram of a dataset. The histogram is a graphical representation of the distribution of data, which shows the frequencies of different values or value ranges within the dataset.\n",
        "\n",
        "Here's an explanation of the numpy.histogram() function:\n",
        "\n",
        "**Syntax:**\n",
        "\n",
        "numpy.histogram(data, bins=None, range=None, density=False, weights=None)\n",
        "\n",
        "**Parameters:**\n",
        "\n",
        "**data:** This parameter represents the input array or sequence of data values.\n",
        "\n",
        "**bins:**It specifies the number of equal-width bins to use in the histogram. This can be an integer representing the number of bins, or a sequence defining the bin edges.\n",
        "\n",
        "**range:** It defines the lower and upper range of the bins. If not provided, the range is determined by the minimum and maximum values of the data.\n",
        "\n",
        "**density:** If set to True, the histogram is normalized to form a probability density. If set to False (default), the count of data points in each bin is returned.\n",
        "\n",
        "**weights:** This parameter is an optional array of weights for each data point. Return values:\n",
        "\n",
        "**hist:** This represents the histogram values, i.e., the count of data points in each bin.\n",
        "\n",
        "**bin_edges:**The bin edges (length of hist + 1) that define the bin intervals.\n",
        "The numpy.histogram() function calculates the histogram of the input data and returns the histogram values and bin edges. You can use these values to visualize and analyze the distribution of your dataset.\n",
        "\n",
        "**Example 01: Creating a histogram with default settings:**"
      ],
      "metadata": {
        "id": "W_6azs40sIsY"
      }
    },
    {
      "cell_type": "code",
      "source": [
        "import numpy as np\n",
        "data = np.array([1, 2, 3, 1, 2, 4, 5, 3, 2, 4])\n",
        "hist, bins = np.histogram(data)\n",
        "print(hist)\n",
        "print(bins)\n",
        "\n",
        "\n",
        "\n",
        "\n",
        "\n"
      ],
      "metadata": {
        "colab": {
          "base_uri": "https://localhost:8080/"
        },
        "id": "7fJX4Y_lrwP5",
        "outputId": "e2dd6403-3afb-4350-d9a9-603ecd83131e"
      },
      "execution_count": null,
      "outputs": [
        {
          "output_type": "stream",
          "name": "stdout",
          "text": [
            "[2 0 3 0 0 2 0 2 0 1]\n",
            "[1.  1.4 1.8 2.2 2.6 3.  3.4 3.8 4.2 4.6 5. ]\n"
          ]
        }
      ]
    },
    {
      "cell_type": "code",
      "source": [
        "#Example 02: Specifying the number of bins for the histogram:\n",
        "\n",
        "\n",
        "data = np.array([1, 2, 3, 1, 2, 4, 5, 3, 2, 4])\n",
        "hist, bins = np.histogram(data,bins=3)\n",
        "print(hist)\n",
        "print(bins)"
      ],
      "metadata": {
        "colab": {
          "base_uri": "https://localhost:8080/"
        },
        "id": "784oqGjKtz7o",
        "outputId": "e3793ada-844f-4879-e7ca-ca6cf6b5edac"
      },
      "execution_count": null,
      "outputs": [
        {
          "output_type": "stream",
          "name": "stdout",
          "text": [
            "[5 2 3]\n",
            "[1.         2.33333333 3.66666667 5.        ]\n"
          ]
        }
      ]
    },
    {
      "cell_type": "code",
      "source": [
        "#Example 03: Setting custom bin boundaries for the histogram:\n",
        "\n",
        "\n",
        "data = np.array([1, 2, 3, 1, 2, 4, 5, 3, 2, 4])\n",
        "hist, bins = np.histogram(data, bins=[0, 2, 4, 6])\n",
        "print(hist)\n",
        "print(bins)\n"
      ],
      "metadata": {
        "colab": {
          "base_uri": "https://localhost:8080/"
        },
        "id": "vB-u6FTDt2vz",
        "outputId": "edc5d4cc-728b-425a-f2bd-2a818d69e5cf"
      },
      "execution_count": null,
      "outputs": [
        {
          "output_type": "stream",
          "name": "stdout",
          "text": [
            "[2 5 3]\n",
            "[0 2 4 6]\n"
          ]
        }
      ]
    },
    {
      "cell_type": "code",
      "source": [
        "# Example 04:\n",
        "\n",
        "import numpy as np\n",
        "data = np.array([18, 20, 18, 25, 20, 30, 32, 35, 38, 40])\n",
        "hist, bin_edges = np.histogram(data)\n",
        "print(\"Histogram values:\",hist)\n",
        "print(\"Bin Edges:\", bin_edges)\n",
        "print(\"Counts:\", hist)"
      ],
      "metadata": {
        "colab": {
          "base_uri": "https://localhost:8080/"
        },
        "id": "i0Vw34g_uoNu",
        "outputId": "20c33528-e7ea-41b9-c2c1-a77ef8b6ee01"
      },
      "execution_count": null,
      "outputs": [
        {
          "output_type": "stream",
          "name": "stdout",
          "text": [
            "Histogram values: [4 0 0 1 0 1 1 1 0 2]\n",
            "Bin Edges: [18.  20.2 22.4 24.6 26.8 29.  31.2 33.4 35.6 37.8 40. ]\n",
            "Counts: [4 0 0 1 0 1 1 1 0 2]\n"
          ]
        }
      ]
    },
    {
      "cell_type": "code",
      "source": [
        "import numpy as np\n",
        "data = np.array([1, 2, 2, 3, 3, 3, 4, 4, 5])\n",
        "hist = np.histogram(data)\n",
        "print(\"Histogram values:\", hist)\n"
      ],
      "metadata": {
        "id": "JX9WVRX1ut3h"
      },
      "execution_count": null,
      "outputs": []
    },
    {
      "cell_type": "code",
      "source": [
        "#Example 05: Specifying the histogram range:\n",
        "\n",
        "data = np.array([1, 2, 3, 1, 2, 4, 5, 3, 2, 4])\n",
        "hist, bins = np.histogram(data, range=(1, 5))\n",
        "print(hist)\n",
        "print(bins)"
      ],
      "metadata": {
        "colab": {
          "base_uri": "https://localhost:8080/"
        },
        "id": "r28BmVzuuwm5",
        "outputId": "73e8ed13-bd3e-4f9c-a977-f630bdbb13ee"
      },
      "execution_count": null,
      "outputs": [
        {
          "output_type": "stream",
          "name": "stdout",
          "text": [
            "[2 0 3 0 0 2 0 2 0 1]\n",
            "[1.  1.4 1.8 2.2 2.6 3.  3.4 3.8 4.2 4.6 5. ]\n"
          ]
        }
      ]
    },
    {
      "cell_type": "markdown",
      "source": [
        "# **Type 9:Numpy.Corrcoef() Function**\n",
        "\n",
        "The numpy.corrcoef() function is a NumPy method used to compute the correlation coefficient between two or more variables in a dataset. It takes a dataset as input and returns a correlation matrix, which shows the pairwise correlations between the variables.\n",
        "\n",
        "The function expects the dataset to be arranged such that each row represents an observation, and each column represents a variable. By calling numpy.corrcoef(data), where data is the dataset, the function calculates the correlation matrix.\n",
        "\n",
        "The resulting correlation matrix is a square matrix where the diagonal elements are always 1, as a variable is perfectly correlated with itself. The off-diagonal elements represent the pairwise correlations between different variables. The correlation coefficients range from -1 to +1, indicating the strength and direction of the relationship between variables.\n",
        "\n",
        "The numpy.corrcoef() function is commonly used in data analysis and statistical computations to understand the dependencies and relationships between variables. It provides valuable insights into the patterns and associations within a dataset, aiding in decision-making and further analysis tasks such as feature selection, regression modeling, and data visualization.\n",
        "\n",
        "Corelation Positive Negative Strength\n",
        "\n",
        "Perfect r=0.9 to 1 r=-0.9 to -1 Strong r=0.5 to 0.9 r=-0.5 to-0.9 Weak r=0.1 to 0.5 r=-0.1 to-0.5\n",
        "\n",
        "**Example 01:**"
      ],
      "metadata": {
        "id": "Zh3apjLHvHnz"
      }
    },
    {
      "cell_type": "code",
      "source": [
        "import numpy as np\n",
        "\n",
        "x = np.array([1, 2, 3, 4, 5])\n",
        "y = np.array([5, 4, 3, 2, 1])\n",
        "print(x)\n",
        "\n",
        "# Compute correlation coefficient\n",
        "corr_matrix = np.corrcoef(x, y)\n",
        "print(corr_matrix)\n",
        "print()\n",
        "# Accessing the correlation coefficient between x and y\n",
        "correlation_coefficient = corr_matrix[0, 1]\n",
        "print(\"Correlation coefficient between x and y:\", correlation_coefficient)\n"
      ],
      "metadata": {
        "colab": {
          "base_uri": "https://localhost:8080/"
        },
        "id": "HrcSMkxkwato",
        "outputId": "a1d2ac53-80ee-40ca-dd56-6044b763b3db"
      },
      "execution_count": null,
      "outputs": [
        {
          "output_type": "stream",
          "name": "stdout",
          "text": [
            "[1 2 3 4 5]\n",
            "[[ 1. -1.]\n",
            " [-1.  1.]]\n",
            "\n",
            "Correlation coefficient between x and y: -0.9999999999999999\n"
          ]
        }
      ]
    },
    {
      "cell_type": "code",
      "source": [
        "\n",
        "# Example 02\n",
        "\n",
        "\n",
        "import numpy as np\n",
        "x = np.array([1, 2, 3, 4, 5])\n",
        "y = np.array([6, 7, 8, 9, 10])\n",
        "correlation_matrix = np.corrcoef(x, y)\n",
        "print(correlation_matrix)\n",
        "print()\n",
        "# Accessing the correlation coefficient between x and y\n",
        "correlation_coefficient = correlation_matrix[0, 1]\n",
        "print(\"Correlation coefficient between x and y:\", correlation_coefficient)"
      ],
      "metadata": {
        "colab": {
          "base_uri": "https://localhost:8080/"
        },
        "id": "owNnKsCjwfKm",
        "outputId": "3408b855-7422-4460-cfb8-1ce9244a64b7"
      },
      "execution_count": null,
      "outputs": [
        {
          "output_type": "stream",
          "name": "stdout",
          "text": [
            "[[1. 1.]\n",
            " [1. 1.]]\n",
            "\n",
            "Correlation coefficient between x and y: 0.9999999999999999\n"
          ]
        }
      ]
    },
    {
      "cell_type": "code",
      "source": [
        "# Example 03\n",
        "\n",
        "\n",
        "x = np.array([1, 2, 3, 4, 5])\n",
        "y = np.array([5, 4, 3, 2, 1])\n",
        "z = np.array([7,8,9,10,11])\n",
        "# Compute correlation coefficient\n",
        "corr_matrix = np.corrcoef([x, y, z])\n",
        "print(corr_matrix)\n",
        "print()\n",
        "# Accessing the correlation coefficient between x and y\n",
        "correlation_coefficient = correlation_matrix[0, 1]\n",
        "print(\"Correlation coefficient between x and y:\", correlation_coefficient)"
      ],
      "metadata": {
        "colab": {
          "base_uri": "https://localhost:8080/"
        },
        "id": "E-rqb4H_wr6n",
        "outputId": "b86eb229-ba9c-4897-9923-62eede830397"
      },
      "execution_count": null,
      "outputs": [
        {
          "output_type": "stream",
          "name": "stdout",
          "text": [
            "[[ 1. -1.  1.]\n",
            " [-1.  1. -1.]\n",
            " [ 1. -1.  1.]]\n",
            "\n",
            "Correlation coefficient between x and y: -0.7535228992754175\n"
          ]
        }
      ]
    },
    {
      "cell_type": "code",
      "source": [
        "# Example 04\n",
        "\n",
        "\n",
        "import numpy as np\n",
        "data = np.random.randn(5, 5)\n",
        "print(data)\n",
        "print()\n",
        "correlation_matrix = np.corrcoef(data, rowvar=False)\n",
        "print(correlation_matrix)"
      ],
      "metadata": {
        "colab": {
          "base_uri": "https://localhost:8080/"
        },
        "id": "R3OCJyhcwwPS",
        "outputId": "8ecc16ea-c431-4e23-bf9e-6d003427a387"
      },
      "execution_count": null,
      "outputs": [
        {
          "output_type": "stream",
          "name": "stdout",
          "text": [
            "[[-0.31595353  1.55211852 -0.78556303  1.82244495  0.7400091 ]\n",
            " [ 0.13528935  0.43088985 -1.52284616 -0.15687243  0.28518398]\n",
            " [ 1.06862787 -1.43192787 -0.89894167 -0.36739627 -0.63360596]\n",
            " [ 0.0442705   0.42811512  0.50127624 -0.30098295  1.08001908]\n",
            " [-0.28975199 -0.43692366  0.04555743 -0.17139821  0.17448505]]\n",
            "\n",
            "[[ 1.         -0.7535229  -0.31425928 -0.50636922 -0.7446183 ]\n",
            " [-0.7535229   1.         -0.02934016  0.75830911  0.82532303]\n",
            " [-0.31425928 -0.02934016  1.         -0.19451441  0.46940243]\n",
            " [-0.50636922  0.75830911 -0.19451441  1.          0.37652679]\n",
            " [-0.7446183   0.82532303  0.46940243  0.37652679  1.        ]]\n"
          ]
        }
      ]
    },
    {
      "cell_type": "markdown",
      "source": [
        "# **Type 10.numpy.ptp() function**"
      ],
      "metadata": {
        "id": "avR4DW-ExYK8"
      }
    },
    {
      "cell_type": "code",
      "source": [
        "# Example 1: Calculating the range of values in a 1D array:\n",
        "\n",
        "\n",
        "import numpy as np\n",
        "\n",
        "# Define a 1D array\n",
        "arr = np.array([3, 7, 1, 9, 5])\n",
        "# Calculate the range using numpy.ptp()\n",
        "range_of_values = np.ptp(arr)\n",
        "# Print the range\n",
        "print(\"Range of values:\", range_of_values)"
      ],
      "metadata": {
        "id": "yVYY2amjw03S"
      },
      "execution_count": null,
      "outputs": []
    },
    {
      "cell_type": "markdown",
      "source": [
        "**Explanation:**\n",
        "\n",
        "In this example, the array arr contains the values [3, 7, 1, 9, 5]. The numpy.ptp() function calculates the range of these values, which is the difference between the maximum value (9) and the minimum value (1), resulting in a range of 8."
      ],
      "metadata": {
        "id": "Ycu48pXvxutZ"
      }
    },
    {
      "cell_type": "code",
      "source": [
        "# Example 2: Calculating the range of values in a 2D array:\n",
        "\n",
        "\n",
        "import numpy as np\n",
        "\n",
        "# Define a 2D array\n",
        "arr = np.array([[1, 5, 3], [2, 9, 7],[4, 6, 8]])\n",
        "range_of_values = np.ptp(arr)\n",
        "# Print the range\n",
        "print(\"Range of values:\", range_of_values)"
      ],
      "metadata": {
        "id": "Gozds9ZYwyy8"
      },
      "execution_count": null,
      "outputs": []
    },
    {
      "cell_type": "markdown",
      "source": [
        "Example 3: Calculating the range of values in a 2D array along a specified axis:\n",
        "\n",
        "\n",
        "\n"
      ],
      "metadata": {
        "id": "N9j51u3wx7qE"
      }
    },
    {
      "cell_type": "code",
      "source": [
        "import numpy as np\n",
        "\n",
        "# Define a 2D array\n",
        "arr = np.array([[1, 5, 3],[2, 9, 7],[4, 6, 8]])\n",
        "print(arr)\n",
        "print()\n",
        "# Calculate the range along axis 0 using numpy.ptp()\n",
        "range_of_values_axis_0 = np.ptp(arr, axis=0)\n",
        "# Calculate the range along axis 1 using numpy.ptp()\n",
        "range_of_values_axis_1 = np.ptp(arr, axis=1)\n",
        "# Print the ranges\n",
        "print(\"Range of values along axis 0:\", range_of_values_axis_0)\n",
        "print(\"Range of values along axis 1:\", range_of_values_axis_1)\n",
        "\n"
      ],
      "metadata": {
        "colab": {
          "base_uri": "https://localhost:8080/"
        },
        "id": "Vx5asKbFyHaO",
        "outputId": "e1f7dd54-95d0-43a3-97c3-075dffe1a329"
      },
      "execution_count": null,
      "outputs": [
        {
          "output_type": "stream",
          "name": "stdout",
          "text": [
            "[[1 5 3]\n",
            " [2 9 7]\n",
            " [4 6 8]]\n",
            "\n",
            "Range of values along axis 0: [3 4 5]\n",
            "Range of values along axis 1: [4 7 4]\n"
          ]
        }
      ]
    },
    {
      "cell_type": "markdown",
      "source": [
        "**Explanation:**\n",
        "\n",
        "In this example, the 2D array arr has dimensions 3x3. By specifying axis=0 in numpy.ptp(), it calculates the range of values along each column, resulting in an array [3, 4, 5]. Similarly, by specifying axis=1, it calculates the range of values along each row, resulting in an array [4, 7, 4]."
      ],
      "metadata": {
        "id": "GrOEOc3zx-3w"
      }
    },
    {
      "cell_type": "markdown",
      "source": [
        "# **Type 11: The numpy.average() function:**\n",
        "\n",
        "**Example 1: Calculate the average of an array**\n",
        "\n",
        "\n",
        "\n",
        "\n",
        "\n",
        "\n"
      ],
      "metadata": {
        "id": "gedaOH5fyTas"
      }
    },
    {
      "cell_type": "code",
      "source": [
        "import numpy as np\n",
        "arr = np.array([1, 2, 3, 4, 5])\n",
        "average = np.average(arr)\n",
        "print(average)"
      ],
      "metadata": {
        "colab": {
          "base_uri": "https://localhost:8080/"
        },
        "id": "xjzbV5RKyTHA",
        "outputId": "3b972a01-a420-488c-9d76-5ba86ca4c768"
      },
      "execution_count": null,
      "outputs": [
        {
          "output_type": "stream",
          "name": "stdout",
          "text": [
            "3.0\n"
          ]
        }
      ]
    },
    {
      "cell_type": "code",
      "source": [
        "\n",
        "# Example 2: Calculate the average of a 2D array along a specific axis:\n",
        "\n",
        "\n",
        "import numpy as np\n",
        "arr = np.array([[1, 2, 3], [4, 5, 6], [7, 8, 9]])\n",
        "print(arr)\n",
        "print()\n",
        "average = np.average(arr, axis=1)\n",
        "print(average)"
      ],
      "metadata": {
        "colab": {
          "base_uri": "https://localhost:8080/"
        },
        "id": "jQL4NEFSydqg",
        "outputId": "4cd9c14d-dff7-4160-b470-4355da29a8f8"
      },
      "execution_count": null,
      "outputs": [
        {
          "output_type": "stream",
          "name": "stdout",
          "text": [
            "[[1 2 3]\n",
            " [4 5 6]\n",
            " [7 8 9]]\n",
            "\n",
            "[2. 5. 8.]\n"
          ]
        }
      ]
    },
    {
      "cell_type": "code",
      "source": [
        "\n",
        "# Example 3: Calculate the weighted average of an array\n",
        "\n",
        "\n",
        "import numpy as np\n",
        "arr = np.array([1, 2, 3, 4, 5])\n",
        "weights = np.array([0.1, 0.2, 0.3, 0.2, 0.2])\n",
        "weighted_average = np.average(arr, weights=weights)\n",
        "print(weighted_average)"
      ],
      "metadata": {
        "colab": {
          "base_uri": "https://localhost:8080/"
        },
        "id": "8zFpOShOykFZ",
        "outputId": "e1c2d5f8-2dea-4163-f6d7-6477b4c8ec90"
      },
      "execution_count": null,
      "outputs": [
        {
          "output_type": "stream",
          "name": "stdout",
          "text": [
            "3.2\n"
          ]
        }
      ]
    }
  ]
}