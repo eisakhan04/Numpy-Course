{
  "cells": [
    {
      "cell_type": "markdown",
      "metadata": {
        "id": "view-in-github",
        "colab_type": "text"
      },
      "source": [
        "<a href=\"https://colab.research.google.com/github/eisakhan04/Numpy-Course/blob/main/Topic_16_numpy_Rounding_Decimal.ipynb\" target=\"_parent\"><img src=\"https://colab.research.google.com/assets/colab-badge.svg\" alt=\"Open In Colab\"/></a>"
      ]
    },
    {
      "cell_type": "markdown",
      "metadata": {
        "id": "J8sEaVNz1_iI"
      },
      "source": [
        "**Topic 14: Rounding Decimal:**\n",
        "\n",
        "Rounding decimals means approximating a decimal number to the nearest whole number, or a specific number of decimal places, based on a set of rules. These rules can vary depending on the situation and the desired level of accuracy. Generally, rounding involves looking at the digit immediately to the right of the rounding point and determining whether to round up or down based on its value. For example, if rounding to the nearest whole number, any decimal less than 0.5 is rounded down, while any decimal greater than or equal to 0.5 is rounded up. Rounding can be useful in situations where exact values are not necessary or when dealing with large sets of data.\n",
        "\n",
        "**There are primarily five ways of rounding off decimals in NumPy:**\n",
        "\n",
        "1. truncation\n",
        "2. fix\n",
        "3. rounding\n",
        "4. floor\n",
        "5. ceil"
      ]
    },
    {
      "cell_type": "markdown",
      "metadata": {
        "id": "q71Tb8Ml2Wel"
      },
      "source": [
        "**Type 1.The trunc() method:**\n",
        "\n",
        "In NumPy is a mathematical function that returns the truncated value of an input array or scalar. It rounds the input values towards zero to the nearest integer or to a specified decimal place."
      ]
    },
    {
      "cell_type": "code",
      "source": [
        "import numpy as np\n",
        "a = np.array([-2.5, -1.7, 0.3, 1.5, 2.8])\n",
        "print(\"Input array:\",a)\n",
        "print()\n",
        "\n",
        "#b = np.trunc(a)\n",
        "#print(\"output  array:\",b)\n"
      ],
      "metadata": {
        "colab": {
          "base_uri": "https://localhost:8080/"
        },
        "id": "Dd11xcYiA64v",
        "outputId": "bb08b0f3-d152-4781-820d-4234b16f163b"
      },
      "execution_count": 6,
      "outputs": [
        {
          "output_type": "stream",
          "name": "stdout",
          "text": [
            "Input array: [ 3. +0.j -1.7+0.j  0.3+0.j  1.5+0.j  2.8+0.j]\n",
            "\n"
          ]
        }
      ]
    },
    {
      "cell_type": "markdown",
      "source": [
        "**Explanation:**\n",
        "\n",
        "The given code creates a NumPy array named 'a' with five floating-point values: -2.5, -1.7, 0.3, 1.5, and 2.8. The 'print()' function is used to display this input array 'a' in the console.\n",
        "\n",
        "Next, the 'np.trunc()' function from the NumPy library is applied to the input array 'a'. This function truncates the decimal part of each element in 'a' and returns an array of integers with the same shape as the input array. The truncated values are then stored in another array named 'b'.\n",
        "\n",
        "Finally, the 'print()' function is used to display the resulting truncated array 'b' in the console.\n",
        "\n",
        "In summary, the code truncates the decimal values of each element in an array of floating-point numbers using the NumPy library function 'np.trunc()'. It then stores the resulting truncated integer values in a new array 'b', and displays both the input array 'a' and the truncated output array 'b' in the console."
      ],
      "metadata": {
        "id": "yJYsqsQjBPHd"
      }
    },
    {
      "cell_type": "code",
      "execution_count": null,
      "metadata": {
        "colab": {
          "base_uri": "https://localhost:8080/"
        },
        "id": "THQJtnZi2dfz",
        "outputId": "5e5c8b7e-c01e-4fe1-b579-450583ecd26b"
      },
      "outputs": [
        {
          "name": "stdout",
          "output_type": "stream",
          "text": [
            "[ 2. -3.  5.  3. -4.]\n"
          ]
        }
      ],
      "source": [
        "import numpy as np\n",
        "a = np.array([2.23,-3.34,5.467,3.678,-4.67])\n",
        "b = np.trunc(a)\n",
        "print(b)"
      ]
    },
    {
      "cell_type": "code",
      "execution_count": null,
      "metadata": {
        "colab": {
          "base_uri": "https://localhost:8080/"
        },
        "id": "yBg2BWUipjCW",
        "outputId": "9084dc92-1ed0-40ea-f291-584039ce9e57"
      },
      "outputs": [
        {
          "name": "stdout",
          "output_type": "stream",
          "text": [
            "[[4. 6. 1. 4.]\n",
            " [6. 7. 9. 8.]]\n"
          ]
        }
      ],
      "source": [
        "import numpy as np\n",
        "a = np.array([[4.55,6.66,1.34,4.23],[6.45,7.23,9.23,8.33]])\n",
        "b = np.trunc(a)\n",
        "print(b)"
      ]
    },
    {
      "cell_type": "markdown",
      "metadata": {
        "id": "oaUfV7_h4WCq"
      },
      "source": [
        "**2. fix Decimal:**\n",
        "\n",
        "numpy is a Python library that provides support for working with arrays and matrices of numerical data. The fix() function; is a part of this library and it is used to round off the given input values towards zero."
      ]
    },
    {
      "cell_type": "code",
      "execution_count": 7,
      "metadata": {
        "colab": {
          "base_uri": "https://localhost:8080/"
        },
        "id": "mmNWaVsZ4bXG",
        "outputId": "7218ded0-d97e-48d1-8650-4ad84525506d"
      },
      "outputs": [
        {
          "output_type": "stream",
          "name": "stdout",
          "text": [
            "[ 2. -3.  5.  3. -4.]\n"
          ]
        }
      ],
      "source": [
        "import numpy as np\n",
        "a = np.array([2.23,-3.34,5.467,3.678,-4.67])\n",
        "b = np.fix(a)\n",
        "print(b)"
      ]
    },
    {
      "cell_type": "code",
      "execution_count": null,
      "metadata": {
        "colab": {
          "base_uri": "https://localhost:8080/"
        },
        "id": "AIFOx_YBqt8n",
        "outputId": "714ad707-ef2f-4b7f-a947-d1e7655654d0"
      },
      "outputs": [
        {
          "name": "stdout",
          "output_type": "stream",
          "text": [
            "[[4. 5. 6. 7.]\n",
            " [6. 7. 3. 2.]\n",
            " [5. 5. 7. 8.]]\n"
          ]
        }
      ],
      "source": [
        "import numpy as np\n",
        "a = np.array([[4.23,5.34,6.43,7.43],[6.78,7.67,3.89,2.56],[5.23,5.67,7.34,8.90]])\n",
        "b = np.fix(a)\n",
        "print(b)"
      ]
    },
    {
      "cell_type": "markdown",
      "metadata": {
        "id": "nPHn0Seq4moV"
      },
      "source": [
        "**Te 3. Numpy Arounding Methodyp**\n",
        "\n",
        "The around() method in NumPy is a rounding function that is used to round off an array of numbers to a specified number of decimal places. It rounds the array elements to the nearest even number when the number is exactly halfway between two possible rounded values. The method takes two arguments: the input array and the number of decimal places to round to. If the second argument is omitted, the method rounds each element to the nearest integer. The around() method can be used on both one-dimensional and multi-dimensional arrays, and can be used to convert floating-point numbers to integers. It is a useful tool for data manipulation in scientific computing, data analysis, and machine learning applications."
      ]
    },
    {
      "cell_type": "code",
      "execution_count": 8,
      "metadata": {
        "colab": {
          "base_uri": "https://localhost:8080/"
        },
        "id": "o7HzlUQ_4ttu",
        "outputId": "fe6b2c76-5589-479d-cccc-6f8fbce8b5fd"
      },
      "outputs": [
        {
          "output_type": "stream",
          "name": "stdout",
          "text": [
            "[ 2. -3.  5.  4. -5.]\n"
          ]
        }
      ],
      "source": [
        "import numpy as np\n",
        "a = np.array([2.23,-3.34,5.467,3.678,-4.67])\n",
        "b = np.around(a)\n",
        "print(b)"
      ]
    },
    {
      "cell_type": "code",
      "execution_count": null,
      "metadata": {
        "colab": {
          "base_uri": "https://localhost:8080/"
        },
        "id": "CADHa8Tzs-pD",
        "outputId": "667d9171-6acb-47df-d9bc-27a3bda6a42d"
      },
      "outputs": [
        {
          "name": "stdout",
          "output_type": "stream",
          "text": [
            "[[ 3.  6.  2.  8.]\n",
            " [ 5.  7. 10.  2.]]\n"
          ]
        }
      ],
      "source": [
        "import numpy as np\n",
        "a = np.array([[3.45,5.56,2.33,7.89],[5.43,6.78,9.90,2.45]])\n",
        "b = np.around(a)\n",
        "print(b)"
      ]
    },
    {
      "cell_type": "code",
      "execution_count": null,
      "metadata": {
        "colab": {
          "base_uri": "https://localhost:8080/"
        },
        "id": "_Yr04NDG5ZYU",
        "outputId": "308799e1-2ffd-487e-f3c9-5b85067da3bd"
      },
      "outputs": [
        {
          "name": "stdout",
          "output_type": "stream",
          "text": [
            "[ 2.24 -3.34  5.47  3.68 -4.6 ]\n"
          ]
        }
      ],
      "source": [
        "import numpy as np\n",
        "a = np.array([2.235,-3.341,5.467,3.678,-4.6])\n",
        "b = np.around(a,decimals=2)\n",
        "print(b)"
      ]
    },
    {
      "cell_type": "code",
      "execution_count": null,
      "metadata": {
        "colab": {
          "base_uri": "https://localhost:8080/"
        },
        "id": "mLeYP85fuWIw",
        "outputId": "37394a92-496a-4449-8d7c-97ca184f71a0"
      },
      "outputs": [
        {
          "name": "stdout",
          "output_type": "stream",
          "text": [
            "[6.45 3.57 7.34 7.79]\n"
          ]
        }
      ],
      "source": [
        "import numpy as np\n",
        "a = np.array([6.451,3.566,7.343,7.789])\n",
        "b = np.around(a,decimals=2)\n",
        "print(b)"
      ]
    },
    {
      "cell_type": "markdown",
      "metadata": {
        "id": "CeCrTuwM6lQk"
      },
      "source": [
        "**4. Floor Decimal**\n",
        "\n",
        "lowest integer"
      ]
    },
    {
      "cell_type": "markdown",
      "source": [
        "**Type 4. Numpy floor() method**\n",
        "\n",
        "The Numpy floor() function is a mathematical function that is used to round down the elements of an input array to the nearest integer or (round off decimals to the lower integer). The function returns a new array with the same shape as the input array.\n",
        "\n",
        "In summary:\n",
        "\n",
        "the Numpy floor() function is useful for mathematical operations that require rounding down of array elements to the nearest integer or multiple of a specified value."
      ],
      "metadata": {
        "id": "gnf_52-Y5hLG"
      }
    },
    {
      "cell_type": "code",
      "execution_count": null,
      "metadata": {
        "colab": {
          "base_uri": "https://localhost:8080/"
        },
        "id": "_Gx5QUar6xAI",
        "outputId": "558ce55b-faaf-4e3f-c3b7-c8eab0fbf300"
      },
      "outputs": [
        {
          "name": "stdout",
          "output_type": "stream",
          "text": [
            "[ 2. -4.  5.  3. -5.]\n"
          ]
        }
      ],
      "source": [
        "import numpy as np\n",
        "a = np.array([2.235,-3.341,5.467,3.678,-4.6])\n",
        "b = np.floor(a)\n",
        "print(b)"
      ]
    },
    {
      "cell_type": "code",
      "execution_count": null,
      "metadata": {
        "colab": {
          "base_uri": "https://localhost:8080/"
        },
        "id": "utq7rxtZw7Ap",
        "outputId": "581eb36d-cc29-48d0-cea8-a9cc99f68c7d"
      },
      "outputs": [
        {
          "name": "stdout",
          "output_type": "stream",
          "text": [
            "[ 8. -9.  9.  9.  8.]\n"
          ]
        }
      ],
      "source": [
        "import numpy as np\n",
        "a = np.array([8.897,-8.367,9.4567,9.68,8.6])\n",
        "b = np.floor(a)\n",
        "print(b)"
      ]
    },
    {
      "cell_type": "markdown",
      "metadata": {
        "id": "tU79oA417HN1"
      },
      "source": [
        "**5.ceiling Decimal**\n",
        "\n",
        "highest integer"
      ]
    },
    {
      "cell_type": "markdown",
      "source": [
        "**Type 5. Topic=Numpy ceil() method**\n",
        "\n",
        "NumPy is a Python library used for numerical computing, and it includes a variety of mathematical functions. The ceil() function is one such function, and it is used to round up a given input to the nearest integer(round off decimal to the upper integer)."
      ],
      "metadata": {
        "id": "Z4Fde5-f6b_V"
      }
    },
    {
      "cell_type": "code",
      "execution_count": null,
      "metadata": {
        "colab": {
          "base_uri": "https://localhost:8080/"
        },
        "id": "komleC5X7OpX",
        "outputId": "56e02ea5-28e2-4536-88ec-09775230ca77"
      },
      "outputs": [
        {
          "name": "stdout",
          "output_type": "stream",
          "text": [
            "[ 3. -3.  6.  4. -4.]\n"
          ]
        }
      ],
      "source": [
        "import numpy as np\n",
        "a = np.array([2.235,-3.341,5.467,3.678,-4.6])\n",
        "b = np.ceil(a)\n",
        "print(b)"
      ]
    },
    {
      "cell_type": "markdown",
      "source": [
        "**Explanation:**\n",
        "\n",
        "The provided code first creates a Python list named \"a\" with four floating-point values: -2.23, 0.12, -1.34, and 123.34.\n",
        "\n",
        "Then, the code prints the contents of the \"a\" list to the console with the message \"Input array:\" using the Python \"print()\" function.\n",
        "\n",
        "An empty line is printed to the console using the Python \"print()\" function with no argument.\n",
        "\n",
        "Next, the code uses the NumPy function \"np.ceil()\" to round up the values in the \"a\" list to the nearest higher integer. The resulting array is stored in a new variable named \"b\".\n",
        "\n",
        "Finally, the code prints the contents of the \"b\" array to the console with the message \"Output array:\" using the Python \"print()\" function.\n",
        "\n",
        "In summary, this code demonstrates the use of NumPy's mathematical function \"np.ceil()\" to perform the ceiling operation on a list of values. The ceiling operation rounds a number up to the nearest integer.\n",
        "\n"
      ],
      "metadata": {
        "id": "4Pym9zLB7dr6"
      }
    },
    {
      "cell_type": "code",
      "execution_count": null,
      "metadata": {
        "colab": {
          "base_uri": "https://localhost:8080/"
        },
        "id": "NeOlgwYcyc4p",
        "outputId": "628c2af9-ef94-4cc2-b192-cc95edbdd63c"
      },
      "outputs": [
        {
          "name": "stdout",
          "output_type": "stream",
          "text": [
            "[3. 4. 7. 9.]\n"
          ]
        }
      ],
      "source": [
        "import numpy as np\n",
        "a = np.array([2.67,3.6576,6.877,8.75])\n",
        "b = np.ceil(a)\n",
        "print(b)"
      ]
    }
  ],
  "metadata": {
    "colab": {
      "provenance": [],
      "include_colab_link": true
    },
    "kernelspec": {
      "display_name": "Python 3",
      "name": "python3"
    },
    "language_info": {
      "name": "python"
    }
  },
  "nbformat": 4,
  "nbformat_minor": 0
}