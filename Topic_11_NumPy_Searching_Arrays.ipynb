{
  "nbformat": 4,
  "nbformat_minor": 0,
  "metadata": {
    "colab": {
      "provenance": [],
      "authorship_tag": "ABX9TyNxb7PDsitbMXwYi6RqDDoi",
      "include_colab_link": true
    },
    "kernelspec": {
      "name": "python3",
      "display_name": "Python 3"
    },
    "language_info": {
      "name": "python"
    }
  },
  "cells": [
    {
      "cell_type": "markdown",
      "metadata": {
        "id": "view-in-github",
        "colab_type": "text"
      },
      "source": [
        "<a href=\"https://colab.research.google.com/github/eisakhan04/Numpy-Course/blob/main/Topic_11_NumPy_Searching_Arrays.ipynb\" target=\"_parent\"><img src=\"https://colab.research.google.com/assets/colab-badge.svg\" alt=\"Open In Colab\"/></a>"
      ]
    },
    {
      "cell_type": "markdown",
      "source": [
        "**Topic 11: NumPy Searching Arrays**"
      ],
      "metadata": {
        "id": "tauqxvXHsdVa"
      }
    },
    {
      "cell_type": "markdown",
      "source": [
        "# Topic 11: NumPy Searching Arrays\n",
        "NumPy provides a number of functions for searching arrays. Some of the most commonly used functions are:\n",
        "\n",
        "1. where() : This function returns the indices of elements in an input array where the given condition is satisfied.\n",
        "2. argmin() : This function returns the index of the minimum value in an array.\n",
        "3. argmax() : This function returns the index of the maximum value in an array.\n",
        "4. searchsorted() : This function returns the index where the specified value would be inserted to maintain the search     order."
      ],
      "metadata": {
        "id": "lS-HGSkDgtr6"
      }
    },
    {
      "cell_type": "markdown",
      "source": [
        "**Numpy where() function**"
      ],
      "metadata": {
        "id": "IcDnNIT8skIN"
      }
    },
    {
      "cell_type": "code",
      "source": [
        "import numpy as np\n",
        "a =np.array([[1,2,3,4,5,6]])\n",
        "b= np.where(a==5)\n",
        "print(\"this value index is=\",b)"
      ],
      "metadata": {
        "id": "JjEVJ4Frs6aI"
      },
      "execution_count": null,
      "outputs": []
    },
    {
      "cell_type": "markdown",
      "source": [
        "# Explanation\n",
        "This program first imports the numpy library. Then, it creates a NumPy array a with the values 1, 2, 3, 4, 5, and 6. Next, it uses the where() function to find the indices of all the elements in a that are equal to 5. The where() function returns a tuple of two arrays, the first of which contains the indices of the elements that match the condition, and the second of which contains the values of the elements that match the condition. In this case, the first array will contain a single element, which is the index of the 5 in a. Finally, the program prints the value of the b tuple, which is the index of the 5 in a.\n",
        "\n"
      ],
      "metadata": {
        "id": "_hqWj3Xlg467"
      }
    },
    {
      "cell_type": "code",
      "source": [
        "a =np.array([[1,2,5,4,5,6,5,6,7]])\n",
        "b=np.where(a==5)\n",
        "print(b)"
      ],
      "metadata": {
        "colab": {
          "base_uri": "https://localhost:8080/"
        },
        "id": "czBuB2TztlkP",
        "outputId": "7a676846-c364-40ff-dd0a-f6a395c65184"
      },
      "execution_count": 4,
      "outputs": [
        {
          "output_type": "stream",
          "name": "stdout",
          "text": [
            "(array([0, 0, 0, 1, 1, 1]), array([2, 5, 7, 0, 3, 7]))\n"
          ]
        }
      ]
    },
    {
      "cell_type": "code",
      "source": [
        "a =np.array([[1,2,5,4,5,6,5,6,7],[43,53,55,72,33,33,44,67,55]])\n",
        "b=np.where(a==55)\n",
        "print(b)"
      ],
      "metadata": {
        "id": "cp-Z2ISPhFMR"
      },
      "execution_count": null,
      "outputs": []
    },
    {
      "cell_type": "markdown",
      "source": [
        "**Find Even Number by where() function**"
      ],
      "metadata": {
        "id": "yg9p_NKchLfx"
      }
    },
    {
      "cell_type": "code",
      "source": [
        "a =np.array([[1,2,5,4,5,6,5,6,7],[43,53,55,72,33,33,44,67,55]])\n",
        "b=np.where(a%2==0)\n",
        "print(b)"
      ],
      "metadata": {
        "colab": {
          "base_uri": "https://localhost:8080/"
        },
        "id": "ZKAIEWrMub9G",
        "outputId": "21ef2fff-1a12-4997-f76c-d0675c8eb588"
      },
      "execution_count": 5,
      "outputs": [
        {
          "output_type": "stream",
          "name": "stdout",
          "text": [
            "(array([0, 0, 0, 0, 1, 1, 1, 1, 1]), array([2, 4, 5, 7, 0, 2, 3, 6, 7]))\n"
          ]
        }
      ]
    },
    {
      "cell_type": "markdown",
      "source": [
        "# Explanation\n",
        "This program first imports the numpy library. Then, it creates a NumPy array a with the values 1, 2, 5, 4, 5, 6, 5, 6, 7, 43, 53, 55, 72, 33, 33, 44, 67, 55. Next, it uses the where() function to find the indices of all the elements in a that are even numbers. The where() function returns a tuple of two arrays, the first of which contains the indices of the elements that match the condition, and the second of which contains the values of the elements that match the condition. In this case, the first array will contain the indices of all the even numbers in a, and the second array will contain the values of all the even numbers in a. Finally, the program prints the value of the b tuple, which is a tuple of two arrays containing the indices and values of all the even numbers in a.\n",
        "\n",
        "In other words, this program finds the indices and values of all the even numbers in the NumPy array a and prints them out.\n",
        "\n",
        "The output of the program will be a tuple of two arrays:\n",
        "\n",
        "(array([0, 1, 3, 5, 7, 9]), array([1, 5, 7, 3, 6, 5]))\n",
        "The first array contains the indices of the even numbers in a, and the second array contains the values of the even numbers in a."
      ],
      "metadata": {
        "id": "HwisljZxhR_j"
      }
    },
    {
      "cell_type": "markdown",
      "source": [
        "**Find Odd Number by where() function**"
      ],
      "metadata": {
        "id": "-mSOieGghZXf"
      }
    },
    {
      "cell_type": "code",
      "source": [
        "a =np.array([[1,2,5,4,5,6,5,6,7],[43,53,55,72,33,33,44,67,55]])\n",
        "b=np.where(a%2==1)\n",
        "print(b)"
      ],
      "metadata": {
        "colab": {
          "base_uri": "https://localhost:8080/"
        },
        "id": "uVzKMpW1u_8h",
        "outputId": "7c3d8414-6a59-4468-ee52-56378ad02a71"
      },
      "execution_count": 6,
      "outputs": [
        {
          "output_type": "stream",
          "name": "stdout",
          "text": [
            "(array([0, 0, 0, 0, 1, 1, 1]), array([0, 1, 3, 6, 1, 4, 5]))\n"
          ]
        }
      ]
    },
    {
      "cell_type": "markdown",
      "source": [
        "# Explanation:\n",
        "This program first imports the numpy library. Then, it creates a NumPy array a with the values 1, 2, 5, 4, 5, 6, 5, 6, 7, 43, 53, 55, 72, 33, 33, 44, 67, 55. Next, it uses the where() function to find the indices of all the elements in a that are odd numbers. The where() function returns a tuple of two arrays, the first of which contains the indices of the elements that match the condition, and the second of which contains the values of the elements that match the condition. In this case, the first array will contain the indices of all the odd numbers in a, and the second array will contain the values of all the odd numbers in a. Finally, the program prints the value of the b tuple, which is a tuple of two arrays containing the indices and values of all the odd numbers in a.\n",
        "\n",
        "In other words, this program finds the indices and values of all the odd numbers in the NumPy array a and prints them out.\n",
        "\n",
        "The output of the program will be a tuple of two arrays:\n",
        "\n",
        "(array([0, 2, 4, 6, 8, 9, 10, 11, 12]), array([1, 3, 5, 7, 9, 5, 7, 9, 5]))\n",
        "The first array contains the indices of the odd numbers in a, and the second array contains the values of the odd numbers in a.\n"
      ],
      "metadata": {
        "id": "9zsy6c-Ohkn4"
      }
    },
    {
      "cell_type": "markdown",
      "source": [
        "**argmax() function argument maximum function in numpy**"
      ],
      "metadata": {
        "id": "7ruOCjvuviZW"
      }
    },
    {
      "cell_type": "code",
      "source": [
        "import numpy as np\n",
        "a = np.array([[1,3,4,5,6,4,9,4],[4,9,6,4,3,9,88,4]])\n",
        "b = np.argmax(a)\n",
        "print(b)"
      ],
      "metadata": {
        "colab": {
          "base_uri": "https://localhost:8080/"
        },
        "id": "4BK5mRQXvud3",
        "outputId": "8705de97-da74-40ab-dbf7-9e1465fd8e55"
      },
      "execution_count": 10,
      "outputs": [
        {
          "output_type": "stream",
          "name": "stdout",
          "text": [
            "14\n"
          ]
        }
      ]
    },
    {
      "cell_type": "code",
      "source": [
        "a = np.array([[1,3,4,5,6,4,9,4],[4,9,6,4,3,9,88,4]])\n",
        "b=np.argmax(a)\n",
        "print(b)"
      ],
      "metadata": {
        "id": "4X6kwt8JwEge"
      },
      "execution_count": null,
      "outputs": []
    },
    {
      "cell_type": "markdown",
      "source": [
        "# Explanation:\n",
        "This program first imports the numpy library. Then, it creates a NumPy array a with the values 1, 3, 4, 5, 6, 4, 9, 4, 4, 9, 6, 4, 3, 9, 88, 4. Next, it uses the argmax() function to find the index of the maximum value in a. The argmax() function returns the index of the element with the maximum value in the array. In this case, the maximum value in a is 88, and its index is 14. Finally, the program prints the value of the b variable, which is the index of the maximum value in a.\n",
        "\n",
        "The output of the program will be 14."
      ],
      "metadata": {
        "id": "6YO-kUR-h0gn"
      }
    },
    {
      "cell_type": "markdown",
      "source": [
        "**argmin() function argument minimum function in numpy**"
      ],
      "metadata": {
        "id": "H_EHHN8kh9Hn"
      }
    },
    {
      "cell_type": "code",
      "source": [
        "a = np.array([[1,3,4,5,6,4,9,4],[4,9,6,4,3,9,88,4]])\n",
        "b=np.argmin(a)\n",
        "print(b)"
      ],
      "metadata": {
        "id": "c2h75D_Cw2oQ"
      },
      "execution_count": null,
      "outputs": []
    },
    {
      "cell_type": "markdown",
      "source": [
        "# Explanation:\n",
        "This program first imports the numpy library. Then, it creates a NumPy array a with the values 1, 3, 4, 5, 6, 4, 9, 4, 4, 9, 6, 4, 3, 9, 88, 4. Next, it uses the argmin() function to find the index of the minimum value in a. The argmin() function returns the index of the element with the minimum value in the array. In this case, the minimum value in a is 1, and its index is 0. Finally, the program prints the value of the b variable, which is the index of the minimum value in a.\n",
        "\n",
        "The output of the program will be 0."
      ],
      "metadata": {
        "id": "Kk8lMSp1iK15"
      }
    },
    {
      "cell_type": "code",
      "source": [
        "import numpy as np\n",
        "a = np.array([[1,3,4,5,6,4,9,4],[4,9,6,4,3,9,88,4]])\n",
        "b = np.argmin(a)\n",
        "print(b)"
      ],
      "metadata": {
        "colab": {
          "base_uri": "https://localhost:8080/"
        },
        "id": "s_8j5oIAxD64",
        "outputId": "5306dd8b-340d-4b86-9a4a-3235454537fc"
      },
      "execution_count": 19,
      "outputs": [
        {
          "output_type": "stream",
          "name": "stdout",
          "text": [
            "0\n"
          ]
        }
      ]
    },
    {
      "cell_type": "markdown",
      "source": [
        "**searchsorted() function**"
      ],
      "metadata": {
        "id": "2t9hoAO4iRv5"
      }
    },
    {
      "cell_type": "code",
      "source": [
        "a = np.array([1,3,4,5,6,4,9,4])\n",
        "value=9\n",
        "b=np.searchsorted(a,value)\n",
        "print(b)"
      ],
      "metadata": {
        "id": "GpleqfAAiUs_"
      },
      "execution_count": null,
      "outputs": []
    },
    {
      "cell_type": "markdown",
      "source": [
        "# Explanation\n",
        "This program first imports the numpy library. Then, it creates a NumPy array a with the values 1, 3, 4, 5, 6, 4, 9, 4. Next, it uses the searchsorted() function to find the index where the value 9 would be inserted to maintain the search order. The searchsorted() function returns the index of the first element in a that is greater than or equal to the value, or the length of a if no such element exists. In this case, the value 9 would be inserted at index 4 in a to maintain the search order, so the output of the program will be 4.\n",
        "\n",
        "The output of the program will be 4."
      ],
      "metadata": {
        "id": "t9AWZCKti0qa"
      }
    },
    {
      "cell_type": "code",
      "source": [
        "import numpy as np\n",
        "\n",
        "arr = np.array([8,6, 7, 9])\n",
        "\n",
        "x = np.searchsorted(arr, 7)\n",
        "\n",
        "print(x)"
      ],
      "metadata": {
        "colab": {
          "base_uri": "https://localhost:8080/"
        },
        "id": "DVNmiRH9xYan",
        "outputId": "8407a927-0ba8-444d-a849-1d6623888aca"
      },
      "execution_count": 18,
      "outputs": [
        {
          "output_type": "stream",
          "name": "stdout",
          "text": [
            "2\n"
          ]
        }
      ]
    },
    {
      "cell_type": "code",
      "source": [
        "import numpy as np\n",
        "\n",
        "arr = np.array([6, 7, 8, 9,10,5,12])\n",
        "arr = np.array([6, 7, 8, 9,10,5,12])\n",
        "x = np.searchsorted(arr, 5, side='right')\n",
        "\n",
        "print(x)"
      ],
      "metadata": {
        "colab": {
          "base_uri": "https://localhost:8080/"
        },
        "id": "YkyFYfh2x93O",
        "outputId": "f02eeda9-c50c-4d44-90fc-ae7e4bc983cf"
      },
      "execution_count": 17,
      "outputs": [
        {
          "output_type": "stream",
          "name": "stdout",
          "text": [
            "0\n"
          ]
        }
      ]
    }
  ]
}