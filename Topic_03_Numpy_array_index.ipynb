{
  "nbformat": 4,
  "nbformat_minor": 0,
  "metadata": {
    "colab": {
      "provenance": [],
      "authorship_tag": "ABX9TyO679TlfN4+UHBGubZlXAZR",
      "include_colab_link": true
    },
    "kernelspec": {
      "name": "python3",
      "display_name": "Python 3"
    },
    "language_info": {
      "name": "python"
    }
  },
  "cells": [
    {
      "cell_type": "markdown",
      "metadata": {
        "id": "view-in-github",
        "colab_type": "text"
      },
      "source": [
        "<a href=\"https://colab.research.google.com/github/onlyone11s/Numpy-Course/blob/main/Topic_03_Numpy_array_index.ipynb\" target=\"_parent\"><img src=\"https://colab.research.google.com/assets/colab-badge.svg\" alt=\"Open In Colab\"/></a>"
      ]
    },
    {
      "cell_type": "markdown",
      "source": [
        "# **Topic 03: Numpy array index**\n",
        "NumPy is a popular Python library used for scientific computing, particularly for numerical operations and data analysis. One of the most important features of NumPy is its powerful array indexing capabilities.\n",
        "\n",
        "Array indexing refers to the way in which elements of an array are selected and manipulated. In NumPy, arrays can be indexed using various methods, such as slicing, fancy indexing, and boolean indexing. Slicing involves selecting a range of elements from an array, while fancy indexing allows you to select elements using a list or array of indices. Boolean indexing involves selecting elements based on a condition or logical expression.\n",
        "\n",
        "NumPy array indexing can be used for a wide range of tasks, such as filtering data, selecting specific elements from an array, and performing mathematical operations on subsets of an array. With its efficient array indexing capabilities, NumPy is an essential tool for many scientific and data analysis applications in Python.\n",
        "To access elements or subsets of a NumPy array, you can use indexing. NumPy provides several ways to index arrays, including basic indexing, advanced indexing, and Boolean indexing."
      ],
      "metadata": {
        "id": "cCEIjqAgmdE9"
      }
    },
    {
      "cell_type": "markdown",
      "source": [
        "# Basic Indexing:\n",
        "Basic indexing involves accessing elements at specific indices using square brackets [].\n",
        "The indices start from 0 for the first element."
      ],
      "metadata": {
        "id": "OigWgGHCKHGZ"
      }
    },
    {
      "cell_type": "markdown",
      "source": [
        "***(01) index one-dimension Array***"
      ],
      "metadata": {
        "id": "APkXKGMcCvPB"
      }
    },
    {
      "cell_type": "markdown",
      "source": [
        "**Example**"
      ],
      "metadata": {
        "id": "KFXRIEaeC9Pc"
      }
    },
    {
      "cell_type": "code",
      "source": [
        "import numpy as np\n",
        "a = np.array([2,3,5,6,7,8])\n",
        "print(a[0])\n"
      ],
      "metadata": {
        "colab": {
          "base_uri": "https://localhost:8080/"
        },
        "id": "gZMDZ0Rrmsev",
        "outputId": "b9277a4e-4a2c-4546-84f3-bbdb1e615463"
      },
      "execution_count": null,
      "outputs": [
        {
          "output_type": "stream",
          "name": "stdout",
          "text": [
            "2\n"
          ]
        }
      ]
    },
    {
      "cell_type": "markdown",
      "source": [
        "This code imports the NumPy library and creates a NumPy array called a with the elements [2, 3, 5, 6, 7, 8]. The print(a[0]) statement is used to access and print the first element of the array, which has an index of 0."
      ],
      "metadata": {
        "id": "6mOq-LtvDGje"
      }
    },
    {
      "cell_type": "markdown",
      "source": [
        "***index (negative)1-D Array***"
      ],
      "metadata": {
        "id": "asSXV76FE1hy"
      }
    },
    {
      "cell_type": "code",
      "source": [
        "import numpy as np\n",
        "a = np.array([2,3,5,6,7,8])\n",
        "print(a[-4])\n"
      ],
      "metadata": {
        "colab": {
          "base_uri": "https://localhost:8080/"
        },
        "id": "LsIyW1m6o_ZR",
        "outputId": "85792ac9-e77e-44a8-ee12-b820e7a4740d"
      },
      "execution_count": null,
      "outputs": [
        {
          "output_type": "stream",
          "name": "stdout",
          "text": [
            "5\n"
          ]
        }
      ]
    },
    {
      "cell_type": "markdown",
      "source": [
        "***(02) index Two-dimension Array***"
      ],
      "metadata": {
        "id": "19P6DoDPDf3S"
      }
    },
    {
      "cell_type": "markdown",
      "source": [
        "This code builds a 2-dimensional NumPy array called a and imports the NumPy library. There are three rows and six columns in the array a."
      ],
      "metadata": {
        "id": "pUajRv79F9YW"
      }
    },
    {
      "cell_type": "code",
      "source": [
        "import numpy as np\n",
        "a = np.array([[2,3,5,6,7,8],[9,11,12,13,14,15],[2,7,9,10,11,12]])\n",
        "print(a[2,4])\n"
      ],
      "metadata": {
        "colab": {
          "base_uri": "https://localhost:8080/"
        },
        "id": "Km1Ttxmkp5XS",
        "outputId": "b6ded299-23c2-46dc-acee-e73895d5e64f"
      },
      "execution_count": null,
      "outputs": [
        {
          "output_type": "stream",
          "name": "stdout",
          "text": [
            "11\n"
          ]
        }
      ]
    },
    {
      "cell_type": "markdown",
      "source": [
        "he third row (index 2) and fifth column (index 4) of the array an are intersected by an element, which can be accessed and printed using the print(a[2, 4]) command."
      ],
      "metadata": {
        "id": "iHgxKfUlGsnn"
      }
    },
    {
      "cell_type": "markdown",
      "source": [
        "**index (negative)2-D Array**"
      ],
      "metadata": {
        "id": "5P3wlk2IGx2a"
      }
    },
    {
      "cell_type": "markdown",
      "source": [
        "In this code, we have a 2-dimensional NumPy array called a with three rows and six columns"
      ],
      "metadata": {
        "id": "ODiC_PFmHxPC"
      }
    },
    {
      "cell_type": "code",
      "source": [
        "import numpy as np\n",
        "a = np.array([[2,3,5,6,7,8],[9,11,12,13,14,15],[2,7,9,10,11,12]])\n",
        "print(a[-3,-4])"
      ],
      "metadata": {
        "colab": {
          "base_uri": "https://localhost:8080/"
        },
        "id": "6n5qLVk9rn14",
        "outputId": "f72c781a-5d58-47fa-d230-e4f75d92bf47"
      },
      "execution_count": null,
      "outputs": [
        {
          "output_type": "stream",
          "name": "stdout",
          "text": [
            "5\n"
          ]
        }
      ]
    },
    {
      "cell_type": "markdown",
      "source": [
        "The print(a[-3, -4]) statement is used to access and print the element at the intersection of the third row from the end (index -3) and the fourth column from the end (index -4) of the array a."
      ],
      "metadata": {
        "id": "0UuBg_K8Hzmz"
      }
    },
    {
      "cell_type": "markdown",
      "source": [
        "**(03) index Three-dimension Array**"
      ],
      "metadata": {
        "id": "YVYTeiNYHNjF"
      }
    },
    {
      "cell_type": "markdown",
      "source": [
        "In this code, we have a 3-dimensional NumPy array called a. The array a has two blocks, each containing two rows and six columns"
      ],
      "metadata": {
        "id": "Qm8to5W2I5wp"
      }
    },
    {
      "cell_type": "code",
      "source": [
        "import numpy as np\n",
        "a = np.array([[[2,3,5,6,7,8],[9,11,12,13,14,15]],[[2,7,9,10,11,12],[13,14,15,16,17,18]]])\n",
        "print(a[1,1,2])"
      ],
      "metadata": {
        "colab": {
          "base_uri": "https://localhost:8080/"
        },
        "id": "YwkSQjvJsIdq",
        "outputId": "d5fb859e-1d8e-4d89-f6f5-51086840d39d"
      },
      "execution_count": null,
      "outputs": [
        {
          "output_type": "stream",
          "name": "stdout",
          "text": [
            "15\n"
          ]
        }
      ]
    },
    {
      "cell_type": "markdown",
      "source": [
        "The print(a[1, 1, 2]) statement is used to access and print the element at the intersection of the second block (index 1), second row (index 1), and third column (index 2) of the array a."
      ],
      "metadata": {
        "id": "7z0BYlcpI8Dh"
      }
    },
    {
      "cell_type": "markdown",
      "source": [
        "**index (negative)3-D Array**"
      ],
      "metadata": {
        "id": "T4g4OX1oJI85"
      }
    },
    {
      "cell_type": "code",
      "source": [
        "import numpy as np\n",
        "a = np.array([[[2,3,5,6,7,8],[9,11,12,13,14,15]],[[2,7,9,10,11,12],[13,14,15,16,17,18]]])\n",
        "print(a[-2,-1,2])"
      ],
      "metadata": {
        "colab": {
          "base_uri": "https://localhost:8080/"
        },
        "id": "aH9InbvctnyY",
        "outputId": "f9bb1e9b-ea31-4b35-bd77-9587643a9d86"
      },
      "execution_count": null,
      "outputs": [
        {
          "output_type": "stream",
          "name": "stdout",
          "text": [
            "12\n"
          ]
        }
      ]
    },
    {
      "cell_type": "markdown",
      "source": [
        "**(04) index Four-dimension Array**\n",
        "\n"
      ],
      "metadata": {
        "id": "DjJ8ixPKIHfu"
      }
    },
    {
      "cell_type": "code",
      "source": [
        "import numpy as np\n",
        "a = np.array([[[[2,3,5,6,7,8]]]])\n",
        "print(a[0,-1,0,2])"
      ],
      "metadata": {
        "colab": {
          "base_uri": "https://localhost:8080/"
        },
        "id": "UQTuKMIrt8aI",
        "outputId": "733e29f3-4242-4b6a-e017-ec57595aba57"
      },
      "execution_count": null,
      "outputs": [
        {
          "output_type": "stream",
          "name": "stdout",
          "text": [
            "5\n"
          ]
        }
      ]
    },
    {
      "cell_type": "markdown",
      "source": [
        "In this code, we have a 4-dimensional NumPy array called a. The array a contains a single element, which is a 1-dimensional array [2, 3, 5, 6, 7, 8]. The shape of a is (1, 1, 1, 6).\n",
        "\n",
        "The print(a[0, -1, 0, 2]) statement is used to access and print the element at the intersection of the first dimension with index 0, the second dimension with index -1, the third dimension with index 0, and the fourth dimension with index 2 of the array a."
      ],
      "metadata": {
        "id": "bXk-n34TJZWi"
      }
    },
    {
      "cell_type": "markdown",
      "source": [
        "**Update the array by indexing**"
      ],
      "metadata": {
        "id": "AWwwxc-lK2wo"
      }
    },
    {
      "cell_type": "code",
      "source": [
        "import numpy as np\n",
        "arr = np.array([1,2,3,4,5])\n",
        "# Accessing single element\n",
        "print(arr[3])\n",
        "# Update single element\n",
        "arr[3]=12\n",
        "print(arr)\n"
      ],
      "metadata": {
        "colab": {
          "base_uri": "https://localhost:8080/"
        },
        "id": "44AoIbnN9EB9",
        "outputId": "e203ac42-2da5-4c4f-ef71-f9a50485b34e"
      },
      "execution_count": null,
      "outputs": [
        {
          "output_type": "stream",
          "name": "stdout",
          "text": [
            "4\n",
            "[ 1  2  3 12  5]\n"
          ]
        }
      ]
    },
    {
      "cell_type": "markdown",
      "source": [
        "# Boolean Indexing:\n",
        "Boolean indexing involves using a boolean array of the same shape as the original array to select elements.\n",
        "Elements corresponding to True values in the boolean array are selected."
      ],
      "metadata": {
        "id": "oYeMXcvKLVI-"
      }
    },
    {
      "cell_type": "code",
      "source": [
        "import numpy as np\n",
        "arr = np.array ([1,2,3,4,5])\n",
        "bool_arr= np.array([True , False ,True , False ,True ])\n",
        "print(arr[bool_arr])\n",
        "\n",
        "arr[bool_arr]=10\n",
        "print(arr)"
      ],
      "metadata": {
        "colab": {
          "base_uri": "https://localhost:8080/"
        },
        "id": "Cemo7ZQW7aRc",
        "outputId": "7fdf7aa0-ffd4-4d35-a182-3d503908eafe"
      },
      "execution_count": null,
      "outputs": [
        {
          "output_type": "stream",
          "name": "stdout",
          "text": [
            "[1 3 5]\n",
            "[10  2 10  4 10]\n"
          ]
        }
      ]
    },
    {
      "cell_type": "code",
      "source": [
        "import numpy as np\n",
        "A = np.array ([[[34,25,16,78,4,9],[45,33,22,11,56,66]],[[90,55,53,23,12,23],[23,65,45,83,27,44]]])\n",
        "print(A)\n",
        "d=np.ndim(A)\n",
        "print(\"Dimensional Array=\",d)\n",
        "print(\"Array shape=\",np.shape(A))\n",
        "#print(\"Reshape=\",np.reshape(2,12))\n",
        "\n",
        "print(\"size=\", np.size(A))\n",
        "print()\n",
        "print(\"by index=\",A[1])\n",
        "print(\"Array 1 index 0=\",A[1,0])\n",
        "print(\"Array 1 by index 1=\",A[1,1])\n",
        "print()\n",
        "print(\"by index=\",A[0])\n",
        "print(\"Array 0  index 0=\",A[0,0])\n",
        "print()\n",
        "print(\"Array 0  index 1=\",A[0,1])\n",
        "print(A[0,1,2])\n",
        "print(A[0,1,3])\n",
        "print(A[0,1,0])\n",
        "print(A[0,0,4])\n",
        "\n",
        "print(A[1,1,2])\n",
        "print(A[1,1,3])\n",
        "print(A[1,1,0])\n",
        "print(A[1,1,4])\n"
      ],
      "metadata": {
        "colab": {
          "base_uri": "https://localhost:8080/"
        },
        "id": "T8wGo2eg92W1",
        "outputId": "c97bfc99-1b7b-46a0-99f1-eaee6bac4937"
      },
      "execution_count": null,
      "outputs": [
        {
          "output_type": "stream",
          "name": "stdout",
          "text": [
            "[[[34 25 16 78  4  9]\n",
            "  [45 33 22 11 56 66]]\n",
            "\n",
            " [[90 55 53 23 12 23]\n",
            "  [23 65 45 83 27 44]]]\n",
            "Dimensional Array= 3\n",
            "Array shape= (2, 2, 6)\n",
            "size= 24\n",
            "\n",
            "by index= [[90 55 53 23 12 23]\n",
            " [23 65 45 83 27 44]]\n",
            "Array 1 index 0= [90 55 53 23 12 23]\n",
            "Array 1 by index 1= [23 65 45 83 27 44]\n",
            "\n",
            "by index= [[34 25 16 78  4  9]\n",
            " [45 33 22 11 56 66]]\n",
            "Array 0  index 0= [34 25 16 78  4  9]\n",
            "\n",
            "Array 0  index 1= [45 33 22 11 56 66]\n",
            "22\n",
            "11\n",
            "45\n",
            "4\n",
            "45\n",
            "83\n",
            "23\n",
            "27\n"
          ]
        }
      ]
    },
    {
      "cell_type": "code",
      "source": [
        "A = np.array ([[[[34,25,16,78,4,9],[45,33,22,11,56,66]],[[90,55,53,23,12,23],[23,65,45,83,27,44]],[[5,4,3,22,8,67],[7,6,4,3,7,5]]]])\n",
        "print(A)\n",
        "print(\"Slicing\")\n",
        "print(A[0:4:2, 1:3:2])"
      ],
      "metadata": {
        "colab": {
          "base_uri": "https://localhost:8080/"
        },
        "id": "2cUpdk0GEjpy",
        "outputId": "aadc6803-a280-4e7c-8f17-2314a1e07efb"
      },
      "execution_count": null,
      "outputs": [
        {
          "output_type": "stream",
          "name": "stdout",
          "text": [
            "[[[[34 25 16 78  4  9]\n",
            "   [45 33 22 11 56 66]]\n",
            "\n",
            "  [[90 55 53 23 12 23]\n",
            "   [23 65 45 83 27 44]]\n",
            "\n",
            "  [[ 5  4  3 22  8 67]\n",
            "   [ 7  6  4  3  7  5]]]]\n",
            "Slicing\n",
            "[[[[90 55 53 23 12 23]\n",
            "   [23 65 45 83 27 44]]]]\n"
          ]
        }
      ]
    }
  ]
}